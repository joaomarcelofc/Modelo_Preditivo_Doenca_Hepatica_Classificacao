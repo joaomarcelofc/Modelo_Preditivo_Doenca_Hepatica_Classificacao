{
 "cells": [
  {
   "cell_type": "markdown",
   "id": "aa105311",
   "metadata": {},
   "source": [
    "## <font>Processo de Construção, Treinamento, Avaliação e Seleção de Modelos Para Classificação</font>\n",
    "\n",
    "## Modelo Preditivo de Desenvolvimento de Doença Hepática"
   ]
  },
  {
   "cell_type": "markdown",
   "id": "931760a3",
   "metadata": {},
   "source": [
    "![title](imagens/ilustracao.jpg)"
   ]
  },
  {
   "cell_type": "markdown",
   "id": "b8226fcc",
   "metadata": {},
   "source": [
    "## Objetivo\n",
    "\n",
    "O objetivo é trazer um passo a passo completo do processo de construção, treinamento, \n",
    "avaliação e seleção de modelos para classificação, sendo que todo o processo será demonstrado de uma  ponta a outra, desde a definição do problema de negócio, até as previsões com o modelo treinado.\n"
   ]
  },
  {
   "cell_type": "markdown",
   "id": "9b8bd435",
   "metadata": {},
   "source": [
    "## Definição do problema e fonte de dados\n",
    "\n",
    "Tem aumentado de forma contínua o número de pacientes com doença hepática devido ao consumo excessivo de álcool, inalação de gases nocivos, ingestão de alimentos contaminados e uso de drogas e anabolizantes. Neste mini-projeto vamos construir um modelo de Machine Learning capaz de prever se um paciente vai ou não desenvolver uma doença hepática com base em diversas características do paciente. Esse modelo pode ajudar médicos, hospitais ou governos a planejar melhor o orçamento de gastos de saúde ou mesmo criar políticas de prevenção. Como nosso objetivo é prever uma classe (sim ou não), usaremos aprendizado supervisionado para classificação, criando diferentes versões do modelo com diferentes algoritmos e passaremos por todo o processo de Machine Learning de ponta a ponta. Usaremos como fonte de dados o dataset disponível no link abaixo:\n",
    "\n",
    "\n",
    "https://archive.ics.uci.edu/ml/datasets/ILPD+(Indian+Liver+Patient+Dataset)\n"
   ]
  },
  {
   "cell_type": "code",
   "execution_count": 2,
   "id": "434e6bee",
   "metadata": {},
   "outputs": [
    {
     "name": "stdout",
     "output_type": "stream",
     "text": [
      "Versão da Linguagem Python Usada Neste Jupyter Notebook: 3.9.13\n"
     ]
    }
   ],
   "source": [
    "# Versão da Linguagem Python\n",
    "from platform import python_version\n",
    "print('Versão da Linguagem Python Usada Neste Jupyter Notebook:', python_version())"
   ]
  },
  {
   "cell_type": "code",
   "execution_count": 3,
   "id": "18822d31",
   "metadata": {},
   "outputs": [],
   "source": [
    "# Imports\n",
    "import joblib\n",
    "import pickle\n",
    "import numpy as np\n",
    "import pandas as pd\n",
    "import seaborn as sns\n",
    "from matplotlib import pyplot as plt\n",
    "import sklearn\n",
    "from sklearn.model_selection import train_test_split\n",
    "from sklearn.model_selection import GridSearchCV\n",
    "from sklearn.model_selection import cross_val_score\n",
    "from sklearn.model_selection import RandomizedSearchCV\n",
    "from sklearn.linear_model import LogisticRegression\n",
    "from sklearn.ensemble import RandomForestClassifier\n",
    "from sklearn.neighbors import KNeighborsClassifier\n",
    "from sklearn.tree import DecisionTreeClassifier\n",
    "from sklearn.svm import SVC\n",
    "from sklearn.metrics import roc_curve, auc, roc_auc_score, confusion_matrix\n",
    "from sklearn.metrics import accuracy_score\n",
    "%matplotlib inline \n",
    "import warnings\n",
    "warnings.filterwarnings(\"ignore\")"
   ]
  },
  {
   "cell_type": "markdown",
   "id": "b41d47b3",
   "metadata": {},
   "source": [
    "## Carregando o Conjunto de dados"
   ]
  },
  {
   "cell_type": "code",
   "execution_count": 4,
   "id": "95c4b42b",
   "metadata": {},
   "outputs": [],
   "source": [
    "# Carregando os dados\n",
    "dados = pd.read_csv('dados/dataset.csv')"
   ]
  },
  {
   "cell_type": "code",
   "execution_count": 5,
   "id": "690b2038",
   "metadata": {},
   "outputs": [
    {
     "data": {
      "text/plain": [
       "(583, 11)"
      ]
     },
     "execution_count": 5,
     "metadata": {},
     "output_type": "execute_result"
    }
   ],
   "source": [
    "# Shape\n",
    "dados.shape"
   ]
  },
  {
   "cell_type": "code",
   "execution_count": 6,
   "id": "1cbe73a4",
   "metadata": {},
   "outputs": [
    {
     "data": {
      "text/plain": [
       "Index(['Age', 'Gender', 'Total_Bilirubin', 'Direct_Bilirubin',\n",
       "       'Alkaline_Phosphotase', 'Alamine_Aminotransferase',\n",
       "       'Aspartate_Aminotransferase', 'Total_Protiens', 'Albumin',\n",
       "       'Albumin_and_Globulin_Ratio', 'Dataset'],\n",
       "      dtype='object')"
      ]
     },
     "execution_count": 6,
     "metadata": {},
     "output_type": "execute_result"
    }
   ],
   "source": [
    "# Colunas\n",
    "dados.columns"
   ]
  },
  {
   "cell_type": "code",
   "execution_count": 7,
   "id": "e1887304",
   "metadata": {},
   "outputs": [
    {
     "data": {
      "text/html": [
       "<div>\n",
       "<style scoped>\n",
       "    .dataframe tbody tr th:only-of-type {\n",
       "        vertical-align: middle;\n",
       "    }\n",
       "\n",
       "    .dataframe tbody tr th {\n",
       "        vertical-align: top;\n",
       "    }\n",
       "\n",
       "    .dataframe thead th {\n",
       "        text-align: right;\n",
       "    }\n",
       "</style>\n",
       "<table border=\"1\" class=\"dataframe\">\n",
       "  <thead>\n",
       "    <tr style=\"text-align: right;\">\n",
       "      <th></th>\n",
       "      <th>Age</th>\n",
       "      <th>Gender</th>\n",
       "      <th>Total_Bilirubin</th>\n",
       "      <th>Direct_Bilirubin</th>\n",
       "      <th>Alkaline_Phosphotase</th>\n",
       "      <th>Alamine_Aminotransferase</th>\n",
       "      <th>Aspartate_Aminotransferase</th>\n",
       "      <th>Total_Protiens</th>\n",
       "      <th>Albumin</th>\n",
       "      <th>Albumin_and_Globulin_Ratio</th>\n",
       "      <th>Dataset</th>\n",
       "    </tr>\n",
       "  </thead>\n",
       "  <tbody>\n",
       "    <tr>\n",
       "      <th>398</th>\n",
       "      <td>38</td>\n",
       "      <td>Male</td>\n",
       "      <td>0.8</td>\n",
       "      <td>0.2</td>\n",
       "      <td>208</td>\n",
       "      <td>25</td>\n",
       "      <td>50</td>\n",
       "      <td>7.1</td>\n",
       "      <td>3.7</td>\n",
       "      <td>1.0</td>\n",
       "      <td>1</td>\n",
       "    </tr>\n",
       "    <tr>\n",
       "      <th>93</th>\n",
       "      <td>60</td>\n",
       "      <td>Male</td>\n",
       "      <td>5.8</td>\n",
       "      <td>2.7</td>\n",
       "      <td>204</td>\n",
       "      <td>220</td>\n",
       "      <td>400</td>\n",
       "      <td>7.0</td>\n",
       "      <td>3.0</td>\n",
       "      <td>0.7</td>\n",
       "      <td>1</td>\n",
       "    </tr>\n",
       "    <tr>\n",
       "      <th>531</th>\n",
       "      <td>40</td>\n",
       "      <td>Male</td>\n",
       "      <td>30.8</td>\n",
       "      <td>18.3</td>\n",
       "      <td>285</td>\n",
       "      <td>110</td>\n",
       "      <td>186</td>\n",
       "      <td>7.9</td>\n",
       "      <td>2.7</td>\n",
       "      <td>0.5</td>\n",
       "      <td>1</td>\n",
       "    </tr>\n",
       "    <tr>\n",
       "      <th>23</th>\n",
       "      <td>40</td>\n",
       "      <td>Male</td>\n",
       "      <td>1.9</td>\n",
       "      <td>1.0</td>\n",
       "      <td>231</td>\n",
       "      <td>16</td>\n",
       "      <td>55</td>\n",
       "      <td>4.3</td>\n",
       "      <td>1.6</td>\n",
       "      <td>0.6</td>\n",
       "      <td>1</td>\n",
       "    </tr>\n",
       "    <tr>\n",
       "      <th>53</th>\n",
       "      <td>38</td>\n",
       "      <td>Male</td>\n",
       "      <td>1.1</td>\n",
       "      <td>0.3</td>\n",
       "      <td>198</td>\n",
       "      <td>86</td>\n",
       "      <td>150</td>\n",
       "      <td>6.3</td>\n",
       "      <td>3.5</td>\n",
       "      <td>1.2</td>\n",
       "      <td>1</td>\n",
       "    </tr>\n",
       "    <tr>\n",
       "      <th>349</th>\n",
       "      <td>49</td>\n",
       "      <td>Female</td>\n",
       "      <td>0.8</td>\n",
       "      <td>0.2</td>\n",
       "      <td>158</td>\n",
       "      <td>19</td>\n",
       "      <td>15</td>\n",
       "      <td>6.6</td>\n",
       "      <td>3.6</td>\n",
       "      <td>1.2</td>\n",
       "      <td>2</td>\n",
       "    </tr>\n",
       "    <tr>\n",
       "      <th>404</th>\n",
       "      <td>22</td>\n",
       "      <td>Male</td>\n",
       "      <td>0.8</td>\n",
       "      <td>0.2</td>\n",
       "      <td>198</td>\n",
       "      <td>20</td>\n",
       "      <td>26</td>\n",
       "      <td>6.8</td>\n",
       "      <td>3.9</td>\n",
       "      <td>1.3</td>\n",
       "      <td>1</td>\n",
       "    </tr>\n",
       "    <tr>\n",
       "      <th>560</th>\n",
       "      <td>66</td>\n",
       "      <td>Male</td>\n",
       "      <td>15.2</td>\n",
       "      <td>7.7</td>\n",
       "      <td>356</td>\n",
       "      <td>321</td>\n",
       "      <td>562</td>\n",
       "      <td>6.5</td>\n",
       "      <td>2.2</td>\n",
       "      <td>0.4</td>\n",
       "      <td>1</td>\n",
       "    </tr>\n",
       "    <tr>\n",
       "      <th>545</th>\n",
       "      <td>45</td>\n",
       "      <td>Female</td>\n",
       "      <td>0.7</td>\n",
       "      <td>0.2</td>\n",
       "      <td>153</td>\n",
       "      <td>41</td>\n",
       "      <td>42</td>\n",
       "      <td>4.5</td>\n",
       "      <td>2.2</td>\n",
       "      <td>0.9</td>\n",
       "      <td>2</td>\n",
       "    </tr>\n",
       "    <tr>\n",
       "      <th>421</th>\n",
       "      <td>26</td>\n",
       "      <td>Male</td>\n",
       "      <td>1.0</td>\n",
       "      <td>0.3</td>\n",
       "      <td>163</td>\n",
       "      <td>48</td>\n",
       "      <td>71</td>\n",
       "      <td>7.1</td>\n",
       "      <td>3.7</td>\n",
       "      <td>1.0</td>\n",
       "      <td>2</td>\n",
       "    </tr>\n",
       "  </tbody>\n",
       "</table>\n",
       "</div>"
      ],
      "text/plain": [
       "     Age  Gender  Total_Bilirubin  Direct_Bilirubin  Alkaline_Phosphotase  \\\n",
       "398   38    Male              0.8               0.2                   208   \n",
       "93    60    Male              5.8               2.7                   204   \n",
       "531   40    Male             30.8              18.3                   285   \n",
       "23    40    Male              1.9               1.0                   231   \n",
       "53    38    Male              1.1               0.3                   198   \n",
       "349   49  Female              0.8               0.2                   158   \n",
       "404   22    Male              0.8               0.2                   198   \n",
       "560   66    Male             15.2               7.7                   356   \n",
       "545   45  Female              0.7               0.2                   153   \n",
       "421   26    Male              1.0               0.3                   163   \n",
       "\n",
       "     Alamine_Aminotransferase  Aspartate_Aminotransferase  Total_Protiens  \\\n",
       "398                        25                          50             7.1   \n",
       "93                        220                         400             7.0   \n",
       "531                       110                         186             7.9   \n",
       "23                         16                          55             4.3   \n",
       "53                         86                         150             6.3   \n",
       "349                        19                          15             6.6   \n",
       "404                        20                          26             6.8   \n",
       "560                       321                         562             6.5   \n",
       "545                        41                          42             4.5   \n",
       "421                        48                          71             7.1   \n",
       "\n",
       "     Albumin  Albumin_and_Globulin_Ratio  Dataset  \n",
       "398      3.7                         1.0        1  \n",
       "93       3.0                         0.7        1  \n",
       "531      2.7                         0.5        1  \n",
       "23       1.6                         0.6        1  \n",
       "53       3.5                         1.2        1  \n",
       "349      3.6                         1.2        2  \n",
       "404      3.9                         1.3        1  \n",
       "560      2.2                         0.4        1  \n",
       "545      2.2                         0.9        2  \n",
       "421      3.7                         1.0        2  "
      ]
     },
     "execution_count": 7,
     "metadata": {},
     "output_type": "execute_result"
    }
   ],
   "source": [
    "# Amostra dos dados\n",
    "dados.sample(10)"
   ]
  },
  {
   "cell_type": "markdown",
   "id": "f4eaf6e5",
   "metadata": {},
   "source": [
    "## Análise Exploratória de Dados"
   ]
  },
  {
   "cell_type": "code",
   "execution_count": 8,
   "id": "7612818f",
   "metadata": {},
   "outputs": [
    {
     "data": {
      "text/plain": [
       "Age                             int64\n",
       "Gender                         object\n",
       "Total_Bilirubin               float64\n",
       "Direct_Bilirubin              float64\n",
       "Alkaline_Phosphotase            int64\n",
       "Alamine_Aminotransferase        int64\n",
       "Aspartate_Aminotransferase      int64\n",
       "Total_Protiens                float64\n",
       "Albumin                       float64\n",
       "Albumin_and_Globulin_Ratio    float64\n",
       "Dataset                         int64\n",
       "dtype: object"
      ]
     },
     "execution_count": 8,
     "metadata": {},
     "output_type": "execute_result"
    }
   ],
   "source": [
    "# Tipo de dados\n",
    "dados.dtypes"
   ]
  },
  {
   "cell_type": "code",
   "execution_count": 9,
   "id": "d5451493",
   "metadata": {},
   "outputs": [
    {
     "data": {
      "text/plain": [
       "Gender    object\n",
       "dtype: object"
      ]
     },
     "execution_count": 9,
     "metadata": {},
     "output_type": "execute_result"
    }
   ],
   "source": [
    "# Variáveis categóricas\n",
    "dados.dtypes[dados.dtypes == 'object']"
   ]
  },
  {
   "cell_type": "code",
   "execution_count": 10,
   "id": "27f63c28",
   "metadata": {},
   "outputs": [
    {
     "data": {
      "text/plain": [
       "Age                             int64\n",
       "Total_Bilirubin               float64\n",
       "Direct_Bilirubin              float64\n",
       "Alkaline_Phosphotase            int64\n",
       "Alamine_Aminotransferase        int64\n",
       "Aspartate_Aminotransferase      int64\n",
       "Total_Protiens                float64\n",
       "Albumin                       float64\n",
       "Albumin_and_Globulin_Ratio    float64\n",
       "Dataset                         int64\n",
       "dtype: object"
      ]
     },
     "execution_count": 10,
     "metadata": {},
     "output_type": "execute_result"
    }
   ],
   "source": [
    "# Variáveis não categóricas\n",
    "dados.dtypes[dados.dtypes != 'object']"
   ]
  },
  {
   "cell_type": "markdown",
   "id": "85cb2632",
   "metadata": {},
   "source": [
    "### Exploração das Variáveis Numéricas"
   ]
  },
  {
   "cell_type": "code",
   "execution_count": 11,
   "id": "bba63bb3",
   "metadata": {},
   "outputs": [
    {
     "data": {
      "text/html": [
       "<div>\n",
       "<style scoped>\n",
       "    .dataframe tbody tr th:only-of-type {\n",
       "        vertical-align: middle;\n",
       "    }\n",
       "\n",
       "    .dataframe tbody tr th {\n",
       "        vertical-align: top;\n",
       "    }\n",
       "\n",
       "    .dataframe thead th {\n",
       "        text-align: right;\n",
       "    }\n",
       "</style>\n",
       "<table border=\"1\" class=\"dataframe\">\n",
       "  <thead>\n",
       "    <tr style=\"text-align: right;\">\n",
       "      <th></th>\n",
       "      <th>Age</th>\n",
       "      <th>Total_Bilirubin</th>\n",
       "      <th>Direct_Bilirubin</th>\n",
       "      <th>Alkaline_Phosphotase</th>\n",
       "      <th>Alamine_Aminotransferase</th>\n",
       "      <th>Aspartate_Aminotransferase</th>\n",
       "      <th>Total_Protiens</th>\n",
       "      <th>Albumin</th>\n",
       "      <th>Albumin_and_Globulin_Ratio</th>\n",
       "      <th>Dataset</th>\n",
       "    </tr>\n",
       "  </thead>\n",
       "  <tbody>\n",
       "    <tr>\n",
       "      <th>count</th>\n",
       "      <td>583.000000</td>\n",
       "      <td>583.000000</td>\n",
       "      <td>583.000000</td>\n",
       "      <td>583.000000</td>\n",
       "      <td>583.000000</td>\n",
       "      <td>583.000000</td>\n",
       "      <td>583.000000</td>\n",
       "      <td>583.000000</td>\n",
       "      <td>579.000000</td>\n",
       "      <td>583.000000</td>\n",
       "    </tr>\n",
       "    <tr>\n",
       "      <th>mean</th>\n",
       "      <td>44.746141</td>\n",
       "      <td>3.298799</td>\n",
       "      <td>1.486106</td>\n",
       "      <td>290.576329</td>\n",
       "      <td>80.713551</td>\n",
       "      <td>109.910806</td>\n",
       "      <td>6.483190</td>\n",
       "      <td>3.141852</td>\n",
       "      <td>0.947064</td>\n",
       "      <td>1.286449</td>\n",
       "    </tr>\n",
       "    <tr>\n",
       "      <th>std</th>\n",
       "      <td>16.189833</td>\n",
       "      <td>6.209522</td>\n",
       "      <td>2.808498</td>\n",
       "      <td>242.937989</td>\n",
       "      <td>182.620356</td>\n",
       "      <td>288.918529</td>\n",
       "      <td>1.085451</td>\n",
       "      <td>0.795519</td>\n",
       "      <td>0.319592</td>\n",
       "      <td>0.452490</td>\n",
       "    </tr>\n",
       "    <tr>\n",
       "      <th>min</th>\n",
       "      <td>4.000000</td>\n",
       "      <td>0.400000</td>\n",
       "      <td>0.100000</td>\n",
       "      <td>63.000000</td>\n",
       "      <td>10.000000</td>\n",
       "      <td>10.000000</td>\n",
       "      <td>2.700000</td>\n",
       "      <td>0.900000</td>\n",
       "      <td>0.300000</td>\n",
       "      <td>1.000000</td>\n",
       "    </tr>\n",
       "    <tr>\n",
       "      <th>25%</th>\n",
       "      <td>33.000000</td>\n",
       "      <td>0.800000</td>\n",
       "      <td>0.200000</td>\n",
       "      <td>175.500000</td>\n",
       "      <td>23.000000</td>\n",
       "      <td>25.000000</td>\n",
       "      <td>5.800000</td>\n",
       "      <td>2.600000</td>\n",
       "      <td>0.700000</td>\n",
       "      <td>1.000000</td>\n",
       "    </tr>\n",
       "    <tr>\n",
       "      <th>50%</th>\n",
       "      <td>45.000000</td>\n",
       "      <td>1.000000</td>\n",
       "      <td>0.300000</td>\n",
       "      <td>208.000000</td>\n",
       "      <td>35.000000</td>\n",
       "      <td>42.000000</td>\n",
       "      <td>6.600000</td>\n",
       "      <td>3.100000</td>\n",
       "      <td>0.930000</td>\n",
       "      <td>1.000000</td>\n",
       "    </tr>\n",
       "    <tr>\n",
       "      <th>75%</th>\n",
       "      <td>58.000000</td>\n",
       "      <td>2.600000</td>\n",
       "      <td>1.300000</td>\n",
       "      <td>298.000000</td>\n",
       "      <td>60.500000</td>\n",
       "      <td>87.000000</td>\n",
       "      <td>7.200000</td>\n",
       "      <td>3.800000</td>\n",
       "      <td>1.100000</td>\n",
       "      <td>2.000000</td>\n",
       "    </tr>\n",
       "    <tr>\n",
       "      <th>max</th>\n",
       "      <td>90.000000</td>\n",
       "      <td>75.000000</td>\n",
       "      <td>19.700000</td>\n",
       "      <td>2110.000000</td>\n",
       "      <td>2000.000000</td>\n",
       "      <td>4929.000000</td>\n",
       "      <td>9.600000</td>\n",
       "      <td>5.500000</td>\n",
       "      <td>2.800000</td>\n",
       "      <td>2.000000</td>\n",
       "    </tr>\n",
       "  </tbody>\n",
       "</table>\n",
       "</div>"
      ],
      "text/plain": [
       "              Age  Total_Bilirubin  Direct_Bilirubin  Alkaline_Phosphotase  \\\n",
       "count  583.000000       583.000000        583.000000            583.000000   \n",
       "mean    44.746141         3.298799          1.486106            290.576329   \n",
       "std     16.189833         6.209522          2.808498            242.937989   \n",
       "min      4.000000         0.400000          0.100000             63.000000   \n",
       "25%     33.000000         0.800000          0.200000            175.500000   \n",
       "50%     45.000000         1.000000          0.300000            208.000000   \n",
       "75%     58.000000         2.600000          1.300000            298.000000   \n",
       "max     90.000000        75.000000         19.700000           2110.000000   \n",
       "\n",
       "       Alamine_Aminotransferase  Aspartate_Aminotransferase  Total_Protiens  \\\n",
       "count                583.000000                  583.000000      583.000000   \n",
       "mean                  80.713551                  109.910806        6.483190   \n",
       "std                  182.620356                  288.918529        1.085451   \n",
       "min                   10.000000                   10.000000        2.700000   \n",
       "25%                   23.000000                   25.000000        5.800000   \n",
       "50%                   35.000000                   42.000000        6.600000   \n",
       "75%                   60.500000                   87.000000        7.200000   \n",
       "max                 2000.000000                 4929.000000        9.600000   \n",
       "\n",
       "          Albumin  Albumin_and_Globulin_Ratio     Dataset  \n",
       "count  583.000000                  579.000000  583.000000  \n",
       "mean     3.141852                    0.947064    1.286449  \n",
       "std      0.795519                    0.319592    0.452490  \n",
       "min      0.900000                    0.300000    1.000000  \n",
       "25%      2.600000                    0.700000    1.000000  \n",
       "50%      3.100000                    0.930000    1.000000  \n",
       "75%      3.800000                    1.100000    2.000000  \n",
       "max      5.500000                    2.800000    2.000000  "
      ]
     },
     "execution_count": 11,
     "metadata": {},
     "output_type": "execute_result"
    }
   ],
   "source": [
    "dados.describe()"
   ]
  },
  {
   "cell_type": "code",
   "execution_count": 12,
   "id": "8bea2304",
   "metadata": {},
   "outputs": [
    {
     "data": {
      "image/png": "[encoded data removed]",
      "text/plain": [
       "<Figure size 1500x1500 with 12 Axes>"
      ]
     },
     "metadata": {},
     "output_type": "display_data"
    }
   ],
   "source": [
    "# plot\n",
    "dados.hist(figsize = (15,15), bins = 10)\n",
    "plt.show()"
   ]
  },
  {
   "cell_type": "markdown",
   "id": "5033e9f6",
   "metadata": {},
   "source": [
    "Parece que há outlier nas variáveis **Alamine_Aminotransferase**, **Aspartate_Aminotransferase**, pois o valor máximo é muito mais alto que o valor médio."
   ]
  },
  {
   "cell_type": "markdown",
   "id": "2311ad9c",
   "metadata": {},
   "source": [
    "A coluna dataset (variável target) tem '1' para doença hepática e '2' para nenhuma doença hepática. Vamos ajustar a variável colocando valores mais fáceis de interpretar. A classe negativa (não tem a doença) será zero."
   ]
  },
  {
   "cell_type": "code",
   "execution_count": 13,
   "id": "a194fe14",
   "metadata": {},
   "outputs": [],
   "source": [
    "# Função para ajustar a variável target\n",
    "def ajusta_var(x):\n",
    "    if x == 2:\n",
    "        return 0\n",
    "    return 1"
   ]
  },
  {
   "cell_type": "code",
   "execution_count": 14,
   "id": "db7e796d",
   "metadata": {},
   "outputs": [],
   "source": [
    "# Aplicando a função\n",
    "dados['Dataset'] = dados['Dataset'].map(ajusta_var)"
   ]
  },
  {
   "cell_type": "code",
   "execution_count": 15,
   "id": "94153133",
   "metadata": {},
   "outputs": [],
   "source": [
    "# Ajustando o nome da variável target\n",
    "dados.rename({'Dataset': 'Target'}, axis = 'columns', inplace = True)"
   ]
  },
  {
   "cell_type": "code",
   "execution_count": 16,
   "id": "73cfb9b7",
   "metadata": {},
   "outputs": [
    {
     "data": {
      "text/html": [
       "<div>\n",
       "<style scoped>\n",
       "    .dataframe tbody tr th:only-of-type {\n",
       "        vertical-align: middle;\n",
       "    }\n",
       "\n",
       "    .dataframe tbody tr th {\n",
       "        vertical-align: top;\n",
       "    }\n",
       "\n",
       "    .dataframe thead th {\n",
       "        text-align: right;\n",
       "    }\n",
       "</style>\n",
       "<table border=\"1\" class=\"dataframe\">\n",
       "  <thead>\n",
       "    <tr style=\"text-align: right;\">\n",
       "      <th></th>\n",
       "      <th>Age</th>\n",
       "      <th>Gender</th>\n",
       "      <th>Total_Bilirubin</th>\n",
       "      <th>Direct_Bilirubin</th>\n",
       "      <th>Alkaline_Phosphotase</th>\n",
       "      <th>Alamine_Aminotransferase</th>\n",
       "      <th>Aspartate_Aminotransferase</th>\n",
       "      <th>Total_Protiens</th>\n",
       "      <th>Albumin</th>\n",
       "      <th>Albumin_and_Globulin_Ratio</th>\n",
       "      <th>Target</th>\n",
       "    </tr>\n",
       "  </thead>\n",
       "  <tbody>\n",
       "    <tr>\n",
       "      <th>167</th>\n",
       "      <td>47</td>\n",
       "      <td>Female</td>\n",
       "      <td>3.0</td>\n",
       "      <td>1.5</td>\n",
       "      <td>292</td>\n",
       "      <td>64</td>\n",
       "      <td>67</td>\n",
       "      <td>5.6</td>\n",
       "      <td>1.8</td>\n",
       "      <td>0.47</td>\n",
       "      <td>1</td>\n",
       "    </tr>\n",
       "    <tr>\n",
       "      <th>238</th>\n",
       "      <td>35</td>\n",
       "      <td>Female</td>\n",
       "      <td>0.9</td>\n",
       "      <td>0.2</td>\n",
       "      <td>190</td>\n",
       "      <td>40</td>\n",
       "      <td>35</td>\n",
       "      <td>7.3</td>\n",
       "      <td>4.7</td>\n",
       "      <td>1.80</td>\n",
       "      <td>0</td>\n",
       "    </tr>\n",
       "    <tr>\n",
       "      <th>367</th>\n",
       "      <td>60</td>\n",
       "      <td>Male</td>\n",
       "      <td>2.2</td>\n",
       "      <td>1.0</td>\n",
       "      <td>271</td>\n",
       "      <td>45</td>\n",
       "      <td>52</td>\n",
       "      <td>6.1</td>\n",
       "      <td>2.9</td>\n",
       "      <td>0.90</td>\n",
       "      <td>0</td>\n",
       "    </tr>\n",
       "    <tr>\n",
       "      <th>392</th>\n",
       "      <td>41</td>\n",
       "      <td>Male</td>\n",
       "      <td>7.5</td>\n",
       "      <td>4.3</td>\n",
       "      <td>149</td>\n",
       "      <td>94</td>\n",
       "      <td>92</td>\n",
       "      <td>6.3</td>\n",
       "      <td>3.1</td>\n",
       "      <td>0.90</td>\n",
       "      <td>1</td>\n",
       "    </tr>\n",
       "    <tr>\n",
       "      <th>534</th>\n",
       "      <td>39</td>\n",
       "      <td>Male</td>\n",
       "      <td>1.6</td>\n",
       "      <td>0.8</td>\n",
       "      <td>230</td>\n",
       "      <td>88</td>\n",
       "      <td>74</td>\n",
       "      <td>8.0</td>\n",
       "      <td>4.0</td>\n",
       "      <td>1.00</td>\n",
       "      <td>0</td>\n",
       "    </tr>\n",
       "  </tbody>\n",
       "</table>\n",
       "</div>"
      ],
      "text/plain": [
       "     Age  Gender  Total_Bilirubin  Direct_Bilirubin  Alkaline_Phosphotase  \\\n",
       "167   47  Female              3.0               1.5                   292   \n",
       "238   35  Female              0.9               0.2                   190   \n",
       "367   60    Male              2.2               1.0                   271   \n",
       "392   41    Male              7.5               4.3                   149   \n",
       "534   39    Male              1.6               0.8                   230   \n",
       "\n",
       "     Alamine_Aminotransferase  Aspartate_Aminotransferase  Total_Protiens  \\\n",
       "167                        64                          67             5.6   \n",
       "238                        40                          35             7.3   \n",
       "367                        45                          52             6.1   \n",
       "392                        94                          92             6.3   \n",
       "534                        88                          74             8.0   \n",
       "\n",
       "     Albumin  Albumin_and_Globulin_Ratio  Target  \n",
       "167      1.8                        0.47       1  \n",
       "238      4.7                        1.80       0  \n",
       "367      2.9                        0.90       0  \n",
       "392      3.1                        0.90       1  \n",
       "534      4.0                        1.00       0  "
      ]
     },
     "execution_count": 16,
     "metadata": {},
     "output_type": "execute_result"
    }
   ],
   "source": [
    "dados.sample(5)"
   ]
  },
  {
   "cell_type": "code",
   "execution_count": 17,
   "id": "b85f677e",
   "metadata": {},
   "outputs": [
    {
     "data": {
      "text/html": [
       "<div>\n",
       "<style scoped>\n",
       "    .dataframe tbody tr th:only-of-type {\n",
       "        vertical-align: middle;\n",
       "    }\n",
       "\n",
       "    .dataframe tbody tr th {\n",
       "        vertical-align: top;\n",
       "    }\n",
       "\n",
       "    .dataframe thead th {\n",
       "        text-align: right;\n",
       "    }\n",
       "</style>\n",
       "<table border=\"1\" class=\"dataframe\">\n",
       "  <thead>\n",
       "    <tr style=\"text-align: right;\">\n",
       "      <th></th>\n",
       "      <th>Age</th>\n",
       "      <th>Total_Bilirubin</th>\n",
       "      <th>Direct_Bilirubin</th>\n",
       "      <th>Alkaline_Phosphotase</th>\n",
       "      <th>Alamine_Aminotransferase</th>\n",
       "      <th>Aspartate_Aminotransferase</th>\n",
       "      <th>Total_Protiens</th>\n",
       "      <th>Albumin</th>\n",
       "      <th>Albumin_and_Globulin_Ratio</th>\n",
       "      <th>Target</th>\n",
       "    </tr>\n",
       "  </thead>\n",
       "  <tbody>\n",
       "    <tr>\n",
       "      <th>Age</th>\n",
       "      <td>1.000000</td>\n",
       "      <td>0.011763</td>\n",
       "      <td>0.007529</td>\n",
       "      <td>0.080425</td>\n",
       "      <td>-0.086883</td>\n",
       "      <td>-0.019910</td>\n",
       "      <td>-0.187461</td>\n",
       "      <td>-0.265924</td>\n",
       "      <td>-0.216408</td>\n",
       "      <td>0.137351</td>\n",
       "    </tr>\n",
       "    <tr>\n",
       "      <th>Total_Bilirubin</th>\n",
       "      <td>0.011763</td>\n",
       "      <td>1.000000</td>\n",
       "      <td>0.874618</td>\n",
       "      <td>0.206669</td>\n",
       "      <td>0.214065</td>\n",
       "      <td>0.237831</td>\n",
       "      <td>-0.008099</td>\n",
       "      <td>-0.222250</td>\n",
       "      <td>-0.206267</td>\n",
       "      <td>0.220208</td>\n",
       "    </tr>\n",
       "    <tr>\n",
       "      <th>Direct_Bilirubin</th>\n",
       "      <td>0.007529</td>\n",
       "      <td>0.874618</td>\n",
       "      <td>1.000000</td>\n",
       "      <td>0.234939</td>\n",
       "      <td>0.233894</td>\n",
       "      <td>0.257544</td>\n",
       "      <td>-0.000139</td>\n",
       "      <td>-0.228531</td>\n",
       "      <td>-0.200125</td>\n",
       "      <td>0.246046</td>\n",
       "    </tr>\n",
       "    <tr>\n",
       "      <th>Alkaline_Phosphotase</th>\n",
       "      <td>0.080425</td>\n",
       "      <td>0.206669</td>\n",
       "      <td>0.234939</td>\n",
       "      <td>1.000000</td>\n",
       "      <td>0.125680</td>\n",
       "      <td>0.167196</td>\n",
       "      <td>-0.028514</td>\n",
       "      <td>-0.165453</td>\n",
       "      <td>-0.234166</td>\n",
       "      <td>0.184866</td>\n",
       "    </tr>\n",
       "    <tr>\n",
       "      <th>Alamine_Aminotransferase</th>\n",
       "      <td>-0.086883</td>\n",
       "      <td>0.214065</td>\n",
       "      <td>0.233894</td>\n",
       "      <td>0.125680</td>\n",
       "      <td>1.000000</td>\n",
       "      <td>0.791966</td>\n",
       "      <td>-0.042518</td>\n",
       "      <td>-0.029742</td>\n",
       "      <td>-0.002375</td>\n",
       "      <td>0.163416</td>\n",
       "    </tr>\n",
       "    <tr>\n",
       "      <th>Aspartate_Aminotransferase</th>\n",
       "      <td>-0.019910</td>\n",
       "      <td>0.237831</td>\n",
       "      <td>0.257544</td>\n",
       "      <td>0.167196</td>\n",
       "      <td>0.791966</td>\n",
       "      <td>1.000000</td>\n",
       "      <td>-0.025645</td>\n",
       "      <td>-0.085290</td>\n",
       "      <td>-0.070040</td>\n",
       "      <td>0.151934</td>\n",
       "    </tr>\n",
       "    <tr>\n",
       "      <th>Total_Protiens</th>\n",
       "      <td>-0.187461</td>\n",
       "      <td>-0.008099</td>\n",
       "      <td>-0.000139</td>\n",
       "      <td>-0.028514</td>\n",
       "      <td>-0.042518</td>\n",
       "      <td>-0.025645</td>\n",
       "      <td>1.000000</td>\n",
       "      <td>0.784053</td>\n",
       "      <td>0.234887</td>\n",
       "      <td>-0.035008</td>\n",
       "    </tr>\n",
       "    <tr>\n",
       "      <th>Albumin</th>\n",
       "      <td>-0.265924</td>\n",
       "      <td>-0.222250</td>\n",
       "      <td>-0.228531</td>\n",
       "      <td>-0.165453</td>\n",
       "      <td>-0.029742</td>\n",
       "      <td>-0.085290</td>\n",
       "      <td>0.784053</td>\n",
       "      <td>1.000000</td>\n",
       "      <td>0.689632</td>\n",
       "      <td>-0.161388</td>\n",
       "    </tr>\n",
       "    <tr>\n",
       "      <th>Albumin_and_Globulin_Ratio</th>\n",
       "      <td>-0.216408</td>\n",
       "      <td>-0.206267</td>\n",
       "      <td>-0.200125</td>\n",
       "      <td>-0.234166</td>\n",
       "      <td>-0.002375</td>\n",
       "      <td>-0.070040</td>\n",
       "      <td>0.234887</td>\n",
       "      <td>0.689632</td>\n",
       "      <td>1.000000</td>\n",
       "      <td>-0.163131</td>\n",
       "    </tr>\n",
       "    <tr>\n",
       "      <th>Target</th>\n",
       "      <td>0.137351</td>\n",
       "      <td>0.220208</td>\n",
       "      <td>0.246046</td>\n",
       "      <td>0.184866</td>\n",
       "      <td>0.163416</td>\n",
       "      <td>0.151934</td>\n",
       "      <td>-0.035008</td>\n",
       "      <td>-0.161388</td>\n",
       "      <td>-0.163131</td>\n",
       "      <td>1.000000</td>\n",
       "    </tr>\n",
       "  </tbody>\n",
       "</table>\n",
       "</div>"
      ],
      "text/plain": [
       "                                 Age  Total_Bilirubin  Direct_Bilirubin  \\\n",
       "Age                         1.000000         0.011763          0.007529   \n",
       "Total_Bilirubin             0.011763         1.000000          0.874618   \n",
       "Direct_Bilirubin            0.007529         0.874618          1.000000   \n",
       "Alkaline_Phosphotase        0.080425         0.206669          0.234939   \n",
       "Alamine_Aminotransferase   -0.086883         0.214065          0.233894   \n",
       "Aspartate_Aminotransferase -0.019910         0.237831          0.257544   \n",
       "Total_Protiens             -0.187461        -0.008099         -0.000139   \n",
       "Albumin                    -0.265924        -0.222250         -0.228531   \n",
       "Albumin_and_Globulin_Ratio -0.216408        -0.206267         -0.200125   \n",
       "Target                      0.137351         0.220208          0.246046   \n",
       "\n",
       "                            Alkaline_Phosphotase  Alamine_Aminotransferase  \\\n",
       "Age                                     0.080425                 -0.086883   \n",
       "Total_Bilirubin                         0.206669                  0.214065   \n",
       "Direct_Bilirubin                        0.234939                  0.233894   \n",
       "Alkaline_Phosphotase                    1.000000                  0.125680   \n",
       "Alamine_Aminotransferase                0.125680                  1.000000   \n",
       "Aspartate_Aminotransferase              0.167196                  0.791966   \n",
       "Total_Protiens                         -0.028514                 -0.042518   \n",
       "Albumin                                -0.165453                 -0.029742   \n",
       "Albumin_and_Globulin_Ratio             -0.234166                 -0.002375   \n",
       "Target                                  0.184866                  0.163416   \n",
       "\n",
       "                            Aspartate_Aminotransferase  Total_Protiens  \\\n",
       "Age                                          -0.019910       -0.187461   \n",
       "Total_Bilirubin                               0.237831       -0.008099   \n",
       "Direct_Bilirubin                              0.257544       -0.000139   \n",
       "Alkaline_Phosphotase                          0.167196       -0.028514   \n",
       "Alamine_Aminotransferase                      0.791966       -0.042518   \n",
       "Aspartate_Aminotransferase                    1.000000       -0.025645   \n",
       "Total_Protiens                               -0.025645        1.000000   \n",
       "Albumin                                      -0.085290        0.784053   \n",
       "Albumin_and_Globulin_Ratio                   -0.070040        0.234887   \n",
       "Target                                        0.151934       -0.035008   \n",
       "\n",
       "                             Albumin  Albumin_and_Globulin_Ratio    Target  \n",
       "Age                        -0.265924                   -0.216408  0.137351  \n",
       "Total_Bilirubin            -0.222250                   -0.206267  0.220208  \n",
       "Direct_Bilirubin           -0.228531                   -0.200125  0.246046  \n",
       "Alkaline_Phosphotase       -0.165453                   -0.234166  0.184866  \n",
       "Alamine_Aminotransferase   -0.029742                   -0.002375  0.163416  \n",
       "Aspartate_Aminotransferase -0.085290                   -0.070040  0.151934  \n",
       "Total_Protiens              0.784053                    0.234887 -0.035008  \n",
       "Albumin                     1.000000                    0.689632 -0.161388  \n",
       "Albumin_and_Globulin_Ratio  0.689632                    1.000000 -0.163131  \n",
       "Target                     -0.161388                   -0.163131  1.000000  "
      ]
     },
     "execution_count": 17,
     "metadata": {},
     "output_type": "execute_result"
    }
   ],
   "source": [
    "# Correlação entre as variáveis\n",
    "dados.corr()"
   ]
  },
  {
   "cell_type": "markdown",
   "id": "b8224e1d",
   "metadata": {},
   "source": [
    "### Exploração da Variável Categórica"
   ]
  },
  {
   "cell_type": "code",
   "execution_count": 18,
   "id": "0cbf229a",
   "metadata": {},
   "outputs": [
    {
     "data": {
      "text/html": [
       "<div>\n",
       "<style scoped>\n",
       "    .dataframe tbody tr th:only-of-type {\n",
       "        vertical-align: middle;\n",
       "    }\n",
       "\n",
       "    .dataframe tbody tr th {\n",
       "        vertical-align: top;\n",
       "    }\n",
       "\n",
       "    .dataframe thead th {\n",
       "        text-align: right;\n",
       "    }\n",
       "</style>\n",
       "<table border=\"1\" class=\"dataframe\">\n",
       "  <thead>\n",
       "    <tr style=\"text-align: right;\">\n",
       "      <th></th>\n",
       "      <th>Gender</th>\n",
       "    </tr>\n",
       "  </thead>\n",
       "  <tbody>\n",
       "    <tr>\n",
       "      <th>count</th>\n",
       "      <td>583</td>\n",
       "    </tr>\n",
       "    <tr>\n",
       "      <th>unique</th>\n",
       "      <td>2</td>\n",
       "    </tr>\n",
       "    <tr>\n",
       "      <th>top</th>\n",
       "      <td>Male</td>\n",
       "    </tr>\n",
       "    <tr>\n",
       "      <th>freq</th>\n",
       "      <td>441</td>\n",
       "    </tr>\n",
       "  </tbody>\n",
       "</table>\n",
       "</div>"
      ],
      "text/plain": [
       "       Gender\n",
       "count     583\n",
       "unique      2\n",
       "top      Male\n",
       "freq      441"
      ]
     },
     "execution_count": 18,
     "metadata": {},
     "output_type": "execute_result"
    }
   ],
   "source": [
    "dados.describe(include = ['object'])"
   ]
  },
  {
   "cell_type": "code",
   "execution_count": 19,
   "id": "5071473b",
   "metadata": {},
   "outputs": [
    {
     "name": "stdout",
     "output_type": "stream",
     "text": [
      "Número de pacientes do sexo masculino: 441.\n",
      "Número de pacientes do sexo feminino: 142.\n"
     ]
    },
    {
     "data": {
      "image/png": "[encoded data removed]",
      "text/plain": [
       "<Figure size 640x480 with 1 Axes>"
      ]
     },
     "metadata": {},
     "output_type": "display_data"
    }
   ],
   "source": [
    "# Plot\n",
    "sns.countplot(data = dados, x = 'Gender', label = 'Count')\n",
    "\n",
    "# Value counts\n",
    "M, F = dados['Gender'].value_counts()\n",
    "\n",
    "# Print\n",
    "print(f'Número de pacientes do sexo masculino: {M}.')\n",
    "print(f'Número de pacientes do sexo feminino: {F}.')"
   ]
  },
  {
   "cell_type": "markdown",
   "id": "93135491",
   "metadata": {},
   "source": [
    "Vamos aproveitar e já transformar a variável categórica em sua representação numérica usando label encoding. Além de reduzir o trabalho mais tarde, facilitará a criação de gráficos a seguir."
   ]
  },
  {
   "cell_type": "code",
   "execution_count": 20,
   "id": "d60b4e4c",
   "metadata": {},
   "outputs": [],
   "source": [
    "# Função para label encoding\n",
    "def encoding_func(x):\n",
    "    if x == 'Male':\n",
    "        return 0\n",
    "    return 1"
   ]
  },
  {
   "cell_type": "code",
   "execution_count": 21,
   "id": "ec4295c3",
   "metadata": {},
   "outputs": [],
   "source": [
    "# Aplicando a função\n",
    "dados['Gender'] = dados['Gender'].map(encoding_func)"
   ]
  },
  {
   "cell_type": "code",
   "execution_count": 22,
   "id": "8d6ca90a",
   "metadata": {},
   "outputs": [
    {
     "data": {
      "text/html": [
       "<div>\n",
       "<style scoped>\n",
       "    .dataframe tbody tr th:only-of-type {\n",
       "        vertical-align: middle;\n",
       "    }\n",
       "\n",
       "    .dataframe tbody tr th {\n",
       "        vertical-align: top;\n",
       "    }\n",
       "\n",
       "    .dataframe thead th {\n",
       "        text-align: right;\n",
       "    }\n",
       "</style>\n",
       "<table border=\"1\" class=\"dataframe\">\n",
       "  <thead>\n",
       "    <tr style=\"text-align: right;\">\n",
       "      <th></th>\n",
       "      <th>Age</th>\n",
       "      <th>Gender</th>\n",
       "      <th>Total_Bilirubin</th>\n",
       "      <th>Direct_Bilirubin</th>\n",
       "      <th>Alkaline_Phosphotase</th>\n",
       "      <th>Alamine_Aminotransferase</th>\n",
       "      <th>Aspartate_Aminotransferase</th>\n",
       "      <th>Total_Protiens</th>\n",
       "      <th>Albumin</th>\n",
       "      <th>Albumin_and_Globulin_Ratio</th>\n",
       "      <th>Target</th>\n",
       "    </tr>\n",
       "  </thead>\n",
       "  <tbody>\n",
       "    <tr>\n",
       "      <th>566</th>\n",
       "      <td>50</td>\n",
       "      <td>1</td>\n",
       "      <td>1.0</td>\n",
       "      <td>0.3</td>\n",
       "      <td>191</td>\n",
       "      <td>22</td>\n",
       "      <td>31</td>\n",
       "      <td>7.8</td>\n",
       "      <td>4.0</td>\n",
       "      <td>1.00</td>\n",
       "      <td>0</td>\n",
       "    </tr>\n",
       "    <tr>\n",
       "      <th>513</th>\n",
       "      <td>69</td>\n",
       "      <td>0</td>\n",
       "      <td>0.9</td>\n",
       "      <td>0.2</td>\n",
       "      <td>215</td>\n",
       "      <td>32</td>\n",
       "      <td>24</td>\n",
       "      <td>6.9</td>\n",
       "      <td>3.0</td>\n",
       "      <td>0.70</td>\n",
       "      <td>1</td>\n",
       "    </tr>\n",
       "    <tr>\n",
       "      <th>27</th>\n",
       "      <td>34</td>\n",
       "      <td>0</td>\n",
       "      <td>6.2</td>\n",
       "      <td>3.0</td>\n",
       "      <td>240</td>\n",
       "      <td>1680</td>\n",
       "      <td>850</td>\n",
       "      <td>7.2</td>\n",
       "      <td>4.0</td>\n",
       "      <td>1.20</td>\n",
       "      <td>1</td>\n",
       "    </tr>\n",
       "    <tr>\n",
       "      <th>495</th>\n",
       "      <td>32</td>\n",
       "      <td>0</td>\n",
       "      <td>0.7</td>\n",
       "      <td>0.2</td>\n",
       "      <td>165</td>\n",
       "      <td>31</td>\n",
       "      <td>29</td>\n",
       "      <td>6.1</td>\n",
       "      <td>3.0</td>\n",
       "      <td>0.96</td>\n",
       "      <td>0</td>\n",
       "    </tr>\n",
       "    <tr>\n",
       "      <th>257</th>\n",
       "      <td>44</td>\n",
       "      <td>0</td>\n",
       "      <td>0.8</td>\n",
       "      <td>0.2</td>\n",
       "      <td>335</td>\n",
       "      <td>148</td>\n",
       "      <td>86</td>\n",
       "      <td>5.6</td>\n",
       "      <td>3.0</td>\n",
       "      <td>1.10</td>\n",
       "      <td>1</td>\n",
       "    </tr>\n",
       "  </tbody>\n",
       "</table>\n",
       "</div>"
      ],
      "text/plain": [
       "     Age  Gender  Total_Bilirubin  Direct_Bilirubin  Alkaline_Phosphotase  \\\n",
       "566   50       1              1.0               0.3                   191   \n",
       "513   69       0              0.9               0.2                   215   \n",
       "27    34       0              6.2               3.0                   240   \n",
       "495   32       0              0.7               0.2                   165   \n",
       "257   44       0              0.8               0.2                   335   \n",
       "\n",
       "     Alamine_Aminotransferase  Aspartate_Aminotransferase  Total_Protiens  \\\n",
       "566                        22                          31             7.8   \n",
       "513                        32                          24             6.9   \n",
       "27                       1680                         850             7.2   \n",
       "495                        31                          29             6.1   \n",
       "257                       148                          86             5.6   \n",
       "\n",
       "     Albumin  Albumin_and_Globulin_Ratio  Target  \n",
       "566      4.0                        1.00       0  \n",
       "513      3.0                        0.70       1  \n",
       "27       4.0                        1.20       1  \n",
       "495      3.0                        0.96       0  \n",
       "257      3.0                        1.10       1  "
      ]
     },
     "execution_count": 22,
     "metadata": {},
     "output_type": "execute_result"
    }
   ],
   "source": [
    "dados.sample(5)"
   ]
  },
  {
   "cell_type": "markdown",
   "id": "cf2293a3",
   "metadata": {},
   "source": [
    "### Verificando a Relação Entre Atributos"
   ]
  },
  {
   "cell_type": "code",
   "execution_count": 23,
   "id": "55fa74fb",
   "metadata": {},
   "outputs": [
    {
     "data": {
      "text/html": [
       "<div>\n",
       "<style scoped>\n",
       "    .dataframe tbody tr th:only-of-type {\n",
       "        vertical-align: middle;\n",
       "    }\n",
       "\n",
       "    .dataframe tbody tr th {\n",
       "        vertical-align: top;\n",
       "    }\n",
       "\n",
       "    .dataframe thead th {\n",
       "        text-align: right;\n",
       "    }\n",
       "</style>\n",
       "<table border=\"1\" class=\"dataframe\">\n",
       "  <thead>\n",
       "    <tr style=\"text-align: right;\">\n",
       "      <th></th>\n",
       "      <th>Age</th>\n",
       "      <th>Gender</th>\n",
       "      <th>Total_Bilirubin</th>\n",
       "      <th>Direct_Bilirubin</th>\n",
       "      <th>Alkaline_Phosphotase</th>\n",
       "      <th>Alamine_Aminotransferase</th>\n",
       "      <th>Aspartate_Aminotransferase</th>\n",
       "      <th>Total_Protiens</th>\n",
       "      <th>Albumin</th>\n",
       "      <th>Albumin_and_Globulin_Ratio</th>\n",
       "      <th>Target</th>\n",
       "    </tr>\n",
       "  </thead>\n",
       "  <tbody>\n",
       "    <tr>\n",
       "      <th>Age</th>\n",
       "      <td>1.000000</td>\n",
       "      <td>-0.056560</td>\n",
       "      <td>0.011763</td>\n",
       "      <td>0.007529</td>\n",
       "      <td>0.080425</td>\n",
       "      <td>-0.086883</td>\n",
       "      <td>-0.019910</td>\n",
       "      <td>-0.187461</td>\n",
       "      <td>-0.265924</td>\n",
       "      <td>-0.216408</td>\n",
       "      <td>0.137351</td>\n",
       "    </tr>\n",
       "    <tr>\n",
       "      <th>Gender</th>\n",
       "      <td>-0.056560</td>\n",
       "      <td>1.000000</td>\n",
       "      <td>-0.089291</td>\n",
       "      <td>-0.100436</td>\n",
       "      <td>0.027496</td>\n",
       "      <td>-0.082332</td>\n",
       "      <td>-0.080336</td>\n",
       "      <td>0.089121</td>\n",
       "      <td>0.093799</td>\n",
       "      <td>0.003424</td>\n",
       "      <td>-0.082416</td>\n",
       "    </tr>\n",
       "    <tr>\n",
       "      <th>Total_Bilirubin</th>\n",
       "      <td>0.011763</td>\n",
       "      <td>-0.089291</td>\n",
       "      <td>1.000000</td>\n",
       "      <td>0.874618</td>\n",
       "      <td>0.206669</td>\n",
       "      <td>0.214065</td>\n",
       "      <td>0.237831</td>\n",
       "      <td>-0.008099</td>\n",
       "      <td>-0.222250</td>\n",
       "      <td>-0.206267</td>\n",
       "      <td>0.220208</td>\n",
       "    </tr>\n",
       "    <tr>\n",
       "      <th>Direct_Bilirubin</th>\n",
       "      <td>0.007529</td>\n",
       "      <td>-0.100436</td>\n",
       "      <td>0.874618</td>\n",
       "      <td>1.000000</td>\n",
       "      <td>0.234939</td>\n",
       "      <td>0.233894</td>\n",
       "      <td>0.257544</td>\n",
       "      <td>-0.000139</td>\n",
       "      <td>-0.228531</td>\n",
       "      <td>-0.200125</td>\n",
       "      <td>0.246046</td>\n",
       "    </tr>\n",
       "    <tr>\n",
       "      <th>Alkaline_Phosphotase</th>\n",
       "      <td>0.080425</td>\n",
       "      <td>0.027496</td>\n",
       "      <td>0.206669</td>\n",
       "      <td>0.234939</td>\n",
       "      <td>1.000000</td>\n",
       "      <td>0.125680</td>\n",
       "      <td>0.167196</td>\n",
       "      <td>-0.028514</td>\n",
       "      <td>-0.165453</td>\n",
       "      <td>-0.234166</td>\n",
       "      <td>0.184866</td>\n",
       "    </tr>\n",
       "    <tr>\n",
       "      <th>Alamine_Aminotransferase</th>\n",
       "      <td>-0.086883</td>\n",
       "      <td>-0.082332</td>\n",
       "      <td>0.214065</td>\n",
       "      <td>0.233894</td>\n",
       "      <td>0.125680</td>\n",
       "      <td>1.000000</td>\n",
       "      <td>0.791966</td>\n",
       "      <td>-0.042518</td>\n",
       "      <td>-0.029742</td>\n",
       "      <td>-0.002375</td>\n",
       "      <td>0.163416</td>\n",
       "    </tr>\n",
       "    <tr>\n",
       "      <th>Aspartate_Aminotransferase</th>\n",
       "      <td>-0.019910</td>\n",
       "      <td>-0.080336</td>\n",
       "      <td>0.237831</td>\n",
       "      <td>0.257544</td>\n",
       "      <td>0.167196</td>\n",
       "      <td>0.791966</td>\n",
       "      <td>1.000000</td>\n",
       "      <td>-0.025645</td>\n",
       "      <td>-0.085290</td>\n",
       "      <td>-0.070040</td>\n",
       "      <td>0.151934</td>\n",
       "    </tr>\n",
       "    <tr>\n",
       "      <th>Total_Protiens</th>\n",
       "      <td>-0.187461</td>\n",
       "      <td>0.089121</td>\n",
       "      <td>-0.008099</td>\n",
       "      <td>-0.000139</td>\n",
       "      <td>-0.028514</td>\n",
       "      <td>-0.042518</td>\n",
       "      <td>-0.025645</td>\n",
       "      <td>1.000000</td>\n",
       "      <td>0.784053</td>\n",
       "      <td>0.234887</td>\n",
       "      <td>-0.035008</td>\n",
       "    </tr>\n",
       "    <tr>\n",
       "      <th>Albumin</th>\n",
       "      <td>-0.265924</td>\n",
       "      <td>0.093799</td>\n",
       "      <td>-0.222250</td>\n",
       "      <td>-0.228531</td>\n",
       "      <td>-0.165453</td>\n",
       "      <td>-0.029742</td>\n",
       "      <td>-0.085290</td>\n",
       "      <td>0.784053</td>\n",
       "      <td>1.000000</td>\n",
       "      <td>0.689632</td>\n",
       "      <td>-0.161388</td>\n",
       "    </tr>\n",
       "    <tr>\n",
       "      <th>Albumin_and_Globulin_Ratio</th>\n",
       "      <td>-0.216408</td>\n",
       "      <td>0.003424</td>\n",
       "      <td>-0.206267</td>\n",
       "      <td>-0.200125</td>\n",
       "      <td>-0.234166</td>\n",
       "      <td>-0.002375</td>\n",
       "      <td>-0.070040</td>\n",
       "      <td>0.234887</td>\n",
       "      <td>0.689632</td>\n",
       "      <td>1.000000</td>\n",
       "      <td>-0.163131</td>\n",
       "    </tr>\n",
       "    <tr>\n",
       "      <th>Target</th>\n",
       "      <td>0.137351</td>\n",
       "      <td>-0.082416</td>\n",
       "      <td>0.220208</td>\n",
       "      <td>0.246046</td>\n",
       "      <td>0.184866</td>\n",
       "      <td>0.163416</td>\n",
       "      <td>0.151934</td>\n",
       "      <td>-0.035008</td>\n",
       "      <td>-0.161388</td>\n",
       "      <td>-0.163131</td>\n",
       "      <td>1.000000</td>\n",
       "    </tr>\n",
       "  </tbody>\n",
       "</table>\n",
       "</div>"
      ],
      "text/plain": [
       "                                 Age    Gender  Total_Bilirubin  \\\n",
       "Age                         1.000000 -0.056560         0.011763   \n",
       "Gender                     -0.056560  1.000000        -0.089291   \n",
       "Total_Bilirubin             0.011763 -0.089291         1.000000   \n",
       "Direct_Bilirubin            0.007529 -0.100436         0.874618   \n",
       "Alkaline_Phosphotase        0.080425  0.027496         0.206669   \n",
       "Alamine_Aminotransferase   -0.086883 -0.082332         0.214065   \n",
       "Aspartate_Aminotransferase -0.019910 -0.080336         0.237831   \n",
       "Total_Protiens             -0.187461  0.089121        -0.008099   \n",
       "Albumin                    -0.265924  0.093799        -0.222250   \n",
       "Albumin_and_Globulin_Ratio -0.216408  0.003424        -0.206267   \n",
       "Target                      0.137351 -0.082416         0.220208   \n",
       "\n",
       "                            Direct_Bilirubin  Alkaline_Phosphotase  \\\n",
       "Age                                 0.007529              0.080425   \n",
       "Gender                             -0.100436              0.027496   \n",
       "Total_Bilirubin                     0.874618              0.206669   \n",
       "Direct_Bilirubin                    1.000000              0.234939   \n",
       "Alkaline_Phosphotase                0.234939              1.000000   \n",
       "Alamine_Aminotransferase            0.233894              0.125680   \n",
       "Aspartate_Aminotransferase          0.257544              0.167196   \n",
       "Total_Protiens                     -0.000139             -0.028514   \n",
       "Albumin                            -0.228531             -0.165453   \n",
       "Albumin_and_Globulin_Ratio         -0.200125             -0.234166   \n",
       "Target                              0.246046              0.184866   \n",
       "\n",
       "                            Alamine_Aminotransferase  \\\n",
       "Age                                        -0.086883   \n",
       "Gender                                     -0.082332   \n",
       "Total_Bilirubin                             0.214065   \n",
       "Direct_Bilirubin                            0.233894   \n",
       "Alkaline_Phosphotase                        0.125680   \n",
       "Alamine_Aminotransferase                    1.000000   \n",
       "Aspartate_Aminotransferase                  0.791966   \n",
       "Total_Protiens                             -0.042518   \n",
       "Albumin                                    -0.029742   \n",
       "Albumin_and_Globulin_Ratio                 -0.002375   \n",
       "Target                                      0.163416   \n",
       "\n",
       "                            Aspartate_Aminotransferase  Total_Protiens  \\\n",
       "Age                                          -0.019910       -0.187461   \n",
       "Gender                                       -0.080336        0.089121   \n",
       "Total_Bilirubin                               0.237831       -0.008099   \n",
       "Direct_Bilirubin                              0.257544       -0.000139   \n",
       "Alkaline_Phosphotase                          0.167196       -0.028514   \n",
       "Alamine_Aminotransferase                      0.791966       -0.042518   \n",
       "Aspartate_Aminotransferase                    1.000000       -0.025645   \n",
       "Total_Protiens                               -0.025645        1.000000   \n",
       "Albumin                                      -0.085290        0.784053   \n",
       "Albumin_and_Globulin_Ratio                   -0.070040        0.234887   \n",
       "Target                                        0.151934       -0.035008   \n",
       "\n",
       "                             Albumin  Albumin_and_Globulin_Ratio    Target  \n",
       "Age                        -0.265924                   -0.216408  0.137351  \n",
       "Gender                      0.093799                    0.003424 -0.082416  \n",
       "Total_Bilirubin            -0.222250                   -0.206267  0.220208  \n",
       "Direct_Bilirubin           -0.228531                   -0.200125  0.246046  \n",
       "Alkaline_Phosphotase       -0.165453                   -0.234166  0.184866  \n",
       "Alamine_Aminotransferase   -0.029742                   -0.002375  0.163416  \n",
       "Aspartate_Aminotransferase -0.085290                   -0.070040  0.151934  \n",
       "Total_Protiens              0.784053                    0.234887 -0.035008  \n",
       "Albumin                     1.000000                    0.689632 -0.161388  \n",
       "Albumin_and_Globulin_Ratio  0.689632                    1.000000 -0.163131  \n",
       "Target                     -0.161388                   -0.163131  1.000000  "
      ]
     },
     "execution_count": 23,
     "metadata": {},
     "output_type": "execute_result"
    }
   ],
   "source": [
    "dados.corr()"
   ]
  },
  {
   "cell_type": "code",
   "execution_count": 24,
   "id": "01d51704",
   "metadata": {
    "scrolled": true
   },
   "outputs": [
    {
     "data": {
      "text/plain": [
       "<seaborn.axisgrid.FacetGrid at 0x192a0f3c8b0>"
      ]
     },
     "execution_count": 24,
     "metadata": {},
     "output_type": "execute_result"
    },
    {
     "data": {
      "image/png": "[encoded data removed]",
      "text/plain": [
       "<Figure size 557.75x500 with 1 Axes>"
      ]
     },
     "metadata": {},
     "output_type": "display_data"
    }
   ],
   "source": [
    "# Define o estilo do background\n",
    "sns.set_style('darkgrid')  \n",
    "\n",
    "# Facetgrid\n",
    "sns.FacetGrid(dados, hue = 'Target', size = 5).map(plt.scatter, 'Total_Bilirubin', 'Direct_Bilirubin').add_legend()"
   ]
  },
  {
   "cell_type": "code",
   "execution_count": 25,
   "id": "d19523a3",
   "metadata": {
    "scrolled": true
   },
   "outputs": [
    {
     "data": {
      "text/plain": [
       "<seaborn.axisgrid.FacetGrid at 0x192a0d11490>"
      ]
     },
     "execution_count": 25,
     "metadata": {},
     "output_type": "execute_result"
    },
    {
     "data": {
      "image/png": "[encoded data removed]",
      "text/plain": [
       "<Figure size 557.75x500 with 1 Axes>"
      ]
     },
     "metadata": {},
     "output_type": "display_data"
    }
   ],
   "source": [
    "# Define o estilo do background\n",
    "sns.set_style('darkgrid')  \n",
    "\n",
    "# Facetgrid\n",
    "sns.FacetGrid(dados, hue = 'Gender', size = 5).map(plt.scatter, 'Total_Bilirubin', 'Direct_Bilirubin').add_legend()"
   ]
  },
  {
   "cell_type": "code",
   "execution_count": 26,
   "id": "b5f4f3b1",
   "metadata": {},
   "outputs": [
    {
     "data": {
      "text/plain": [
       "<seaborn.axisgrid.FacetGrid at 0x192a0bfef40>"
      ]
     },
     "execution_count": 26,
     "metadata": {},
     "output_type": "execute_result"
    },
    {
     "data": {
      "image/png": "[encoded data removed]",
      "text/plain": [
       "<Figure size 557.75x500 with 1 Axes>"
      ]
     },
     "metadata": {},
     "output_type": "display_data"
    }
   ],
   "source": [
    "# Define o estilo do background\n",
    "sns.set_style('whitegrid') \n",
    "\n",
    "# Facetgrid\n",
    "sns.FacetGrid(dados, hue = 'Target', size = 5).map(plt.scatter, 'Total_Bilirubin', 'Albumin').add_legend()"
   ]
  },
  {
   "cell_type": "code",
   "execution_count": 27,
   "id": "c0106edc",
   "metadata": {},
   "outputs": [
    {
     "data": {
      "text/plain": [
       "<seaborn.axisgrid.FacetGrid at 0x192a0bfeeb0>"
      ]
     },
     "execution_count": 27,
     "metadata": {},
     "output_type": "execute_result"
    },
    {
     "data": {
      "image/png": "[encoded data removed]",
      "text/plain": [
       "<Figure size 557.75x500 with 1 Axes>"
      ]
     },
     "metadata": {},
     "output_type": "display_data"
    }
   ],
   "source": [
    "# Define o estilo do background\n",
    "sns.set_style('whitegrid') \n",
    "\n",
    "# Facetgrid\n",
    "sns.FacetGrid(dados, hue = 'Gender', size = 5).map(plt.scatter, 'Total_Bilirubin', 'Albumin').add_legend()"
   ]
  },
  {
   "cell_type": "markdown",
   "id": "f4379827",
   "metadata": {},
   "source": [
    "### Verificando Valores Ausentes e Registros Duplicados"
   ]
  },
  {
   "cell_type": "code",
   "execution_count": 28,
   "id": "def8351a",
   "metadata": {},
   "outputs": [
    {
     "data": {
      "text/html": [
       "<div>\n",
       "<style scoped>\n",
       "    .dataframe tbody tr th:only-of-type {\n",
       "        vertical-align: middle;\n",
       "    }\n",
       "\n",
       "    .dataframe tbody tr th {\n",
       "        vertical-align: top;\n",
       "    }\n",
       "\n",
       "    .dataframe thead th {\n",
       "        text-align: right;\n",
       "    }\n",
       "</style>\n",
       "<table border=\"1\" class=\"dataframe\">\n",
       "  <thead>\n",
       "    <tr style=\"text-align: right;\">\n",
       "      <th></th>\n",
       "      <th>Age</th>\n",
       "      <th>Gender</th>\n",
       "      <th>Total_Bilirubin</th>\n",
       "      <th>Direct_Bilirubin</th>\n",
       "      <th>Alkaline_Phosphotase</th>\n",
       "      <th>Alamine_Aminotransferase</th>\n",
       "      <th>Aspartate_Aminotransferase</th>\n",
       "      <th>Total_Protiens</th>\n",
       "      <th>Albumin</th>\n",
       "      <th>Albumin_and_Globulin_Ratio</th>\n",
       "      <th>Target</th>\n",
       "    </tr>\n",
       "  </thead>\n",
       "  <tbody>\n",
       "    <tr>\n",
       "      <th>209</th>\n",
       "      <td>45</td>\n",
       "      <td>1</td>\n",
       "      <td>0.9</td>\n",
       "      <td>0.3</td>\n",
       "      <td>189</td>\n",
       "      <td>23</td>\n",
       "      <td>33</td>\n",
       "      <td>6.6</td>\n",
       "      <td>3.9</td>\n",
       "      <td>NaN</td>\n",
       "      <td>1</td>\n",
       "    </tr>\n",
       "    <tr>\n",
       "      <th>241</th>\n",
       "      <td>51</td>\n",
       "      <td>0</td>\n",
       "      <td>0.8</td>\n",
       "      <td>0.2</td>\n",
       "      <td>230</td>\n",
       "      <td>24</td>\n",
       "      <td>46</td>\n",
       "      <td>6.5</td>\n",
       "      <td>3.1</td>\n",
       "      <td>NaN</td>\n",
       "      <td>1</td>\n",
       "    </tr>\n",
       "    <tr>\n",
       "      <th>253</th>\n",
       "      <td>35</td>\n",
       "      <td>1</td>\n",
       "      <td>0.6</td>\n",
       "      <td>0.2</td>\n",
       "      <td>180</td>\n",
       "      <td>12</td>\n",
       "      <td>15</td>\n",
       "      <td>5.2</td>\n",
       "      <td>2.7</td>\n",
       "      <td>NaN</td>\n",
       "      <td>0</td>\n",
       "    </tr>\n",
       "    <tr>\n",
       "      <th>312</th>\n",
       "      <td>27</td>\n",
       "      <td>0</td>\n",
       "      <td>1.3</td>\n",
       "      <td>0.6</td>\n",
       "      <td>106</td>\n",
       "      <td>25</td>\n",
       "      <td>54</td>\n",
       "      <td>8.5</td>\n",
       "      <td>4.8</td>\n",
       "      <td>NaN</td>\n",
       "      <td>0</td>\n",
       "    </tr>\n",
       "  </tbody>\n",
       "</table>\n",
       "</div>"
      ],
      "text/plain": [
       "     Age  Gender  Total_Bilirubin  Direct_Bilirubin  Alkaline_Phosphotase  \\\n",
       "209   45       1              0.9               0.3                   189   \n",
       "241   51       0              0.8               0.2                   230   \n",
       "253   35       1              0.6               0.2                   180   \n",
       "312   27       0              1.3               0.6                   106   \n",
       "\n",
       "     Alamine_Aminotransferase  Aspartate_Aminotransferase  Total_Protiens  \\\n",
       "209                        23                          33             6.6   \n",
       "241                        24                          46             6.5   \n",
       "253                        12                          15             5.2   \n",
       "312                        25                          54             8.5   \n",
       "\n",
       "     Albumin  Albumin_and_Globulin_Ratio  Target  \n",
       "209      3.9                         NaN       1  \n",
       "241      3.1                         NaN       1  \n",
       "253      2.7                         NaN       0  \n",
       "312      4.8                         NaN       0  "
      ]
     },
     "execution_count": 28,
     "metadata": {},
     "output_type": "execute_result"
    }
   ],
   "source": [
    "# Verificando valores ausentes\n",
    "dados[dados.isnull().values]"
   ]
  },
  {
   "cell_type": "code",
   "execution_count": 29,
   "id": "49a1c949",
   "metadata": {},
   "outputs": [
    {
     "data": {
      "text/html": [
       "<div>\n",
       "<style scoped>\n",
       "    .dataframe tbody tr th:only-of-type {\n",
       "        vertical-align: middle;\n",
       "    }\n",
       "\n",
       "    .dataframe tbody tr th {\n",
       "        vertical-align: top;\n",
       "    }\n",
       "\n",
       "    .dataframe thead th {\n",
       "        text-align: right;\n",
       "    }\n",
       "</style>\n",
       "<table border=\"1\" class=\"dataframe\">\n",
       "  <thead>\n",
       "    <tr style=\"text-align: right;\">\n",
       "      <th></th>\n",
       "      <th>Age</th>\n",
       "      <th>Gender</th>\n",
       "      <th>Total_Bilirubin</th>\n",
       "      <th>Direct_Bilirubin</th>\n",
       "      <th>Alkaline_Phosphotase</th>\n",
       "      <th>Alamine_Aminotransferase</th>\n",
       "      <th>Aspartate_Aminotransferase</th>\n",
       "      <th>Total_Protiens</th>\n",
       "      <th>Albumin</th>\n",
       "      <th>Albumin_and_Globulin_Ratio</th>\n",
       "      <th>Target</th>\n",
       "    </tr>\n",
       "  </thead>\n",
       "  <tbody>\n",
       "    <tr>\n",
       "      <th>18</th>\n",
       "      <td>40</td>\n",
       "      <td>1</td>\n",
       "      <td>0.9</td>\n",
       "      <td>0.3</td>\n",
       "      <td>293</td>\n",
       "      <td>232</td>\n",
       "      <td>245</td>\n",
       "      <td>6.8</td>\n",
       "      <td>3.1</td>\n",
       "      <td>0.80</td>\n",
       "      <td>1</td>\n",
       "    </tr>\n",
       "    <tr>\n",
       "      <th>19</th>\n",
       "      <td>40</td>\n",
       "      <td>1</td>\n",
       "      <td>0.9</td>\n",
       "      <td>0.3</td>\n",
       "      <td>293</td>\n",
       "      <td>232</td>\n",
       "      <td>245</td>\n",
       "      <td>6.8</td>\n",
       "      <td>3.1</td>\n",
       "      <td>0.80</td>\n",
       "      <td>1</td>\n",
       "    </tr>\n",
       "    <tr>\n",
       "      <th>25</th>\n",
       "      <td>34</td>\n",
       "      <td>0</td>\n",
       "      <td>4.1</td>\n",
       "      <td>2.0</td>\n",
       "      <td>289</td>\n",
       "      <td>875</td>\n",
       "      <td>731</td>\n",
       "      <td>5.0</td>\n",
       "      <td>2.7</td>\n",
       "      <td>1.10</td>\n",
       "      <td>1</td>\n",
       "    </tr>\n",
       "    <tr>\n",
       "      <th>26</th>\n",
       "      <td>34</td>\n",
       "      <td>0</td>\n",
       "      <td>4.1</td>\n",
       "      <td>2.0</td>\n",
       "      <td>289</td>\n",
       "      <td>875</td>\n",
       "      <td>731</td>\n",
       "      <td>5.0</td>\n",
       "      <td>2.7</td>\n",
       "      <td>1.10</td>\n",
       "      <td>1</td>\n",
       "    </tr>\n",
       "    <tr>\n",
       "      <th>33</th>\n",
       "      <td>38</td>\n",
       "      <td>1</td>\n",
       "      <td>2.6</td>\n",
       "      <td>1.2</td>\n",
       "      <td>410</td>\n",
       "      <td>59</td>\n",
       "      <td>57</td>\n",
       "      <td>5.6</td>\n",
       "      <td>3.0</td>\n",
       "      <td>0.80</td>\n",
       "      <td>0</td>\n",
       "    </tr>\n",
       "    <tr>\n",
       "      <th>34</th>\n",
       "      <td>38</td>\n",
       "      <td>1</td>\n",
       "      <td>2.6</td>\n",
       "      <td>1.2</td>\n",
       "      <td>410</td>\n",
       "      <td>59</td>\n",
       "      <td>57</td>\n",
       "      <td>5.6</td>\n",
       "      <td>3.0</td>\n",
       "      <td>0.80</td>\n",
       "      <td>0</td>\n",
       "    </tr>\n",
       "    <tr>\n",
       "      <th>54</th>\n",
       "      <td>42</td>\n",
       "      <td>0</td>\n",
       "      <td>8.9</td>\n",
       "      <td>4.5</td>\n",
       "      <td>272</td>\n",
       "      <td>31</td>\n",
       "      <td>61</td>\n",
       "      <td>5.8</td>\n",
       "      <td>2.0</td>\n",
       "      <td>0.50</td>\n",
       "      <td>1</td>\n",
       "    </tr>\n",
       "    <tr>\n",
       "      <th>55</th>\n",
       "      <td>42</td>\n",
       "      <td>0</td>\n",
       "      <td>8.9</td>\n",
       "      <td>4.5</td>\n",
       "      <td>272</td>\n",
       "      <td>31</td>\n",
       "      <td>61</td>\n",
       "      <td>5.8</td>\n",
       "      <td>2.0</td>\n",
       "      <td>0.50</td>\n",
       "      <td>1</td>\n",
       "    </tr>\n",
       "    <tr>\n",
       "      <th>61</th>\n",
       "      <td>58</td>\n",
       "      <td>0</td>\n",
       "      <td>1.0</td>\n",
       "      <td>0.5</td>\n",
       "      <td>158</td>\n",
       "      <td>37</td>\n",
       "      <td>43</td>\n",
       "      <td>7.2</td>\n",
       "      <td>3.6</td>\n",
       "      <td>1.00</td>\n",
       "      <td>1</td>\n",
       "    </tr>\n",
       "    <tr>\n",
       "      <th>62</th>\n",
       "      <td>58</td>\n",
       "      <td>0</td>\n",
       "      <td>1.0</td>\n",
       "      <td>0.5</td>\n",
       "      <td>158</td>\n",
       "      <td>37</td>\n",
       "      <td>43</td>\n",
       "      <td>7.2</td>\n",
       "      <td>3.6</td>\n",
       "      <td>1.00</td>\n",
       "      <td>1</td>\n",
       "    </tr>\n",
       "    <tr>\n",
       "      <th>105</th>\n",
       "      <td>36</td>\n",
       "      <td>0</td>\n",
       "      <td>5.3</td>\n",
       "      <td>2.3</td>\n",
       "      <td>145</td>\n",
       "      <td>32</td>\n",
       "      <td>92</td>\n",
       "      <td>5.1</td>\n",
       "      <td>2.6</td>\n",
       "      <td>1.00</td>\n",
       "      <td>0</td>\n",
       "    </tr>\n",
       "    <tr>\n",
       "      <th>106</th>\n",
       "      <td>36</td>\n",
       "      <td>0</td>\n",
       "      <td>5.3</td>\n",
       "      <td>2.3</td>\n",
       "      <td>145</td>\n",
       "      <td>32</td>\n",
       "      <td>92</td>\n",
       "      <td>5.1</td>\n",
       "      <td>2.6</td>\n",
       "      <td>1.00</td>\n",
       "      <td>0</td>\n",
       "    </tr>\n",
       "    <tr>\n",
       "      <th>107</th>\n",
       "      <td>36</td>\n",
       "      <td>0</td>\n",
       "      <td>0.8</td>\n",
       "      <td>0.2</td>\n",
       "      <td>158</td>\n",
       "      <td>29</td>\n",
       "      <td>39</td>\n",
       "      <td>6.0</td>\n",
       "      <td>2.2</td>\n",
       "      <td>0.50</td>\n",
       "      <td>0</td>\n",
       "    </tr>\n",
       "    <tr>\n",
       "      <th>108</th>\n",
       "      <td>36</td>\n",
       "      <td>0</td>\n",
       "      <td>0.8</td>\n",
       "      <td>0.2</td>\n",
       "      <td>158</td>\n",
       "      <td>29</td>\n",
       "      <td>39</td>\n",
       "      <td>6.0</td>\n",
       "      <td>2.2</td>\n",
       "      <td>0.50</td>\n",
       "      <td>0</td>\n",
       "    </tr>\n",
       "    <tr>\n",
       "      <th>137</th>\n",
       "      <td>18</td>\n",
       "      <td>0</td>\n",
       "      <td>0.8</td>\n",
       "      <td>0.2</td>\n",
       "      <td>282</td>\n",
       "      <td>72</td>\n",
       "      <td>140</td>\n",
       "      <td>5.5</td>\n",
       "      <td>2.5</td>\n",
       "      <td>0.80</td>\n",
       "      <td>1</td>\n",
       "    </tr>\n",
       "    <tr>\n",
       "      <th>138</th>\n",
       "      <td>18</td>\n",
       "      <td>0</td>\n",
       "      <td>0.8</td>\n",
       "      <td>0.2</td>\n",
       "      <td>282</td>\n",
       "      <td>72</td>\n",
       "      <td>140</td>\n",
       "      <td>5.5</td>\n",
       "      <td>2.5</td>\n",
       "      <td>0.80</td>\n",
       "      <td>1</td>\n",
       "    </tr>\n",
       "    <tr>\n",
       "      <th>142</th>\n",
       "      <td>30</td>\n",
       "      <td>0</td>\n",
       "      <td>1.6</td>\n",
       "      <td>0.4</td>\n",
       "      <td>332</td>\n",
       "      <td>84</td>\n",
       "      <td>139</td>\n",
       "      <td>5.6</td>\n",
       "      <td>2.7</td>\n",
       "      <td>0.90</td>\n",
       "      <td>1</td>\n",
       "    </tr>\n",
       "    <tr>\n",
       "      <th>143</th>\n",
       "      <td>30</td>\n",
       "      <td>0</td>\n",
       "      <td>1.6</td>\n",
       "      <td>0.4</td>\n",
       "      <td>332</td>\n",
       "      <td>84</td>\n",
       "      <td>139</td>\n",
       "      <td>5.6</td>\n",
       "      <td>2.7</td>\n",
       "      <td>0.90</td>\n",
       "      <td>1</td>\n",
       "    </tr>\n",
       "    <tr>\n",
       "      <th>157</th>\n",
       "      <td>72</td>\n",
       "      <td>0</td>\n",
       "      <td>0.7</td>\n",
       "      <td>0.1</td>\n",
       "      <td>196</td>\n",
       "      <td>20</td>\n",
       "      <td>35</td>\n",
       "      <td>5.8</td>\n",
       "      <td>2.0</td>\n",
       "      <td>0.50</td>\n",
       "      <td>1</td>\n",
       "    </tr>\n",
       "    <tr>\n",
       "      <th>158</th>\n",
       "      <td>72</td>\n",
       "      <td>0</td>\n",
       "      <td>0.7</td>\n",
       "      <td>0.1</td>\n",
       "      <td>196</td>\n",
       "      <td>20</td>\n",
       "      <td>35</td>\n",
       "      <td>5.8</td>\n",
       "      <td>2.0</td>\n",
       "      <td>0.50</td>\n",
       "      <td>1</td>\n",
       "    </tr>\n",
       "    <tr>\n",
       "      <th>163</th>\n",
       "      <td>39</td>\n",
       "      <td>0</td>\n",
       "      <td>1.9</td>\n",
       "      <td>0.9</td>\n",
       "      <td>180</td>\n",
       "      <td>42</td>\n",
       "      <td>62</td>\n",
       "      <td>7.4</td>\n",
       "      <td>4.3</td>\n",
       "      <td>1.38</td>\n",
       "      <td>1</td>\n",
       "    </tr>\n",
       "    <tr>\n",
       "      <th>164</th>\n",
       "      <td>39</td>\n",
       "      <td>0</td>\n",
       "      <td>1.9</td>\n",
       "      <td>0.9</td>\n",
       "      <td>180</td>\n",
       "      <td>42</td>\n",
       "      <td>62</td>\n",
       "      <td>7.4</td>\n",
       "      <td>4.3</td>\n",
       "      <td>1.38</td>\n",
       "      <td>1</td>\n",
       "    </tr>\n",
       "    <tr>\n",
       "      <th>173</th>\n",
       "      <td>31</td>\n",
       "      <td>0</td>\n",
       "      <td>0.6</td>\n",
       "      <td>0.1</td>\n",
       "      <td>175</td>\n",
       "      <td>48</td>\n",
       "      <td>34</td>\n",
       "      <td>6.0</td>\n",
       "      <td>3.7</td>\n",
       "      <td>1.60</td>\n",
       "      <td>1</td>\n",
       "    </tr>\n",
       "    <tr>\n",
       "      <th>174</th>\n",
       "      <td>31</td>\n",
       "      <td>0</td>\n",
       "      <td>0.6</td>\n",
       "      <td>0.1</td>\n",
       "      <td>175</td>\n",
       "      <td>48</td>\n",
       "      <td>34</td>\n",
       "      <td>6.0</td>\n",
       "      <td>3.7</td>\n",
       "      <td>1.60</td>\n",
       "      <td>1</td>\n",
       "    </tr>\n",
       "    <tr>\n",
       "      <th>200</th>\n",
       "      <td>49</td>\n",
       "      <td>0</td>\n",
       "      <td>0.6</td>\n",
       "      <td>0.1</td>\n",
       "      <td>218</td>\n",
       "      <td>50</td>\n",
       "      <td>53</td>\n",
       "      <td>5.0</td>\n",
       "      <td>2.4</td>\n",
       "      <td>0.90</td>\n",
       "      <td>1</td>\n",
       "    </tr>\n",
       "    <tr>\n",
       "      <th>201</th>\n",
       "      <td>49</td>\n",
       "      <td>0</td>\n",
       "      <td>0.6</td>\n",
       "      <td>0.1</td>\n",
       "      <td>218</td>\n",
       "      <td>50</td>\n",
       "      <td>53</td>\n",
       "      <td>5.0</td>\n",
       "      <td>2.4</td>\n",
       "      <td>0.90</td>\n",
       "      <td>1</td>\n",
       "    </tr>\n",
       "  </tbody>\n",
       "</table>\n",
       "</div>"
      ],
      "text/plain": [
       "     Age  Gender  Total_Bilirubin  Direct_Bilirubin  Alkaline_Phosphotase  \\\n",
       "18    40       1              0.9               0.3                   293   \n",
       "19    40       1              0.9               0.3                   293   \n",
       "25    34       0              4.1               2.0                   289   \n",
       "26    34       0              4.1               2.0                   289   \n",
       "33    38       1              2.6               1.2                   410   \n",
       "34    38       1              2.6               1.2                   410   \n",
       "54    42       0              8.9               4.5                   272   \n",
       "55    42       0              8.9               4.5                   272   \n",
       "61    58       0              1.0               0.5                   158   \n",
       "62    58       0              1.0               0.5                   158   \n",
       "105   36       0              5.3               2.3                   145   \n",
       "106   36       0              5.3               2.3                   145   \n",
       "107   36       0              0.8               0.2                   158   \n",
       "108   36       0              0.8               0.2                   158   \n",
       "137   18       0              0.8               0.2                   282   \n",
       "138   18       0              0.8               0.2                   282   \n",
       "142   30       0              1.6               0.4                   332   \n",
       "143   30       0              1.6               0.4                   332   \n",
       "157   72       0              0.7               0.1                   196   \n",
       "158   72       0              0.7               0.1                   196   \n",
       "163   39       0              1.9               0.9                   180   \n",
       "164   39       0              1.9               0.9                   180   \n",
       "173   31       0              0.6               0.1                   175   \n",
       "174   31       0              0.6               0.1                   175   \n",
       "200   49       0              0.6               0.1                   218   \n",
       "201   49       0              0.6               0.1                   218   \n",
       "\n",
       "     Alamine_Aminotransferase  Aspartate_Aminotransferase  Total_Protiens  \\\n",
       "18                        232                         245             6.8   \n",
       "19                        232                         245             6.8   \n",
       "25                        875                         731             5.0   \n",
       "26                        875                         731             5.0   \n",
       "33                         59                          57             5.6   \n",
       "34                         59                          57             5.6   \n",
       "54                         31                          61             5.8   \n",
       "55                         31                          61             5.8   \n",
       "61                         37                          43             7.2   \n",
       "62                         37                          43             7.2   \n",
       "105                        32                          92             5.1   \n",
       "106                        32                          92             5.1   \n",
       "107                        29                          39             6.0   \n",
       "108                        29                          39             6.0   \n",
       "137                        72                         140             5.5   \n",
       "138                        72                         140             5.5   \n",
       "142                        84                         139             5.6   \n",
       "143                        84                         139             5.6   \n",
       "157                        20                          35             5.8   \n",
       "158                        20                          35             5.8   \n",
       "163                        42                          62             7.4   \n",
       "164                        42                          62             7.4   \n",
       "173                        48                          34             6.0   \n",
       "174                        48                          34             6.0   \n",
       "200                        50                          53             5.0   \n",
       "201                        50                          53             5.0   \n",
       "\n",
       "     Albumin  Albumin_and_Globulin_Ratio  Target  \n",
       "18       3.1                        0.80       1  \n",
       "19       3.1                        0.80       1  \n",
       "25       2.7                        1.10       1  \n",
       "26       2.7                        1.10       1  \n",
       "33       3.0                        0.80       0  \n",
       "34       3.0                        0.80       0  \n",
       "54       2.0                        0.50       1  \n",
       "55       2.0                        0.50       1  \n",
       "61       3.6                        1.00       1  \n",
       "62       3.6                        1.00       1  \n",
       "105      2.6                        1.00       0  \n",
       "106      2.6                        1.00       0  \n",
       "107      2.2                        0.50       0  \n",
       "108      2.2                        0.50       0  \n",
       "137      2.5                        0.80       1  \n",
       "138      2.5                        0.80       1  \n",
       "142      2.7                        0.90       1  \n",
       "143      2.7                        0.90       1  \n",
       "157      2.0                        0.50       1  \n",
       "158      2.0                        0.50       1  \n",
       "163      4.3                        1.38       1  \n",
       "164      4.3                        1.38       1  \n",
       "173      3.7                        1.60       1  \n",
       "174      3.7                        1.60       1  \n",
       "200      2.4                        0.90       1  \n",
       "201      2.4                        0.90       1  "
      ]
     },
     "execution_count": 29,
     "metadata": {},
     "output_type": "execute_result"
    }
   ],
   "source": [
    "# Verificando registros duplicados (complete cases)\n",
    "# Complete cases também se refere a linhas onde não há valores ausentes\n",
    "dados[dados.duplicated(keep = False)]"
   ]
  },
  {
   "cell_type": "markdown",
   "id": "5b658b95",
   "metadata": {},
   "source": [
    "## Limpeza de Dados"
   ]
  },
  {
   "cell_type": "markdown",
   "id": "c8c0ff83",
   "metadata": {},
   "source": [
    "### Tratamento de Registros Duplicados"
   ]
  },
  {
   "cell_type": "code",
   "execution_count": 30,
   "id": "2fc83569",
   "metadata": {},
   "outputs": [
    {
     "data": {
      "text/plain": [
       "(583, 11)"
      ]
     },
     "execution_count": 30,
     "metadata": {},
     "output_type": "execute_result"
    }
   ],
   "source": [
    "dados.shape"
   ]
  },
  {
   "cell_type": "code",
   "execution_count": 31,
   "id": "d105f294",
   "metadata": {},
   "outputs": [
    {
     "name": "stdout",
     "output_type": "stream",
     "text": [
      "(570, 11)\n"
     ]
    }
   ],
   "source": [
    "# Removendo registros duplicados (remove dados duplicados)\n",
    "dados = dados.drop_duplicates()\n",
    "print(dados.shape)"
   ]
  },
  {
   "cell_type": "markdown",
   "id": "0a0b8094",
   "metadata": {},
   "source": [
    "### Tratamento de Outliers"
   ]
  },
  {
   "cell_type": "code",
   "execution_count": 32,
   "id": "4077d8b8",
   "metadata": {},
   "outputs": [
    {
     "data": {
      "text/html": [
       "<div>\n",
       "<style scoped>\n",
       "    .dataframe tbody tr th:only-of-type {\n",
       "        vertical-align: middle;\n",
       "    }\n",
       "\n",
       "    .dataframe tbody tr th {\n",
       "        vertical-align: top;\n",
       "    }\n",
       "\n",
       "    .dataframe thead th {\n",
       "        text-align: right;\n",
       "    }\n",
       "</style>\n",
       "<table border=\"1\" class=\"dataframe\">\n",
       "  <thead>\n",
       "    <tr style=\"text-align: right;\">\n",
       "      <th></th>\n",
       "      <th>Age</th>\n",
       "      <th>Gender</th>\n",
       "      <th>Total_Bilirubin</th>\n",
       "      <th>Direct_Bilirubin</th>\n",
       "      <th>Alkaline_Phosphotase</th>\n",
       "      <th>Alamine_Aminotransferase</th>\n",
       "      <th>Aspartate_Aminotransferase</th>\n",
       "      <th>Total_Protiens</th>\n",
       "      <th>Albumin</th>\n",
       "      <th>Albumin_and_Globulin_Ratio</th>\n",
       "      <th>Target</th>\n",
       "    </tr>\n",
       "  </thead>\n",
       "  <tbody>\n",
       "    <tr>\n",
       "      <th>count</th>\n",
       "      <td>570.000000</td>\n",
       "      <td>570.000000</td>\n",
       "      <td>570.000000</td>\n",
       "      <td>570.000000</td>\n",
       "      <td>570.000000</td>\n",
       "      <td>570.000000</td>\n",
       "      <td>570.000000</td>\n",
       "      <td>570.000000</td>\n",
       "      <td>570.000000</td>\n",
       "      <td>566.000000</td>\n",
       "      <td>570.000000</td>\n",
       "    </tr>\n",
       "    <tr>\n",
       "      <th>mean</th>\n",
       "      <td>44.849123</td>\n",
       "      <td>0.245614</td>\n",
       "      <td>3.321754</td>\n",
       "      <td>1.497544</td>\n",
       "      <td>291.750877</td>\n",
       "      <td>79.728070</td>\n",
       "      <td>109.380702</td>\n",
       "      <td>6.496316</td>\n",
       "      <td>3.148947</td>\n",
       "      <td>0.948004</td>\n",
       "      <td>0.712281</td>\n",
       "    </tr>\n",
       "    <tr>\n",
       "      <th>std</th>\n",
       "      <td>16.242182</td>\n",
       "      <td>0.430829</td>\n",
       "      <td>6.267941</td>\n",
       "      <td>2.833231</td>\n",
       "      <td>245.291859</td>\n",
       "      <td>181.471697</td>\n",
       "      <td>290.880671</td>\n",
       "      <td>1.088300</td>\n",
       "      <td>0.796813</td>\n",
       "      <td>0.319635</td>\n",
       "      <td>0.453097</td>\n",
       "    </tr>\n",
       "    <tr>\n",
       "      <th>min</th>\n",
       "      <td>4.000000</td>\n",
       "      <td>0.000000</td>\n",
       "      <td>0.400000</td>\n",
       "      <td>0.100000</td>\n",
       "      <td>63.000000</td>\n",
       "      <td>10.000000</td>\n",
       "      <td>10.000000</td>\n",
       "      <td>2.700000</td>\n",
       "      <td>0.900000</td>\n",
       "      <td>0.300000</td>\n",
       "      <td>0.000000</td>\n",
       "    </tr>\n",
       "    <tr>\n",
       "      <th>25%</th>\n",
       "      <td>33.000000</td>\n",
       "      <td>0.000000</td>\n",
       "      <td>0.800000</td>\n",
       "      <td>0.200000</td>\n",
       "      <td>176.000000</td>\n",
       "      <td>23.000000</td>\n",
       "      <td>25.000000</td>\n",
       "      <td>5.800000</td>\n",
       "      <td>2.600000</td>\n",
       "      <td>0.700000</td>\n",
       "      <td>0.000000</td>\n",
       "    </tr>\n",
       "    <tr>\n",
       "      <th>50%</th>\n",
       "      <td>45.000000</td>\n",
       "      <td>0.000000</td>\n",
       "      <td>1.000000</td>\n",
       "      <td>0.300000</td>\n",
       "      <td>208.000000</td>\n",
       "      <td>35.000000</td>\n",
       "      <td>41.000000</td>\n",
       "      <td>6.600000</td>\n",
       "      <td>3.100000</td>\n",
       "      <td>0.950000</td>\n",
       "      <td>1.000000</td>\n",
       "    </tr>\n",
       "    <tr>\n",
       "      <th>75%</th>\n",
       "      <td>58.000000</td>\n",
       "      <td>0.000000</td>\n",
       "      <td>2.600000</td>\n",
       "      <td>1.300000</td>\n",
       "      <td>298.000000</td>\n",
       "      <td>60.000000</td>\n",
       "      <td>86.750000</td>\n",
       "      <td>7.200000</td>\n",
       "      <td>3.800000</td>\n",
       "      <td>1.100000</td>\n",
       "      <td>1.000000</td>\n",
       "    </tr>\n",
       "    <tr>\n",
       "      <th>max</th>\n",
       "      <td>90.000000</td>\n",
       "      <td>1.000000</td>\n",
       "      <td>75.000000</td>\n",
       "      <td>19.700000</td>\n",
       "      <td>2110.000000</td>\n",
       "      <td>2000.000000</td>\n",
       "      <td>4929.000000</td>\n",
       "      <td>9.600000</td>\n",
       "      <td>5.500000</td>\n",
       "      <td>2.800000</td>\n",
       "      <td>1.000000</td>\n",
       "    </tr>\n",
       "  </tbody>\n",
       "</table>\n",
       "</div>"
      ],
      "text/plain": [
       "              Age      Gender  Total_Bilirubin  Direct_Bilirubin  \\\n",
       "count  570.000000  570.000000       570.000000        570.000000   \n",
       "mean    44.849123    0.245614         3.321754          1.497544   \n",
       "std     16.242182    0.430829         6.267941          2.833231   \n",
       "min      4.000000    0.000000         0.400000          0.100000   \n",
       "25%     33.000000    0.000000         0.800000          0.200000   \n",
       "50%     45.000000    0.000000         1.000000          0.300000   \n",
       "75%     58.000000    0.000000         2.600000          1.300000   \n",
       "max     90.000000    1.000000        75.000000         19.700000   \n",
       "\n",
       "       Alkaline_Phosphotase  Alamine_Aminotransferase  \\\n",
       "count            570.000000                570.000000   \n",
       "mean             291.750877                 79.728070   \n",
       "std              245.291859                181.471697   \n",
       "min               63.000000                 10.000000   \n",
       "25%              176.000000                 23.000000   \n",
       "50%              208.000000                 35.000000   \n",
       "75%              298.000000                 60.000000   \n",
       "max             2110.000000               2000.000000   \n",
       "\n",
       "       Aspartate_Aminotransferase  Total_Protiens     Albumin  \\\n",
       "count                  570.000000      570.000000  570.000000   \n",
       "mean                   109.380702        6.496316    3.148947   \n",
       "std                    290.880671        1.088300    0.796813   \n",
       "min                     10.000000        2.700000    0.900000   \n",
       "25%                     25.000000        5.800000    2.600000   \n",
       "50%                     41.000000        6.600000    3.100000   \n",
       "75%                     86.750000        7.200000    3.800000   \n",
       "max                   4929.000000        9.600000    5.500000   \n",
       "\n",
       "       Albumin_and_Globulin_Ratio      Target  \n",
       "count                  566.000000  570.000000  \n",
       "mean                     0.948004    0.712281  \n",
       "std                      0.319635    0.453097  \n",
       "min                      0.300000    0.000000  \n",
       "25%                      0.700000    0.000000  \n",
       "50%                      0.950000    1.000000  \n",
       "75%                      1.100000    1.000000  \n",
       "max                      2.800000    1.000000  "
      ]
     },
     "execution_count": 32,
     "metadata": {},
     "output_type": "execute_result"
    }
   ],
   "source": [
    "dados.describe()"
   ]
  },
  {
   "cell_type": "code",
   "execution_count": 33,
   "id": "4e2ee510",
   "metadata": {},
   "outputs": [
    {
     "data": {
      "text/plain": [
       "<AxesSubplot:xlabel='Alamine_Aminotransferase'>"
      ]
     },
     "execution_count": 33,
     "metadata": {},
     "output_type": "execute_result"
    },
    {
     "data": {
      "image/png": "[encoded data removed]",
      "text/plain": [
       "<Figure size 640x480 with 1 Axes>"
      ]
     },
     "metadata": {},
     "output_type": "display_data"
    }
   ],
   "source": [
    "# Boxplot\n",
    "sns.boxplot(dados.Alamine_Aminotransferase)"
   ]
  },
  {
   "cell_type": "code",
   "execution_count": 34,
   "id": "bb33cc66",
   "metadata": {},
   "outputs": [
    {
     "data": {
      "text/plain": [
       "117    2000\n",
       "27     1680\n",
       "47     1630\n",
       "118    1350\n",
       "135    1250\n",
       "Name: Alamine_Aminotransferase, dtype: int64"
      ]
     },
     "execution_count": 34,
     "metadata": {},
     "output_type": "execute_result"
    }
   ],
   "source": [
    "# Contagem de frequencia por valor\n",
    "dados.Alamine_Aminotransferase.sort_values(ascending = False).head()"
   ]
  },
  {
   "cell_type": "code",
   "execution_count": 35,
   "id": "bd61f5bb",
   "metadata": {},
   "outputs": [
    {
     "data": {
      "text/plain": [
       "<AxesSubplot:xlabel='Aspartate_Aminotransferase'>"
      ]
     },
     "execution_count": 35,
     "metadata": {},
     "output_type": "execute_result"
    },
    {
     "data": {
      "image/png": "[encoded data removed]",
      "text/plain": [
       "<Figure size 640x480 with 1 Axes>"
      ]
     },
     "metadata": {},
     "output_type": "display_data"
    }
   ],
   "source": [
    "# Boxplot\n",
    "sns.boxplot(dados.Aspartate_Aminotransferase)"
   ]
  },
  {
   "cell_type": "code",
   "execution_count": 36,
   "id": "37b161f6",
   "metadata": {},
   "outputs": [
    {
     "data": {
      "text/plain": [
       "135    4929\n",
       "117    2946\n",
       "118    1600\n",
       "207    1500\n",
       "199    1050\n",
       "Name: Aspartate_Aminotransferase, dtype: int64"
      ]
     },
     "execution_count": 36,
     "metadata": {},
     "output_type": "execute_result"
    }
   ],
   "source": [
    "# Contagem de frequência por valor\n",
    "dados.Aspartate_Aminotransferase.sort_values(ascending = False).head()"
   ]
  },
  {
   "cell_type": "code",
   "execution_count": 37,
   "id": "8f8f0562",
   "metadata": {},
   "outputs": [
    {
     "data": {
      "text/plain": [
       "(569, 11)"
      ]
     },
     "execution_count": 37,
     "metadata": {},
     "output_type": "execute_result"
    }
   ],
   "source": [
    "# Mantém somente os registros onde o valor for menor ou igual a 3000\n",
    "dados = dados[dados.Aspartate_Aminotransferase <= 3000]\n",
    "dados.shape"
   ]
  },
  {
   "cell_type": "code",
   "execution_count": 38,
   "id": "5ca1aada",
   "metadata": {},
   "outputs": [
    {
     "data": {
      "text/plain": [
       "<AxesSubplot:xlabel='Aspartate_Aminotransferase'>"
      ]
     },
     "execution_count": 38,
     "metadata": {},
     "output_type": "execute_result"
    },
    {
     "data": {
      "image/png": "[encoded data removed]",
      "text/plain": [
       "<Figure size 640x480 with 1 Axes>"
      ]
     },
     "metadata": {},
     "output_type": "display_data"
    }
   ],
   "source": [
    "# Boxplot\n",
    "sns.boxplot(dados.Aspartate_Aminotransferase)"
   ]
  },
  {
   "cell_type": "code",
   "execution_count": 39,
   "id": "c105b013",
   "metadata": {},
   "outputs": [
    {
     "data": {
      "text/plain": [
       "117    2946\n",
       "118    1600\n",
       "207    1500\n",
       "119    1050\n",
       "199    1050\n",
       "Name: Aspartate_Aminotransferase, dtype: int64"
      ]
     },
     "execution_count": 39,
     "metadata": {},
     "output_type": "execute_result"
    }
   ],
   "source": [
    "# Contagem de frequência por valor\n",
    "dados.Aspartate_Aminotransferase.sort_values(ascending = False).head()"
   ]
  },
  {
   "cell_type": "code",
   "execution_count": 40,
   "id": "17798e04",
   "metadata": {},
   "outputs": [
    {
     "data": {
      "text/plain": [
       "(568, 11)"
      ]
     },
     "execution_count": 40,
     "metadata": {},
     "output_type": "execute_result"
    }
   ],
   "source": [
    "# Mantém somente os registros onde o valor for menor ou igual a 2500\n",
    "dados = dados[dados.Aspartate_Aminotransferase <= 2500]\n",
    "dados.shape"
   ]
  },
  {
   "cell_type": "code",
   "execution_count": 41,
   "id": "232b0202",
   "metadata": {},
   "outputs": [
    {
     "data": {
      "text/html": [
       "<div>\n",
       "<style scoped>\n",
       "    .dataframe tbody tr th:only-of-type {\n",
       "        vertical-align: middle;\n",
       "    }\n",
       "\n",
       "    .dataframe tbody tr th {\n",
       "        vertical-align: top;\n",
       "    }\n",
       "\n",
       "    .dataframe thead th {\n",
       "        text-align: right;\n",
       "    }\n",
       "</style>\n",
       "<table border=\"1\" class=\"dataframe\">\n",
       "  <thead>\n",
       "    <tr style=\"text-align: right;\">\n",
       "      <th></th>\n",
       "      <th>Age</th>\n",
       "      <th>Gender</th>\n",
       "      <th>Total_Bilirubin</th>\n",
       "      <th>Direct_Bilirubin</th>\n",
       "      <th>Alkaline_Phosphotase</th>\n",
       "      <th>Alamine_Aminotransferase</th>\n",
       "      <th>Aspartate_Aminotransferase</th>\n",
       "      <th>Total_Protiens</th>\n",
       "      <th>Albumin</th>\n",
       "      <th>Albumin_and_Globulin_Ratio</th>\n",
       "      <th>Target</th>\n",
       "    </tr>\n",
       "  </thead>\n",
       "  <tbody>\n",
       "    <tr>\n",
       "      <th>count</th>\n",
       "      <td>568.000000</td>\n",
       "      <td>568.000000</td>\n",
       "      <td>568.000000</td>\n",
       "      <td>568.000000</td>\n",
       "      <td>568.000000</td>\n",
       "      <td>568.000000</td>\n",
       "      <td>568.000000</td>\n",
       "      <td>568.000000</td>\n",
       "      <td>568.000000</td>\n",
       "      <td>564.000000</td>\n",
       "      <td>568.000000</td>\n",
       "    </tr>\n",
       "    <tr>\n",
       "      <th>mean</th>\n",
       "      <td>44.834507</td>\n",
       "      <td>0.246479</td>\n",
       "      <td>3.291197</td>\n",
       "      <td>1.482042</td>\n",
       "      <td>290.482394</td>\n",
       "      <td>74.286972</td>\n",
       "      <td>95.901408</td>\n",
       "      <td>6.496831</td>\n",
       "      <td>3.150000</td>\n",
       "      <td>0.948174</td>\n",
       "      <td>0.711268</td>\n",
       "    </tr>\n",
       "    <tr>\n",
       "      <th>std</th>\n",
       "      <td>16.237569</td>\n",
       "      <td>0.431340</td>\n",
       "      <td>6.257583</td>\n",
       "      <td>2.826056</td>\n",
       "      <td>243.271522</td>\n",
       "      <td>155.240601</td>\n",
       "      <td>171.956479</td>\n",
       "      <td>1.089500</td>\n",
       "      <td>0.797571</td>\n",
       "      <td>0.319301</td>\n",
       "      <td>0.453573</td>\n",
       "    </tr>\n",
       "    <tr>\n",
       "      <th>min</th>\n",
       "      <td>4.000000</td>\n",
       "      <td>0.000000</td>\n",
       "      <td>0.400000</td>\n",
       "      <td>0.100000</td>\n",
       "      <td>63.000000</td>\n",
       "      <td>10.000000</td>\n",
       "      <td>10.000000</td>\n",
       "      <td>2.700000</td>\n",
       "      <td>0.900000</td>\n",
       "      <td>0.300000</td>\n",
       "      <td>0.000000</td>\n",
       "    </tr>\n",
       "    <tr>\n",
       "      <th>25%</th>\n",
       "      <td>33.000000</td>\n",
       "      <td>0.000000</td>\n",
       "      <td>0.800000</td>\n",
       "      <td>0.200000</td>\n",
       "      <td>175.750000</td>\n",
       "      <td>23.000000</td>\n",
       "      <td>25.000000</td>\n",
       "      <td>5.800000</td>\n",
       "      <td>2.600000</td>\n",
       "      <td>0.700000</td>\n",
       "      <td>0.000000</td>\n",
       "    </tr>\n",
       "    <tr>\n",
       "      <th>50%</th>\n",
       "      <td>45.000000</td>\n",
       "      <td>0.000000</td>\n",
       "      <td>1.000000</td>\n",
       "      <td>0.300000</td>\n",
       "      <td>208.000000</td>\n",
       "      <td>35.000000</td>\n",
       "      <td>41.000000</td>\n",
       "      <td>6.600000</td>\n",
       "      <td>3.100000</td>\n",
       "      <td>0.950000</td>\n",
       "      <td>1.000000</td>\n",
       "    </tr>\n",
       "    <tr>\n",
       "      <th>75%</th>\n",
       "      <td>58.000000</td>\n",
       "      <td>0.000000</td>\n",
       "      <td>2.600000</td>\n",
       "      <td>1.300000</td>\n",
       "      <td>298.000000</td>\n",
       "      <td>60.000000</td>\n",
       "      <td>86.000000</td>\n",
       "      <td>7.200000</td>\n",
       "      <td>3.800000</td>\n",
       "      <td>1.100000</td>\n",
       "      <td>1.000000</td>\n",
       "    </tr>\n",
       "    <tr>\n",
       "      <th>max</th>\n",
       "      <td>90.000000</td>\n",
       "      <td>1.000000</td>\n",
       "      <td>75.000000</td>\n",
       "      <td>19.700000</td>\n",
       "      <td>2110.000000</td>\n",
       "      <td>1680.000000</td>\n",
       "      <td>1600.000000</td>\n",
       "      <td>9.600000</td>\n",
       "      <td>5.500000</td>\n",
       "      <td>2.800000</td>\n",
       "      <td>1.000000</td>\n",
       "    </tr>\n",
       "  </tbody>\n",
       "</table>\n",
       "</div>"
      ],
      "text/plain": [
       "              Age      Gender  Total_Bilirubin  Direct_Bilirubin  \\\n",
       "count  568.000000  568.000000       568.000000        568.000000   \n",
       "mean    44.834507    0.246479         3.291197          1.482042   \n",
       "std     16.237569    0.431340         6.257583          2.826056   \n",
       "min      4.000000    0.000000         0.400000          0.100000   \n",
       "25%     33.000000    0.000000         0.800000          0.200000   \n",
       "50%     45.000000    0.000000         1.000000          0.300000   \n",
       "75%     58.000000    0.000000         2.600000          1.300000   \n",
       "max     90.000000    1.000000        75.000000         19.700000   \n",
       "\n",
       "       Alkaline_Phosphotase  Alamine_Aminotransferase  \\\n",
       "count            568.000000                568.000000   \n",
       "mean             290.482394                 74.286972   \n",
       "std              243.271522                155.240601   \n",
       "min               63.000000                 10.000000   \n",
       "25%              175.750000                 23.000000   \n",
       "50%              208.000000                 35.000000   \n",
       "75%              298.000000                 60.000000   \n",
       "max             2110.000000               1680.000000   \n",
       "\n",
       "       Aspartate_Aminotransferase  Total_Protiens     Albumin  \\\n",
       "count                  568.000000      568.000000  568.000000   \n",
       "mean                    95.901408        6.496831    3.150000   \n",
       "std                    171.956479        1.089500    0.797571   \n",
       "min                     10.000000        2.700000    0.900000   \n",
       "25%                     25.000000        5.800000    2.600000   \n",
       "50%                     41.000000        6.600000    3.100000   \n",
       "75%                     86.000000        7.200000    3.800000   \n",
       "max                   1600.000000        9.600000    5.500000   \n",
       "\n",
       "       Albumin_and_Globulin_Ratio      Target  \n",
       "count                  564.000000  568.000000  \n",
       "mean                     0.948174    0.711268  \n",
       "std                      0.319301    0.453573  \n",
       "min                      0.300000    0.000000  \n",
       "25%                      0.700000    0.000000  \n",
       "50%                      0.950000    1.000000  \n",
       "75%                      1.100000    1.000000  \n",
       "max                      2.800000    1.000000  "
      ]
     },
     "execution_count": 41,
     "metadata": {},
     "output_type": "execute_result"
    }
   ],
   "source": [
    "dados.describe()"
   ]
  },
  {
   "cell_type": "markdown",
   "id": "9dae3d48",
   "metadata": {},
   "source": [
    "### Tratamento de Valores Ausentes"
   ]
  },
  {
   "cell_type": "code",
   "execution_count": 42,
   "id": "75877907",
   "metadata": {},
   "outputs": [
    {
     "data": {
      "text/plain": [
       "True"
      ]
     },
     "execution_count": 42,
     "metadata": {},
     "output_type": "execute_result"
    }
   ],
   "source": [
    "# Verifica se há valor ausente\n",
    "dados.isnull().values.any()"
   ]
  },
  {
   "cell_type": "code",
   "execution_count": 43,
   "id": "ba7b58a4",
   "metadata": {},
   "outputs": [
    {
     "data": {
      "text/plain": [
       "1"
      ]
     },
     "execution_count": 43,
     "metadata": {},
     "output_type": "execute_result"
    }
   ],
   "source": [
    "# Verifica quantas colunas tem valor ausente\n",
    "dados.isnull().values.any().sum()"
   ]
  },
  {
   "cell_type": "code",
   "execution_count": 44,
   "id": "883ae300",
   "metadata": {},
   "outputs": [
    {
     "data": {
      "text/html": [
       "<div>\n",
       "<style scoped>\n",
       "    .dataframe tbody tr th:only-of-type {\n",
       "        vertical-align: middle;\n",
       "    }\n",
       "\n",
       "    .dataframe tbody tr th {\n",
       "        vertical-align: top;\n",
       "    }\n",
       "\n",
       "    .dataframe thead th {\n",
       "        text-align: right;\n",
       "    }\n",
       "</style>\n",
       "<table border=\"1\" class=\"dataframe\">\n",
       "  <thead>\n",
       "    <tr style=\"text-align: right;\">\n",
       "      <th></th>\n",
       "      <th>Age</th>\n",
       "      <th>Gender</th>\n",
       "      <th>Total_Bilirubin</th>\n",
       "      <th>Direct_Bilirubin</th>\n",
       "      <th>Alkaline_Phosphotase</th>\n",
       "      <th>Alamine_Aminotransferase</th>\n",
       "      <th>Aspartate_Aminotransferase</th>\n",
       "      <th>Total_Protiens</th>\n",
       "      <th>Albumin</th>\n",
       "      <th>Albumin_and_Globulin_Ratio</th>\n",
       "      <th>Target</th>\n",
       "    </tr>\n",
       "  </thead>\n",
       "  <tbody>\n",
       "    <tr>\n",
       "      <th>209</th>\n",
       "      <td>45</td>\n",
       "      <td>1</td>\n",
       "      <td>0.9</td>\n",
       "      <td>0.3</td>\n",
       "      <td>189</td>\n",
       "      <td>23</td>\n",
       "      <td>33</td>\n",
       "      <td>6.6</td>\n",
       "      <td>3.9</td>\n",
       "      <td>NaN</td>\n",
       "      <td>1</td>\n",
       "    </tr>\n",
       "    <tr>\n",
       "      <th>241</th>\n",
       "      <td>51</td>\n",
       "      <td>0</td>\n",
       "      <td>0.8</td>\n",
       "      <td>0.2</td>\n",
       "      <td>230</td>\n",
       "      <td>24</td>\n",
       "      <td>46</td>\n",
       "      <td>6.5</td>\n",
       "      <td>3.1</td>\n",
       "      <td>NaN</td>\n",
       "      <td>1</td>\n",
       "    </tr>\n",
       "    <tr>\n",
       "      <th>253</th>\n",
       "      <td>35</td>\n",
       "      <td>1</td>\n",
       "      <td>0.6</td>\n",
       "      <td>0.2</td>\n",
       "      <td>180</td>\n",
       "      <td>12</td>\n",
       "      <td>15</td>\n",
       "      <td>5.2</td>\n",
       "      <td>2.7</td>\n",
       "      <td>NaN</td>\n",
       "      <td>0</td>\n",
       "    </tr>\n",
       "    <tr>\n",
       "      <th>312</th>\n",
       "      <td>27</td>\n",
       "      <td>0</td>\n",
       "      <td>1.3</td>\n",
       "      <td>0.6</td>\n",
       "      <td>106</td>\n",
       "      <td>25</td>\n",
       "      <td>54</td>\n",
       "      <td>8.5</td>\n",
       "      <td>4.8</td>\n",
       "      <td>NaN</td>\n",
       "      <td>0</td>\n",
       "    </tr>\n",
       "  </tbody>\n",
       "</table>\n",
       "</div>"
      ],
      "text/plain": [
       "     Age  Gender  Total_Bilirubin  Direct_Bilirubin  Alkaline_Phosphotase  \\\n",
       "209   45       1              0.9               0.3                   189   \n",
       "241   51       0              0.8               0.2                   230   \n",
       "253   35       1              0.6               0.2                   180   \n",
       "312   27       0              1.3               0.6                   106   \n",
       "\n",
       "     Alamine_Aminotransferase  Aspartate_Aminotransferase  Total_Protiens  \\\n",
       "209                        23                          33             6.6   \n",
       "241                        24                          46             6.5   \n",
       "253                        12                          15             5.2   \n",
       "312                        25                          54             8.5   \n",
       "\n",
       "     Albumin  Albumin_and_Globulin_Ratio  Target  \n",
       "209      3.9                         NaN       1  \n",
       "241      3.1                         NaN       1  \n",
       "253      2.7                         NaN       0  \n",
       "312      4.8                         NaN       0  "
      ]
     },
     "execution_count": 44,
     "metadata": {},
     "output_type": "execute_result"
    }
   ],
   "source": [
    "# Lista os valores ausentes\n",
    "dados[dados.isnull().values]"
   ]
  },
  {
   "cell_type": "code",
   "execution_count": 45,
   "id": "c7b8b4cd",
   "metadata": {},
   "outputs": [
    {
     "data": {
      "text/plain": [
       "(568, 11)"
      ]
     },
     "execution_count": 45,
     "metadata": {},
     "output_type": "execute_result"
    }
   ],
   "source": [
    "dados.shape"
   ]
  },
  {
   "cell_type": "code",
   "execution_count": 46,
   "id": "5b2db40b",
   "metadata": {},
   "outputs": [],
   "source": [
    "# Drop dos registros com valores ausentes em qualquer coluna (any)\n",
    "dados = dados.dropna(how = 'any')"
   ]
  },
  {
   "cell_type": "code",
   "execution_count": 47,
   "id": "3918b1ae",
   "metadata": {},
   "outputs": [
    {
     "data": {
      "text/plain": [
       "(564, 11)"
      ]
     },
     "execution_count": 47,
     "metadata": {},
     "output_type": "execute_result"
    }
   ],
   "source": [
    "dados.shape"
   ]
  },
  {
   "cell_type": "code",
   "execution_count": 48,
   "id": "be23e0f3",
   "metadata": {},
   "outputs": [
    {
     "data": {
      "text/html": [
       "<div>\n",
       "<style scoped>\n",
       "    .dataframe tbody tr th:only-of-type {\n",
       "        vertical-align: middle;\n",
       "    }\n",
       "\n",
       "    .dataframe tbody tr th {\n",
       "        vertical-align: top;\n",
       "    }\n",
       "\n",
       "    .dataframe thead th {\n",
       "        text-align: right;\n",
       "    }\n",
       "</style>\n",
       "<table border=\"1\" class=\"dataframe\">\n",
       "  <thead>\n",
       "    <tr style=\"text-align: right;\">\n",
       "      <th></th>\n",
       "      <th>Age</th>\n",
       "      <th>Gender</th>\n",
       "      <th>Total_Bilirubin</th>\n",
       "      <th>Direct_Bilirubin</th>\n",
       "      <th>Alkaline_Phosphotase</th>\n",
       "      <th>Alamine_Aminotransferase</th>\n",
       "      <th>Aspartate_Aminotransferase</th>\n",
       "      <th>Total_Protiens</th>\n",
       "      <th>Albumin</th>\n",
       "      <th>Albumin_and_Globulin_Ratio</th>\n",
       "      <th>Target</th>\n",
       "    </tr>\n",
       "  </thead>\n",
       "  <tbody>\n",
       "  </tbody>\n",
       "</table>\n",
       "</div>"
      ],
      "text/plain": [
       "Empty DataFrame\n",
       "Columns: [Age, Gender, Total_Bilirubin, Direct_Bilirubin, Alkaline_Phosphotase, Alamine_Aminotransferase, Aspartate_Aminotransferase, Total_Protiens, Albumin, Albumin_and_Globulin_Ratio, Target]\n",
       "Index: []"
      ]
     },
     "execution_count": 48,
     "metadata": {},
     "output_type": "execute_result"
    }
   ],
   "source": [
    "# Lista os valores ausentes\n",
    "dados[dados.isnull().values]"
   ]
  },
  {
   "cell_type": "code",
   "execution_count": 49,
   "id": "fe1eefd5",
   "metadata": {},
   "outputs": [
    {
     "data": {
      "text/html": [
       "<div>\n",
       "<style scoped>\n",
       "    .dataframe tbody tr th:only-of-type {\n",
       "        vertical-align: middle;\n",
       "    }\n",
       "\n",
       "    .dataframe tbody tr th {\n",
       "        vertical-align: top;\n",
       "    }\n",
       "\n",
       "    .dataframe thead th {\n",
       "        text-align: right;\n",
       "    }\n",
       "</style>\n",
       "<table border=\"1\" class=\"dataframe\">\n",
       "  <thead>\n",
       "    <tr style=\"text-align: right;\">\n",
       "      <th></th>\n",
       "      <th>Age</th>\n",
       "      <th>Gender</th>\n",
       "      <th>Total_Bilirubin</th>\n",
       "      <th>Direct_Bilirubin</th>\n",
       "      <th>Alkaline_Phosphotase</th>\n",
       "      <th>Alamine_Aminotransferase</th>\n",
       "      <th>Aspartate_Aminotransferase</th>\n",
       "      <th>Total_Protiens</th>\n",
       "      <th>Albumin</th>\n",
       "      <th>Albumin_and_Globulin_Ratio</th>\n",
       "      <th>Target</th>\n",
       "    </tr>\n",
       "  </thead>\n",
       "  <tbody>\n",
       "    <tr>\n",
       "      <th>265</th>\n",
       "      <td>4</td>\n",
       "      <td>0</td>\n",
       "      <td>0.9</td>\n",
       "      <td>0.2</td>\n",
       "      <td>348</td>\n",
       "      <td>30</td>\n",
       "      <td>34</td>\n",
       "      <td>8.0</td>\n",
       "      <td>4.0</td>\n",
       "      <td>1.0</td>\n",
       "      <td>0</td>\n",
       "    </tr>\n",
       "    <tr>\n",
       "      <th>356</th>\n",
       "      <td>33</td>\n",
       "      <td>0</td>\n",
       "      <td>0.7</td>\n",
       "      <td>0.2</td>\n",
       "      <td>256</td>\n",
       "      <td>21</td>\n",
       "      <td>30</td>\n",
       "      <td>8.5</td>\n",
       "      <td>3.9</td>\n",
       "      <td>0.8</td>\n",
       "      <td>1</td>\n",
       "    </tr>\n",
       "    <tr>\n",
       "      <th>160</th>\n",
       "      <td>60</td>\n",
       "      <td>0</td>\n",
       "      <td>11.0</td>\n",
       "      <td>4.9</td>\n",
       "      <td>750</td>\n",
       "      <td>140</td>\n",
       "      <td>350</td>\n",
       "      <td>5.5</td>\n",
       "      <td>2.1</td>\n",
       "      <td>0.6</td>\n",
       "      <td>1</td>\n",
       "    </tr>\n",
       "    <tr>\n",
       "      <th>301</th>\n",
       "      <td>51</td>\n",
       "      <td>1</td>\n",
       "      <td>0.9</td>\n",
       "      <td>0.2</td>\n",
       "      <td>280</td>\n",
       "      <td>21</td>\n",
       "      <td>30</td>\n",
       "      <td>6.7</td>\n",
       "      <td>3.2</td>\n",
       "      <td>0.8</td>\n",
       "      <td>1</td>\n",
       "    </tr>\n",
       "    <tr>\n",
       "      <th>260</th>\n",
       "      <td>42</td>\n",
       "      <td>0</td>\n",
       "      <td>16.4</td>\n",
       "      <td>8.9</td>\n",
       "      <td>245</td>\n",
       "      <td>56</td>\n",
       "      <td>87</td>\n",
       "      <td>5.4</td>\n",
       "      <td>2.0</td>\n",
       "      <td>0.5</td>\n",
       "      <td>1</td>\n",
       "    </tr>\n",
       "  </tbody>\n",
       "</table>\n",
       "</div>"
      ],
      "text/plain": [
       "     Age  Gender  Total_Bilirubin  Direct_Bilirubin  Alkaline_Phosphotase  \\\n",
       "265    4       0              0.9               0.2                   348   \n",
       "356   33       0              0.7               0.2                   256   \n",
       "160   60       0             11.0               4.9                   750   \n",
       "301   51       1              0.9               0.2                   280   \n",
       "260   42       0             16.4               8.9                   245   \n",
       "\n",
       "     Alamine_Aminotransferase  Aspartate_Aminotransferase  Total_Protiens  \\\n",
       "265                        30                          34             8.0   \n",
       "356                        21                          30             8.5   \n",
       "160                       140                         350             5.5   \n",
       "301                        21                          30             6.7   \n",
       "260                        56                          87             5.4   \n",
       "\n",
       "     Albumin  Albumin_and_Globulin_Ratio  Target  \n",
       "265      4.0                         1.0       0  \n",
       "356      3.9                         0.8       1  \n",
       "160      2.1                         0.6       1  \n",
       "301      3.2                         0.8       1  \n",
       "260      2.0                         0.5       1  "
      ]
     },
     "execution_count": 49,
     "metadata": {},
     "output_type": "execute_result"
    }
   ],
   "source": [
    "dados.sample(5)"
   ]
  },
  {
   "cell_type": "markdown",
   "id": "d311c22d",
   "metadata": {},
   "source": [
    "## Pré-Processamento de Dados Para Construção de Modelos de Machine Learning"
   ]
  },
  {
   "cell_type": "code",
   "execution_count": 50,
   "id": "e41ba95b",
   "metadata": {},
   "outputs": [],
   "source": [
    "# Data a alta correlação entre as variáveis Direct_Bilirubin e Total_Bilirubin, vamos remover Direct_Bilirubin\n",
    "dados = dados.drop('Direct_Bilirubin', 1)"
   ]
  },
  {
   "cell_type": "code",
   "execution_count": 51,
   "id": "327cde28",
   "metadata": {},
   "outputs": [
    {
     "data": {
      "text/plain": [
       "(564, 10)"
      ]
     },
     "execution_count": 51,
     "metadata": {},
     "output_type": "execute_result"
    }
   ],
   "source": [
    "dados.shape"
   ]
  },
  {
   "cell_type": "markdown",
   "id": "0d024aaa",
   "metadata": {},
   "source": [
    "### Divisão em Treino e Teste"
   ]
  },
  {
   "cell_type": "code",
   "execution_count": 52,
   "id": "e5190c1d",
   "metadata": {},
   "outputs": [
    {
     "data": {
      "text/html": [
       "<div>\n",
       "<style scoped>\n",
       "    .dataframe tbody tr th:only-of-type {\n",
       "        vertical-align: middle;\n",
       "    }\n",
       "\n",
       "    .dataframe tbody tr th {\n",
       "        vertical-align: top;\n",
       "    }\n",
       "\n",
       "    .dataframe thead th {\n",
       "        text-align: right;\n",
       "    }\n",
       "</style>\n",
       "<table border=\"1\" class=\"dataframe\">\n",
       "  <thead>\n",
       "    <tr style=\"text-align: right;\">\n",
       "      <th></th>\n",
       "      <th>Age</th>\n",
       "      <th>Gender</th>\n",
       "      <th>Total_Bilirubin</th>\n",
       "      <th>Alkaline_Phosphotase</th>\n",
       "      <th>Alamine_Aminotransferase</th>\n",
       "      <th>Aspartate_Aminotransferase</th>\n",
       "      <th>Total_Protiens</th>\n",
       "      <th>Albumin</th>\n",
       "      <th>Albumin_and_Globulin_Ratio</th>\n",
       "      <th>Target</th>\n",
       "    </tr>\n",
       "  </thead>\n",
       "  <tbody>\n",
       "    <tr>\n",
       "      <th>0</th>\n",
       "      <td>65</td>\n",
       "      <td>1</td>\n",
       "      <td>0.7</td>\n",
       "      <td>187</td>\n",
       "      <td>16</td>\n",
       "      <td>18</td>\n",
       "      <td>6.8</td>\n",
       "      <td>3.3</td>\n",
       "      <td>0.90</td>\n",
       "      <td>1</td>\n",
       "    </tr>\n",
       "    <tr>\n",
       "      <th>1</th>\n",
       "      <td>62</td>\n",
       "      <td>0</td>\n",
       "      <td>10.9</td>\n",
       "      <td>699</td>\n",
       "      <td>64</td>\n",
       "      <td>100</td>\n",
       "      <td>7.5</td>\n",
       "      <td>3.2</td>\n",
       "      <td>0.74</td>\n",
       "      <td>1</td>\n",
       "    </tr>\n",
       "    <tr>\n",
       "      <th>2</th>\n",
       "      <td>62</td>\n",
       "      <td>0</td>\n",
       "      <td>7.3</td>\n",
       "      <td>490</td>\n",
       "      <td>60</td>\n",
       "      <td>68</td>\n",
       "      <td>7.0</td>\n",
       "      <td>3.3</td>\n",
       "      <td>0.89</td>\n",
       "      <td>1</td>\n",
       "    </tr>\n",
       "    <tr>\n",
       "      <th>3</th>\n",
       "      <td>58</td>\n",
       "      <td>0</td>\n",
       "      <td>1.0</td>\n",
       "      <td>182</td>\n",
       "      <td>14</td>\n",
       "      <td>20</td>\n",
       "      <td>6.8</td>\n",
       "      <td>3.4</td>\n",
       "      <td>1.00</td>\n",
       "      <td>1</td>\n",
       "    </tr>\n",
       "    <tr>\n",
       "      <th>4</th>\n",
       "      <td>72</td>\n",
       "      <td>0</td>\n",
       "      <td>3.9</td>\n",
       "      <td>195</td>\n",
       "      <td>27</td>\n",
       "      <td>59</td>\n",
       "      <td>7.3</td>\n",
       "      <td>2.4</td>\n",
       "      <td>0.40</td>\n",
       "      <td>1</td>\n",
       "    </tr>\n",
       "  </tbody>\n",
       "</table>\n",
       "</div>"
      ],
      "text/plain": [
       "   Age  Gender  Total_Bilirubin  Alkaline_Phosphotase  \\\n",
       "0   65       1              0.7                   187   \n",
       "1   62       0             10.9                   699   \n",
       "2   62       0              7.3                   490   \n",
       "3   58       0              1.0                   182   \n",
       "4   72       0              3.9                   195   \n",
       "\n",
       "   Alamine_Aminotransferase  Aspartate_Aminotransferase  Total_Protiens  \\\n",
       "0                        16                          18             6.8   \n",
       "1                        64                         100             7.5   \n",
       "2                        60                          68             7.0   \n",
       "3                        14                          20             6.8   \n",
       "4                        27                          59             7.3   \n",
       "\n",
       "   Albumin  Albumin_and_Globulin_Ratio  Target  \n",
       "0      3.3                        0.90       1  \n",
       "1      3.2                        0.74       1  \n",
       "2      3.3                        0.89       1  \n",
       "3      3.4                        1.00       1  \n",
       "4      2.4                        0.40       1  "
      ]
     },
     "execution_count": 52,
     "metadata": {},
     "output_type": "execute_result"
    }
   ],
   "source": [
    "dados.head()"
   ]
  },
  {
   "cell_type": "code",
   "execution_count": 53,
   "id": "74b7a495",
   "metadata": {},
   "outputs": [],
   "source": [
    "# Cria um objeto separado para variável target\n",
    "y = dados.Target"
   ]
  },
  {
   "cell_type": "code",
   "execution_count": 54,
   "id": "4998c9aa",
   "metadata": {},
   "outputs": [],
   "source": [
    "# Cria um objeto separado para as variáveis de entrada\n",
    "X = dados.drop('Target', axis = 1)"
   ]
  },
  {
   "cell_type": "code",
   "execution_count": 55,
   "id": "ead7f2b6",
   "metadata": {},
   "outputs": [],
   "source": [
    "# Split em dados de treino e teste com amostragem estratificada\n",
    "X_treino, X_teste, y_treino, y_teste = train_test_split(X, \n",
    "                                                        y, \n",
    "                                                        test_size = 0.25, \n",
    "                                                        random_state = 1234,\n",
    "                                                        stratify = dados.Target)"
   ]
  },
  {
   "cell_type": "code",
   "execution_count": 56,
   "id": "adf77042",
   "metadata": {},
   "outputs": [
    {
     "data": {
      "text/plain": [
       "423"
      ]
     },
     "execution_count": 56,
     "metadata": {},
     "output_type": "execute_result"
    }
   ],
   "source": [
    "len(X_treino)"
   ]
  },
  {
   "cell_type": "code",
   "execution_count": 57,
   "id": "d689cf6a",
   "metadata": {},
   "outputs": [
    {
     "data": {
      "text/plain": [
       "141"
      ]
     },
     "execution_count": 57,
     "metadata": {},
     "output_type": "execute_result"
    }
   ],
   "source": [
    "len(X_teste)"
   ]
  },
  {
   "cell_type": "code",
   "execution_count": 58,
   "id": "88fe607d",
   "metadata": {},
   "outputs": [
    {
     "name": "stdout",
     "output_type": "stream",
     "text": [
      "(423, 9) (141, 9) (423,) (141,)\n"
     ]
    }
   ],
   "source": [
    "# Print do shape\n",
    "print(X_treino.shape, X_teste.shape, y_treino.shape, y_teste.shape)"
   ]
  },
  {
   "cell_type": "code",
   "execution_count": 59,
   "id": "1f6f67b3",
   "metadata": {},
   "outputs": [
    {
     "data": {
      "text/html": [
       "<div>\n",
       "<style scoped>\n",
       "    .dataframe tbody tr th:only-of-type {\n",
       "        vertical-align: middle;\n",
       "    }\n",
       "\n",
       "    .dataframe tbody tr th {\n",
       "        vertical-align: top;\n",
       "    }\n",
       "\n",
       "    .dataframe thead th {\n",
       "        text-align: right;\n",
       "    }\n",
       "</style>\n",
       "<table border=\"1\" class=\"dataframe\">\n",
       "  <thead>\n",
       "    <tr style=\"text-align: right;\">\n",
       "      <th></th>\n",
       "      <th>Age</th>\n",
       "      <th>Gender</th>\n",
       "      <th>Total_Bilirubin</th>\n",
       "      <th>Alkaline_Phosphotase</th>\n",
       "      <th>Alamine_Aminotransferase</th>\n",
       "      <th>Aspartate_Aminotransferase</th>\n",
       "      <th>Total_Protiens</th>\n",
       "      <th>Albumin</th>\n",
       "      <th>Albumin_and_Globulin_Ratio</th>\n",
       "    </tr>\n",
       "  </thead>\n",
       "  <tbody>\n",
       "    <tr>\n",
       "      <th>205</th>\n",
       "      <td>45</td>\n",
       "      <td>0</td>\n",
       "      <td>2.5</td>\n",
       "      <td>163</td>\n",
       "      <td>28</td>\n",
       "      <td>22</td>\n",
       "      <td>7.6</td>\n",
       "      <td>4.0</td>\n",
       "      <td>1.1</td>\n",
       "    </tr>\n",
       "    <tr>\n",
       "      <th>390</th>\n",
       "      <td>72</td>\n",
       "      <td>0</td>\n",
       "      <td>0.8</td>\n",
       "      <td>148</td>\n",
       "      <td>23</td>\n",
       "      <td>35</td>\n",
       "      <td>6.0</td>\n",
       "      <td>3.0</td>\n",
       "      <td>1.0</td>\n",
       "    </tr>\n",
       "  </tbody>\n",
       "</table>\n",
       "</div>"
      ],
      "text/plain": [
       "     Age  Gender  Total_Bilirubin  Alkaline_Phosphotase  \\\n",
       "205   45       0              2.5                   163   \n",
       "390   72       0              0.8                   148   \n",
       "\n",
       "     Alamine_Aminotransferase  Aspartate_Aminotransferase  Total_Protiens  \\\n",
       "205                        28                          22             7.6   \n",
       "390                        23                          35             6.0   \n",
       "\n",
       "     Albumin  Albumin_and_Globulin_Ratio  \n",
       "205      4.0                         1.1  \n",
       "390      3.0                         1.0  "
      ]
     },
     "execution_count": 59,
     "metadata": {},
     "output_type": "execute_result"
    }
   ],
   "source": [
    "X_treino.head(2)"
   ]
  },
  {
   "cell_type": "markdown",
   "id": "c0e2f000",
   "metadata": {},
   "source": [
    "### Balanceamento de Classe"
   ]
  },
  {
   "cell_type": "code",
   "execution_count": 60,
   "id": "e857c9a2",
   "metadata": {},
   "outputs": [
    {
     "data": {
      "text/plain": [
       "1    301\n",
       "0    122\n",
       "Name: Target, dtype: int64"
      ]
     },
     "execution_count": 60,
     "metadata": {},
     "output_type": "execute_result"
    }
   ],
   "source": [
    "y_treino.value_counts()"
   ]
  },
  {
   "cell_type": "code",
   "execution_count": 61,
   "id": "e7cfb081",
   "metadata": {},
   "outputs": [],
   "source": [
    "# Instala o pacote\n",
    "!pip install -q imblearn"
   ]
  },
  {
   "cell_type": "code",
   "execution_count": 62,
   "id": "2a3ad619",
   "metadata": {},
   "outputs": [],
   "source": [
    "# Carrega a função SMOTE\n",
    "import imblearn\n",
    "from imblearn.over_sampling import SMOTE"
   ]
  },
  {
   "cell_type": "code",
   "execution_count": 63,
   "id": "bb3676fc",
   "metadata": {},
   "outputs": [],
   "source": [
    "# Vamos aplicar a técnica de oversampling e aumentar o número de exemplos da classe minoritária\n",
    "over_sampler = SMOTE(k_neighbors = 2)"
   ]
  },
  {
   "cell_type": "code",
   "execution_count": 64,
   "id": "e1ac1013",
   "metadata": {},
   "outputs": [],
   "source": [
    "# Aplica o oversampling (deve ser feito somente com dados de treino)\n",
    "X_res, y_res = over_sampler.fit_resample(X_treino, y_treino)"
   ]
  },
  {
   "cell_type": "code",
   "execution_count": 65,
   "id": "3463cda8",
   "metadata": {},
   "outputs": [
    {
     "data": {
      "text/plain": [
       "602"
      ]
     },
     "execution_count": 65,
     "metadata": {},
     "output_type": "execute_result"
    }
   ],
   "source": [
    "len(X_res)"
   ]
  },
  {
   "cell_type": "code",
   "execution_count": 66,
   "id": "55a4c246",
   "metadata": {},
   "outputs": [
    {
     "data": {
      "text/plain": [
       "602"
      ]
     },
     "execution_count": 66,
     "metadata": {},
     "output_type": "execute_result"
    }
   ],
   "source": [
    "len(y_res)"
   ]
  },
  {
   "cell_type": "code",
   "execution_count": 67,
   "id": "d82dce18",
   "metadata": {},
   "outputs": [
    {
     "data": {
      "text/plain": [
       "1    301\n",
       "0    301\n",
       "Name: Target, dtype: int64"
      ]
     },
     "execution_count": 67,
     "metadata": {},
     "output_type": "execute_result"
    }
   ],
   "source": [
    "y_res.value_counts()"
   ]
  },
  {
   "cell_type": "code",
   "execution_count": 68,
   "id": "e07e4cf6",
   "metadata": {},
   "outputs": [],
   "source": [
    "# Ajusta o nome do dataset de treino para X\n",
    "X_treino = X_res"
   ]
  },
  {
   "cell_type": "code",
   "execution_count": 69,
   "id": "3f82e015",
   "metadata": {},
   "outputs": [],
   "source": [
    "# Ajusta o nome do dataset de treino para y\n",
    "y_treino = y_res"
   ]
  },
  {
   "cell_type": "markdown",
   "id": "6d239084",
   "metadata": {},
   "source": [
    "### Padronização dos Dados\n",
    "\n",
    "Padronização (ou normalização do escore Z ou em inglês Standardization ou ainda \n",
    "Standard Scaler) é o processo de redimensionamento dos recursos (variáveis) para que eles \n",
    "tenham as propriedades de uma distribuição normal com μ = 0 e σ = 1, onde μ é a média e σ é o \n",
    "desvio padrão da média"
   ]
  },
  {
   "cell_type": "code",
   "execution_count": 70,
   "id": "6de31ed6",
   "metadata": {},
   "outputs": [
    {
     "data": {
      "text/html": [
       "<div>\n",
       "<style scoped>\n",
       "    .dataframe tbody tr th:only-of-type {\n",
       "        vertical-align: middle;\n",
       "    }\n",
       "\n",
       "    .dataframe tbody tr th {\n",
       "        vertical-align: top;\n",
       "    }\n",
       "\n",
       "    .dataframe thead th {\n",
       "        text-align: right;\n",
       "    }\n",
       "</style>\n",
       "<table border=\"1\" class=\"dataframe\">\n",
       "  <thead>\n",
       "    <tr style=\"text-align: right;\">\n",
       "      <th></th>\n",
       "      <th>Age</th>\n",
       "      <th>Gender</th>\n",
       "      <th>Total_Bilirubin</th>\n",
       "      <th>Alkaline_Phosphotase</th>\n",
       "      <th>Alamine_Aminotransferase</th>\n",
       "      <th>Aspartate_Aminotransferase</th>\n",
       "      <th>Total_Protiens</th>\n",
       "      <th>Albumin</th>\n",
       "      <th>Albumin_and_Globulin_Ratio</th>\n",
       "    </tr>\n",
       "  </thead>\n",
       "  <tbody>\n",
       "    <tr>\n",
       "      <th>0</th>\n",
       "      <td>45</td>\n",
       "      <td>0</td>\n",
       "      <td>2.5</td>\n",
       "      <td>163</td>\n",
       "      <td>28</td>\n",
       "      <td>22</td>\n",
       "      <td>7.6</td>\n",
       "      <td>4.0</td>\n",
       "      <td>1.1</td>\n",
       "    </tr>\n",
       "    <tr>\n",
       "      <th>1</th>\n",
       "      <td>72</td>\n",
       "      <td>0</td>\n",
       "      <td>0.8</td>\n",
       "      <td>148</td>\n",
       "      <td>23</td>\n",
       "      <td>35</td>\n",
       "      <td>6.0</td>\n",
       "      <td>3.0</td>\n",
       "      <td>1.0</td>\n",
       "    </tr>\n",
       "    <tr>\n",
       "      <th>2</th>\n",
       "      <td>18</td>\n",
       "      <td>0</td>\n",
       "      <td>0.8</td>\n",
       "      <td>282</td>\n",
       "      <td>72</td>\n",
       "      <td>140</td>\n",
       "      <td>5.5</td>\n",
       "      <td>2.5</td>\n",
       "      <td>0.8</td>\n",
       "    </tr>\n",
       "    <tr>\n",
       "      <th>3</th>\n",
       "      <td>42</td>\n",
       "      <td>0</td>\n",
       "      <td>8.9</td>\n",
       "      <td>272</td>\n",
       "      <td>31</td>\n",
       "      <td>61</td>\n",
       "      <td>5.8</td>\n",
       "      <td>2.0</td>\n",
       "      <td>0.5</td>\n",
       "    </tr>\n",
       "    <tr>\n",
       "      <th>4</th>\n",
       "      <td>42</td>\n",
       "      <td>0</td>\n",
       "      <td>0.8</td>\n",
       "      <td>127</td>\n",
       "      <td>29</td>\n",
       "      <td>30</td>\n",
       "      <td>4.9</td>\n",
       "      <td>2.7</td>\n",
       "      <td>1.2</td>\n",
       "    </tr>\n",
       "  </tbody>\n",
       "</table>\n",
       "</div>"
      ],
      "text/plain": [
       "   Age  Gender  Total_Bilirubin  Alkaline_Phosphotase  \\\n",
       "0   45       0              2.5                   163   \n",
       "1   72       0              0.8                   148   \n",
       "2   18       0              0.8                   282   \n",
       "3   42       0              8.9                   272   \n",
       "4   42       0              0.8                   127   \n",
       "\n",
       "   Alamine_Aminotransferase  Aspartate_Aminotransferase  Total_Protiens  \\\n",
       "0                        28                          22             7.6   \n",
       "1                        23                          35             6.0   \n",
       "2                        72                         140             5.5   \n",
       "3                        31                          61             5.8   \n",
       "4                        29                          30             4.9   \n",
       "\n",
       "   Albumin  Albumin_and_Globulin_Ratio  \n",
       "0      4.0                         1.1  \n",
       "1      3.0                         1.0  \n",
       "2      2.5                         0.8  \n",
       "3      2.0                         0.5  \n",
       "4      2.7                         1.2  "
      ]
     },
     "execution_count": 70,
     "metadata": {},
     "output_type": "execute_result"
    }
   ],
   "source": [
    "X_treino.head()"
   ]
  },
  {
   "cell_type": "code",
   "execution_count": 71,
   "id": "91ce4538",
   "metadata": {},
   "outputs": [
    {
     "name": "stdout",
     "output_type": "stream",
     "text": [
      "Age                            44.033223\n",
      "Gender                          0.205980\n",
      "Total_Bilirubin                 2.644844\n",
      "Alkaline_Phosphotase          265.898671\n",
      "Alamine_Aminotransferase       62.539867\n",
      "Aspartate_Aminotransferase     77.632890\n",
      "Total_Protiens                  6.495412\n",
      "Albumin                         3.227835\n",
      "Albumin_and_Globulin_Ratio      0.995341\n",
      "dtype: float64\n",
      "Age                            16.386418\n",
      "Gender                          0.404752\n",
      "Total_Bilirubin                 5.565745\n",
      "Alkaline_Phosphotase          217.765138\n",
      "Alamine_Aminotransferase      140.108691\n",
      "Aspartate_Aminotransferase    144.413553\n",
      "Total_Protiens                  1.004680\n",
      "Albumin                         0.739134\n",
      "Albumin_and_Globulin_Ratio      0.305566\n",
      "dtype: float64\n"
     ]
    }
   ],
   "source": [
    "# Calculamos média e desvio padrão dos dados de treino\n",
    "treino_mean = X_treino.mean()\n",
    "treino_std = X_treino.std()\n",
    "print(treino_mean)\n",
    "print(treino_std)"
   ]
  },
  {
   "cell_type": "code",
   "execution_count": 72,
   "id": "39d110bc",
   "metadata": {},
   "outputs": [],
   "source": [
    "# Padronização\n",
    "X_treino = (X_treino - treino_mean) / treino_std"
   ]
  },
  {
   "cell_type": "code",
   "execution_count": 73,
   "id": "d43d210f",
   "metadata": {},
   "outputs": [
    {
     "data": {
      "text/html": [
       "<div>\n",
       "<style scoped>\n",
       "    .dataframe tbody tr th:only-of-type {\n",
       "        vertical-align: middle;\n",
       "    }\n",
       "\n",
       "    .dataframe tbody tr th {\n",
       "        vertical-align: top;\n",
       "    }\n",
       "\n",
       "    .dataframe thead th {\n",
       "        text-align: right;\n",
       "    }\n",
       "</style>\n",
       "<table border=\"1\" class=\"dataframe\">\n",
       "  <thead>\n",
       "    <tr style=\"text-align: right;\">\n",
       "      <th></th>\n",
       "      <th>Age</th>\n",
       "      <th>Gender</th>\n",
       "      <th>Total_Bilirubin</th>\n",
       "      <th>Alkaline_Phosphotase</th>\n",
       "      <th>Alamine_Aminotransferase</th>\n",
       "      <th>Aspartate_Aminotransferase</th>\n",
       "      <th>Total_Protiens</th>\n",
       "      <th>Albumin</th>\n",
       "      <th>Albumin_and_Globulin_Ratio</th>\n",
       "    </tr>\n",
       "  </thead>\n",
       "  <tbody>\n",
       "    <tr>\n",
       "      <th>0</th>\n",
       "      <td>0.058999</td>\n",
       "      <td>-0.508904</td>\n",
       "      <td>-0.026024</td>\n",
       "      <td>-0.472521</td>\n",
       "      <td>-0.246522</td>\n",
       "      <td>-0.385233</td>\n",
       "      <td>1.099442</td>\n",
       "      <td>1.044689</td>\n",
       "      <td>0.342508</td>\n",
       "    </tr>\n",
       "    <tr>\n",
       "      <th>1</th>\n",
       "      <td>1.706705</td>\n",
       "      <td>-0.508904</td>\n",
       "      <td>-0.331464</td>\n",
       "      <td>-0.541403</td>\n",
       "      <td>-0.282209</td>\n",
       "      <td>-0.295214</td>\n",
       "      <td>-0.493105</td>\n",
       "      <td>-0.308246</td>\n",
       "      <td>0.015247</td>\n",
       "    </tr>\n",
       "    <tr>\n",
       "      <th>2</th>\n",
       "      <td>-1.588707</td>\n",
       "      <td>-0.508904</td>\n",
       "      <td>-0.331464</td>\n",
       "      <td>0.073939</td>\n",
       "      <td>0.067520</td>\n",
       "      <td>0.431865</td>\n",
       "      <td>-0.990776</td>\n",
       "      <td>-0.984713</td>\n",
       "      <td>-0.639276</td>\n",
       "    </tr>\n",
       "    <tr>\n",
       "      <th>3</th>\n",
       "      <td>-0.124080</td>\n",
       "      <td>-0.508904</td>\n",
       "      <td>1.123867</td>\n",
       "      <td>0.028018</td>\n",
       "      <td>-0.225110</td>\n",
       "      <td>-0.115175</td>\n",
       "      <td>-0.692173</td>\n",
       "      <td>-1.661180</td>\n",
       "      <td>-1.621061</td>\n",
       "    </tr>\n",
       "    <tr>\n",
       "      <th>4</th>\n",
       "      <td>-0.124080</td>\n",
       "      <td>-0.508904</td>\n",
       "      <td>-0.331464</td>\n",
       "      <td>-0.637837</td>\n",
       "      <td>-0.239385</td>\n",
       "      <td>-0.329837</td>\n",
       "      <td>-1.587981</td>\n",
       "      <td>-0.714126</td>\n",
       "      <td>0.669770</td>\n",
       "    </tr>\n",
       "  </tbody>\n",
       "</table>\n",
       "</div>"
      ],
      "text/plain": [
       "        Age    Gender  Total_Bilirubin  Alkaline_Phosphotase  \\\n",
       "0  0.058999 -0.508904        -0.026024             -0.472521   \n",
       "1  1.706705 -0.508904        -0.331464             -0.541403   \n",
       "2 -1.588707 -0.508904        -0.331464              0.073939   \n",
       "3 -0.124080 -0.508904         1.123867              0.028018   \n",
       "4 -0.124080 -0.508904        -0.331464             -0.637837   \n",
       "\n",
       "   Alamine_Aminotransferase  Aspartate_Aminotransferase  Total_Protiens  \\\n",
       "0                 -0.246522                   -0.385233        1.099442   \n",
       "1                 -0.282209                   -0.295214       -0.493105   \n",
       "2                  0.067520                    0.431865       -0.990776   \n",
       "3                 -0.225110                   -0.115175       -0.692173   \n",
       "4                 -0.239385                   -0.329837       -1.587981   \n",
       "\n",
       "    Albumin  Albumin_and_Globulin_Ratio  \n",
       "0  1.044689                    0.342508  \n",
       "1 -0.308246                    0.015247  \n",
       "2 -0.984713                   -0.639276  \n",
       "3 -1.661180                   -1.621061  \n",
       "4 -0.714126                    0.669770  "
      ]
     },
     "execution_count": 73,
     "metadata": {},
     "output_type": "execute_result"
    }
   ],
   "source": [
    "X_treino.head()"
   ]
  },
  {
   "cell_type": "code",
   "execution_count": 74,
   "id": "4c628692",
   "metadata": {},
   "outputs": [
    {
     "data": {
      "text/html": [
       "<div>\n",
       "<style scoped>\n",
       "    .dataframe tbody tr th:only-of-type {\n",
       "        vertical-align: middle;\n",
       "    }\n",
       "\n",
       "    .dataframe tbody tr th {\n",
       "        vertical-align: top;\n",
       "    }\n",
       "\n",
       "    .dataframe thead th {\n",
       "        text-align: right;\n",
       "    }\n",
       "</style>\n",
       "<table border=\"1\" class=\"dataframe\">\n",
       "  <thead>\n",
       "    <tr style=\"text-align: right;\">\n",
       "      <th></th>\n",
       "      <th>Age</th>\n",
       "      <th>Gender</th>\n",
       "      <th>Total_Bilirubin</th>\n",
       "      <th>Alkaline_Phosphotase</th>\n",
       "      <th>Alamine_Aminotransferase</th>\n",
       "      <th>Aspartate_Aminotransferase</th>\n",
       "      <th>Total_Protiens</th>\n",
       "      <th>Albumin</th>\n",
       "      <th>Albumin_and_Globulin_Ratio</th>\n",
       "    </tr>\n",
       "  </thead>\n",
       "  <tbody>\n",
       "    <tr>\n",
       "      <th>count</th>\n",
       "      <td>6.020000e+02</td>\n",
       "      <td>6.020000e+02</td>\n",
       "      <td>6.020000e+02</td>\n",
       "      <td>6.020000e+02</td>\n",
       "      <td>6.020000e+02</td>\n",
       "      <td>6.020000e+02</td>\n",
       "      <td>6.020000e+02</td>\n",
       "      <td>6.020000e+02</td>\n",
       "      <td>6.020000e+02</td>\n",
       "    </tr>\n",
       "    <tr>\n",
       "      <th>mean</th>\n",
       "      <td>1.212577e-17</td>\n",
       "      <td>1.235630e-15</td>\n",
       "      <td>-1.292801e-16</td>\n",
       "      <td>-1.143419e-16</td>\n",
       "      <td>-5.265260e-17</td>\n",
       "      <td>-2.208459e-17</td>\n",
       "      <td>2.533595e-15</td>\n",
       "      <td>-4.208520e-16</td>\n",
       "      <td>4.881662e-15</td>\n",
       "    </tr>\n",
       "    <tr>\n",
       "      <th>std</th>\n",
       "      <td>1.000000e+00</td>\n",
       "      <td>1.000000e+00</td>\n",
       "      <td>1.000000e+00</td>\n",
       "      <td>1.000000e+00</td>\n",
       "      <td>1.000000e+00</td>\n",
       "      <td>1.000000e+00</td>\n",
       "      <td>1.000000e+00</td>\n",
       "      <td>1.000000e+00</td>\n",
       "      <td>1.000000e+00</td>\n",
       "    </tr>\n",
       "    <tr>\n",
       "      <th>min</th>\n",
       "      <td>-2.443073e+00</td>\n",
       "      <td>-5.089040e-01</td>\n",
       "      <td>-4.033322e-01</td>\n",
       "      <td>-9.317316e-01</td>\n",
       "      <td>-3.749936e-01</td>\n",
       "      <td>-4.683279e-01</td>\n",
       "      <td>-3.777733e+00</td>\n",
       "      <td>-3.149407e+00</td>\n",
       "      <td>-2.275584e+00</td>\n",
       "    </tr>\n",
       "    <tr>\n",
       "      <th>25%</th>\n",
       "      <td>-7.343412e-01</td>\n",
       "      <td>-5.089040e-01</td>\n",
       "      <td>-3.402511e-01</td>\n",
       "      <td>-4.357845e-01</td>\n",
       "      <td>-2.893458e-01</td>\n",
       "      <td>-3.783086e-01</td>\n",
       "      <td>-6.921731e-01</td>\n",
       "      <td>-6.138493e-01</td>\n",
       "      <td>-6.392764e-01</td>\n",
       "    </tr>\n",
       "    <tr>\n",
       "      <th>50%</th>\n",
       "      <td>5.899870e-02</td>\n",
       "      <td>-5.089040e-01</td>\n",
       "      <td>-3.134969e-01</td>\n",
       "      <td>-3.117977e-01</td>\n",
       "      <td>-2.251100e-01</td>\n",
       "      <td>-2.952139e-01</td>\n",
       "      <td>9.099608e-03</td>\n",
       "      <td>-3.765876e-02</td>\n",
       "      <td>1.524685e-02</td>\n",
       "    </tr>\n",
       "    <tr>\n",
       "      <th>75%</th>\n",
       "      <td>7.913125e-01</td>\n",
       "      <td>-5.089040e-01</td>\n",
       "      <td>-1.517935e-01</td>\n",
       "      <td>7.164291e-02</td>\n",
       "      <td>-7.701069e-02</td>\n",
       "      <td>-8.055262e-02</td>\n",
       "      <td>6.523573e-01</td>\n",
       "      <td>7.741017e-01</td>\n",
       "      <td>5.094180e-01</td>\n",
       "    </tr>\n",
       "    <tr>\n",
       "      <th>max</th>\n",
       "      <td>2.805175e+00</td>\n",
       "      <td>1.961743e+00</td>\n",
       "      <td>1.300009e+01</td>\n",
       "      <td>8.468304e+00</td>\n",
       "      <td>1.154432e+01</td>\n",
       "      <td>1.054172e+01</td>\n",
       "      <td>3.090126e+00</td>\n",
       "      <td>3.074090e+00</td>\n",
       "      <td>5.905956e+00</td>\n",
       "    </tr>\n",
       "  </tbody>\n",
       "</table>\n",
       "</div>"
      ],
      "text/plain": [
       "                Age        Gender  Total_Bilirubin  Alkaline_Phosphotase  \\\n",
       "count  6.020000e+02  6.020000e+02     6.020000e+02          6.020000e+02   \n",
       "mean   1.212577e-17  1.235630e-15    -1.292801e-16         -1.143419e-16   \n",
       "std    1.000000e+00  1.000000e+00     1.000000e+00          1.000000e+00   \n",
       "min   -2.443073e+00 -5.089040e-01    -4.033322e-01         -9.317316e-01   \n",
       "25%   -7.343412e-01 -5.089040e-01    -3.402511e-01         -4.357845e-01   \n",
       "50%    5.899870e-02 -5.089040e-01    -3.134969e-01         -3.117977e-01   \n",
       "75%    7.913125e-01 -5.089040e-01    -1.517935e-01          7.164291e-02   \n",
       "max    2.805175e+00  1.961743e+00     1.300009e+01          8.468304e+00   \n",
       "\n",
       "       Alamine_Aminotransferase  Aspartate_Aminotransferase  Total_Protiens  \\\n",
       "count              6.020000e+02                6.020000e+02    6.020000e+02   \n",
       "mean              -5.265260e-17               -2.208459e-17    2.533595e-15   \n",
       "std                1.000000e+00                1.000000e+00    1.000000e+00   \n",
       "min               -3.749936e-01               -4.683279e-01   -3.777733e+00   \n",
       "25%               -2.893458e-01               -3.783086e-01   -6.921731e-01   \n",
       "50%               -2.251100e-01               -2.952139e-01    9.099608e-03   \n",
       "75%               -7.701069e-02               -8.055262e-02    6.523573e-01   \n",
       "max                1.154432e+01                1.054172e+01    3.090126e+00   \n",
       "\n",
       "            Albumin  Albumin_and_Globulin_Ratio  \n",
       "count  6.020000e+02                6.020000e+02  \n",
       "mean  -4.208520e-16                4.881662e-15  \n",
       "std    1.000000e+00                1.000000e+00  \n",
       "min   -3.149407e+00               -2.275584e+00  \n",
       "25%   -6.138493e-01               -6.392764e-01  \n",
       "50%   -3.765876e-02                1.524685e-02  \n",
       "75%    7.741017e-01                5.094180e-01  \n",
       "max    3.074090e+00                5.905956e+00  "
      ]
     },
     "execution_count": 74,
     "metadata": {},
     "output_type": "execute_result"
    }
   ],
   "source": [
    "# Describe\n",
    "X_treino.describe()"
   ]
  },
  {
   "cell_type": "code",
   "execution_count": 75,
   "id": "3715ed9d",
   "metadata": {},
   "outputs": [],
   "source": [
    "# Usamos média e desvio de treino para padronizar o conjunto de dados de teste\n",
    "X_teste = (X_teste - treino_mean) / treino_std"
   ]
  },
  {
   "cell_type": "code",
   "execution_count": 76,
   "id": "c293118b",
   "metadata": {},
   "outputs": [
    {
     "data": {
      "text/html": [
       "<div>\n",
       "<style scoped>\n",
       "    .dataframe tbody tr th:only-of-type {\n",
       "        vertical-align: middle;\n",
       "    }\n",
       "\n",
       "    .dataframe tbody tr th {\n",
       "        vertical-align: top;\n",
       "    }\n",
       "\n",
       "    .dataframe thead th {\n",
       "        text-align: right;\n",
       "    }\n",
       "</style>\n",
       "<table border=\"1\" class=\"dataframe\">\n",
       "  <thead>\n",
       "    <tr style=\"text-align: right;\">\n",
       "      <th></th>\n",
       "      <th>Age</th>\n",
       "      <th>Gender</th>\n",
       "      <th>Total_Bilirubin</th>\n",
       "      <th>Alkaline_Phosphotase</th>\n",
       "      <th>Alamine_Aminotransferase</th>\n",
       "      <th>Aspartate_Aminotransferase</th>\n",
       "      <th>Total_Protiens</th>\n",
       "      <th>Albumin</th>\n",
       "      <th>Albumin_and_Globulin_Ratio</th>\n",
       "    </tr>\n",
       "  </thead>\n",
       "  <tbody>\n",
       "    <tr>\n",
       "      <th>220</th>\n",
       "      <td>-0.429210</td>\n",
       "      <td>-0.508904</td>\n",
       "      <td>-0.331464</td>\n",
       "      <td>-0.545995</td>\n",
       "      <td>-0.253659</td>\n",
       "      <td>-0.219044</td>\n",
       "      <td>-1.488447</td>\n",
       "      <td>-0.984713</td>\n",
       "      <td>0.015247</td>\n",
       "    </tr>\n",
       "    <tr>\n",
       "      <th>448</th>\n",
       "      <td>0.242077</td>\n",
       "      <td>1.961743</td>\n",
       "      <td>-0.331464</td>\n",
       "      <td>-0.568955</td>\n",
       "      <td>-0.260797</td>\n",
       "      <td>-0.364459</td>\n",
       "      <td>-0.493105</td>\n",
       "      <td>-0.849419</td>\n",
       "      <td>-0.966538</td>\n",
       "    </tr>\n",
       "    <tr>\n",
       "      <th>509</th>\n",
       "      <td>0.120025</td>\n",
       "      <td>-0.508904</td>\n",
       "      <td>3.118209</td>\n",
       "      <td>-0.054640</td>\n",
       "      <td>0.552857</td>\n",
       "      <td>3.201688</td>\n",
       "      <td>-1.090310</td>\n",
       "      <td>-0.308246</td>\n",
       "      <td>0.669770</td>\n",
       "    </tr>\n",
       "    <tr>\n",
       "      <th>415</th>\n",
       "      <td>1.584652</td>\n",
       "      <td>-0.508904</td>\n",
       "      <td>-0.241629</td>\n",
       "      <td>1.947517</td>\n",
       "      <td>0.217404</td>\n",
       "      <td>-0.260591</td>\n",
       "      <td>-2.881925</td>\n",
       "      <td>-0.714126</td>\n",
       "      <td>-0.966538</td>\n",
       "    </tr>\n",
       "    <tr>\n",
       "      <th>56</th>\n",
       "      <td>-0.673315</td>\n",
       "      <td>-0.508904</td>\n",
       "      <td>-0.331464</td>\n",
       "      <td>-0.311798</td>\n",
       "      <td>-0.260797</td>\n",
       "      <td>-0.378309</td>\n",
       "      <td>1.497579</td>\n",
       "      <td>1.044689</td>\n",
       "      <td>0.015247</td>\n",
       "    </tr>\n",
       "  </tbody>\n",
       "</table>\n",
       "</div>"
      ],
      "text/plain": [
       "          Age    Gender  Total_Bilirubin  Alkaline_Phosphotase  \\\n",
       "220 -0.429210 -0.508904        -0.331464             -0.545995   \n",
       "448  0.242077  1.961743        -0.331464             -0.568955   \n",
       "509  0.120025 -0.508904         3.118209             -0.054640   \n",
       "415  1.584652 -0.508904        -0.241629              1.947517   \n",
       "56  -0.673315 -0.508904        -0.331464             -0.311798   \n",
       "\n",
       "     Alamine_Aminotransferase  Aspartate_Aminotransferase  Total_Protiens  \\\n",
       "220                 -0.253659                   -0.219044       -1.488447   \n",
       "448                 -0.260797                   -0.364459       -0.493105   \n",
       "509                  0.552857                    3.201688       -1.090310   \n",
       "415                  0.217404                   -0.260591       -2.881925   \n",
       "56                  -0.260797                   -0.378309        1.497579   \n",
       "\n",
       "      Albumin  Albumin_and_Globulin_Ratio  \n",
       "220 -0.984713                    0.015247  \n",
       "448 -0.849419                   -0.966538  \n",
       "509 -0.308246                    0.669770  \n",
       "415 -0.714126                   -0.966538  \n",
       "56   1.044689                    0.015247  "
      ]
     },
     "execution_count": 76,
     "metadata": {},
     "output_type": "execute_result"
    }
   ],
   "source": [
    "# Describe\n",
    "X_teste.head()"
   ]
  },
  {
   "cell_type": "markdown",
   "id": "1da8494e",
   "metadata": {},
   "source": [
    "###  Construção, Treinamento e Avaliação do Modelo 1 com Regressão Logística (Benchmark)"
   ]
  },
  {
   "cell_type": "markdown",
   "id": "79518b65",
   "metadata": {},
   "source": [
    "https://scikit-learn.org/stable/modules/generated/sklearn.linear_model.LogisticRegression.html"
   ]
  },
  {
   "cell_type": "markdown",
   "id": "a826f7b1",
   "metadata": {},
   "source": [
    "Para a primeira versão do modelo o ideal é escolher um algoritmo simples, fácil de compreender e que será usado como Benchmark."
   ]
  },
  {
   "cell_type": "markdown",
   "id": "a3bc97fa",
   "metadata": {},
   "source": [
    "Obs: Como parte do processo envolve aleatoriedade, os resultados podem ser ligeiramente diferentes a cada execução deste jupyter notebook."
   ]
  },
  {
   "cell_type": "code",
   "execution_count": 77,
   "id": "22d7fad7",
   "metadata": {},
   "outputs": [],
   "source": [
    "# Define lista de hiperparâmetros\n",
    "tuned_params_v1 = {'C': [0.0001, 0.001, 0.01, 0.1, 1, 10, 100, 1000, 10000], \n",
    "                   'penalty': ['l1', 'l2']}"
   ]
  },
  {
   "cell_type": "code",
   "execution_count": 78,
   "id": "21db4b34",
   "metadata": {},
   "outputs": [],
   "source": [
    "# Criando o modelo com GridSearch\n",
    "# Vários modelos são criados com combinações diferentes de hiperparâmetros\n",
    "modelo_v1 = GridSearchCV(LogisticRegression(),\n",
    "                        tuned_params_v1,\n",
    "                        scoring = 'roc_auc',\n",
    "                        n_jobs = -1)"
   ]
  },
  {
   "cell_type": "code",
   "execution_count": 79,
   "id": "622ab5a5",
   "metadata": {},
   "outputs": [
    {
     "data": {
      "text/plain": [
       "GridSearchCV(estimator=LogisticRegression(), n_jobs=-1,\n",
       "             param_grid={'C': [0.0001, 0.001, 0.01, 0.1, 1, 10, 100, 1000,\n",
       "                               10000],\n",
       "                         'penalty': ['l1', 'l2']},\n",
       "             scoring='roc_auc')"
      ]
     },
     "execution_count": 79,
     "metadata": {},
     "output_type": "execute_result"
    }
   ],
   "source": [
    "# Treinamento do modelo\n",
    "modelo_v1.fit(X_treino, y_treino)"
   ]
  },
  {
   "cell_type": "code",
   "execution_count": 80,
   "id": "86e0e39b",
   "metadata": {},
   "outputs": [
    {
     "data": {
      "text/plain": [
       "LogisticRegression(C=1000)"
      ]
     },
     "execution_count": 80,
     "metadata": {},
     "output_type": "execute_result"
    }
   ],
   "source": [
    "# Selecionando o melhor modelo\n",
    "modelo_v1.best_estimator_"
   ]
  },
  {
   "cell_type": "code",
   "execution_count": 81,
   "id": "0de2797c",
   "metadata": {},
   "outputs": [],
   "source": [
    "# Previsões com dado de teste\n",
    "y_pred_v1 = modelo_v1.predict(X_teste)"
   ]
  },
  {
   "cell_type": "code",
   "execution_count": 82,
   "id": "a32bf2ae",
   "metadata": {},
   "outputs": [
    {
     "data": {
      "text/plain": [
       "array([0, 0, 1, 0, 0, 0, 0, 1, 0, 1], dtype=int64)"
      ]
     },
     "execution_count": 82,
     "metadata": {},
     "output_type": "execute_result"
    }
   ],
   "source": [
    "# Mostrando as 10 primeiras previsões\n",
    "y_pred_v1[:10]"
   ]
  },
  {
   "cell_type": "code",
   "execution_count": 83,
   "id": "c40cd865",
   "metadata": {},
   "outputs": [],
   "source": [
    "# Obtemos as previsões no formato de probabilidade para cada classe\n",
    "y_pred_proba_v1 = modelo_v1.predict_proba(X_teste)"
   ]
  },
  {
   "cell_type": "code",
   "execution_count": 84,
   "id": "ecbb71cf",
   "metadata": {},
   "outputs": [
    {
     "data": {
      "text/plain": [
       "array([[7.88245130e-01, 2.11754870e-01],\n",
       "       [5.02906552e-01, 4.97093448e-01],\n",
       "       [6.87721921e-06, 9.99993123e-01],\n",
       "       [8.37048639e-01, 1.62951361e-01],\n",
       "       [6.70899483e-01, 3.29100517e-01],\n",
       "       [6.50600967e-01, 3.49399033e-01],\n",
       "       [7.88953028e-01, 2.11046972e-01],\n",
       "       [5.55987930e-02, 9.44401207e-01],\n",
       "       [5.67460736e-01, 4.32539264e-01],\n",
       "       [2.22258424e-03, 9.97777416e-01]])"
      ]
     },
     "execution_count": 84,
     "metadata": {},
     "output_type": "execute_result"
    }
   ],
   "source": [
    "# Mostra as 10 primeiras previsões\n",
    "y_pred_proba_v1[:10]"
   ]
  },
  {
   "cell_type": "code",
   "execution_count": 85,
   "id": "fdf7df30",
   "metadata": {},
   "outputs": [],
   "source": [
    "# Obtemos as previsões no formato de probabilidade filtrando para a classe positiva\n",
    "# Precisamos disso para calcula a Curva ROC\n",
    "y_pred_proba_v1 = modelo_v1.predict_proba(X_teste)[:,1]"
   ]
  },
  {
   "cell_type": "code",
   "execution_count": 86,
   "id": "fa346e0b",
   "metadata": {},
   "outputs": [
    {
     "data": {
      "text/plain": [
       "array([0.21175487, 0.49709345, 0.99999312, 0.16295136, 0.32910052,\n",
       "       0.34939903, 0.21104697, 0.94440121, 0.43253926, 0.99777742])"
      ]
     },
     "execution_count": 86,
     "metadata": {},
     "output_type": "execute_result"
    }
   ],
   "source": [
    "# Mostra as 10 primeiras previsões\n",
    "y_pred_proba_v1[:10]"
   ]
  },
  {
   "cell_type": "code",
   "execution_count": 87,
   "id": "b7ca704c",
   "metadata": {},
   "outputs": [
    {
     "name": "stdout",
     "output_type": "stream",
     "text": [
      "Para o ponto de dado 16, classe real = 1, classe prevista = 1, probabilidade prevista = 0.9453410886745838\n"
     ]
    }
   ],
   "source": [
    "# Como exemplo, vamos verificar um dos pontos de dados (altere o valor de i se desejar)\n",
    "i = 16 \n",
    "print('Para o ponto de dado {}, classe real = {}, classe prevista = {}, probabilidade prevista = {}'.\n",
    "      format(i, y_teste.iloc[i], y_pred_v1[i], y_pred_proba_v1[i]))"
   ]
  },
  {
   "cell_type": "code",
   "execution_count": 88,
   "id": "8bf60717",
   "metadata": {},
   "outputs": [
    {
     "data": {
      "text/plain": [
       "array([[30, 10],\n",
       "       [41, 60]], dtype=int64)"
      ]
     },
     "execution_count": 88,
     "metadata": {},
     "output_type": "execute_result"
    }
   ],
   "source": [
    "# Matriz de confusão\n",
    "confusion_matrix(y_teste, y_pred_v1)"
   ]
  },
  {
   "cell_type": "code",
   "execution_count": 89,
   "id": "75a842c4",
   "metadata": {},
   "outputs": [],
   "source": [
    "# Extraindo cada valor da CM\n",
    "tn, fp, fn, tp = confusion_matrix(y_teste, y_pred_v1).ravel()"
   ]
  },
  {
   "cell_type": "code",
   "execution_count": 90,
   "id": "717cb6fc",
   "metadata": {},
   "outputs": [
    {
     "name": "stdout",
     "output_type": "stream",
     "text": [
      "30 10 41 60\n"
     ]
    }
   ],
   "source": [
    "print(tn, fp, fn, tp)"
   ]
  },
  {
   "cell_type": "code",
   "execution_count": 91,
   "id": "b4f7f6ae",
   "metadata": {},
   "outputs": [
    {
     "name": "stdout",
     "output_type": "stream",
     "text": [
      "0.672029702970297\n"
     ]
    }
   ],
   "source": [
    "# Calcula a métrica global AUC (Area Under The Curve) com dados reais e previsões em teste\n",
    "roc_auc_v1 = roc_auc_score(y_teste, y_pred_v1)\n",
    "print(roc_auc_v1)"
   ]
  },
  {
   "cell_type": "code",
   "execution_count": 92,
   "id": "882c364d",
   "metadata": {},
   "outputs": [],
   "source": [
    "# Calcula a curva ROC com dados e previsões em teste\n",
    "fpr_v1, tpr_v1, thresholds = roc_curve(y_teste, y_pred_proba_v1)"
   ]
  },
  {
   "cell_type": "code",
   "execution_count": 93,
   "id": "a572e094",
   "metadata": {},
   "outputs": [
    {
     "name": "stdout",
     "output_type": "stream",
     "text": [
      "0.7349009900990099\n"
     ]
    }
   ],
   "source": [
    "# AUC em teste\n",
    "auc_v1 = auc(fpr_v1, tpr_v1)\n",
    "print(auc_v1)"
   ]
  },
  {
   "cell_type": "code",
   "execution_count": 94,
   "id": "32ae0369",
   "metadata": {},
   "outputs": [
    {
     "name": "stdout",
     "output_type": "stream",
     "text": [
      "0.6382978723404256\n"
     ]
    }
   ],
   "source": [
    "# Acurácia em teste\n",
    "acuracia_v1 = accuracy_score(y_teste, y_pred_v1)\n",
    "print(acuracia_v1)"
   ]
  },
  {
   "cell_type": "markdown",
   "id": "0616ba66",
   "metadata": {},
   "source": [
    "### Feature Importance"
   ]
  },
  {
   "cell_type": "code",
   "execution_count": 95,
   "id": "0546260c",
   "metadata": {},
   "outputs": [
    {
     "data": {
      "text/plain": [
       "LogisticRegression(C=1)"
      ]
     },
     "execution_count": 95,
     "metadata": {},
     "output_type": "execute_result"
    }
   ],
   "source": [
    "# Construindo o modelo novamente com os melhores hiperparâmetros\n",
    "# Isso é necessário pois a versão final não deve ter o GridSearchCV\n",
    "modelo_v1 = LogisticRegression(C = 1)\n",
    "modelo_v1.fit(X_treino, y_treino)"
   ]
  },
  {
   "cell_type": "code",
   "execution_count": 96,
   "id": "e78a779b",
   "metadata": {},
   "outputs": [],
   "source": [
    "# Obtemos os coeficientes pelo maior maior usando np.argsort\n",
    "indices = np.argsort(-abs(modelo_v1.coef_[0,:]))"
   ]
  },
  {
   "cell_type": "code",
   "execution_count": 97,
   "id": "379e04f9",
   "metadata": {},
   "outputs": [
    {
     "name": "stdout",
     "output_type": "stream",
     "text": [
      "Variáveis mais importantes para o resultado do modelo_v1:\n",
      "--------------------------------------------------\n",
      "Total_Bilirubin\n",
      "Aspartate_Aminotransferase\n",
      "Alamine_Aminotransferase\n",
      "Albumin\n",
      "Total_Protiens\n",
      "Alkaline_Phosphotase\n",
      "Age\n",
      "Gender\n",
      "Albumin_and_Globulin_Ratio\n"
     ]
    }
   ],
   "source": [
    "print(\"Variáveis mais importantes para o resultado do modelo_v1:\")\n",
    "print(50*'-')\n",
    "for feature in X.columns[indices]:\n",
    "    print(feature)"
   ]
  },
  {
   "cell_type": "code",
   "execution_count": 98,
   "id": "750525d6",
   "metadata": {},
   "outputs": [],
   "source": [
    "# Salva o modelo em disco\n",
    "with open('modelos/modelo_v1.pkl', 'wb') as pickle_file:\n",
    "      joblib.dump(modelo_v1, 'modelos/modelo_v1.pkl') "
   ]
  },
  {
   "cell_type": "code",
   "execution_count": 99,
   "id": "3ddbd373",
   "metadata": {},
   "outputs": [],
   "source": [
    "# Cria um dataframe para receber as métricas de cada modelo\n",
    "df_modelos = pd.DataFrame()"
   ]
  },
  {
   "cell_type": "code",
   "execution_count": 100,
   "id": "1a572651",
   "metadata": {},
   "outputs": [],
   "source": [
    "# Dicionário com as métricas do modelo_v1\n",
    "dict_modelo_v1 = {'Nome': 'modelo_v1', \n",
    "                  'Algoritmo': 'Regressão Logística', \n",
    "                  'ROC_AUC Score': roc_auc_v1,\n",
    "                  'AUC Score': auc_v1,\n",
    "                  'Acurácia': acuracia_v1}"
   ]
  },
  {
   "cell_type": "code",
   "execution_count": 101,
   "id": "82d5402c",
   "metadata": {},
   "outputs": [],
   "source": [
    "# Adiciona o dict ao dataframe\n",
    "df_modelos = df_modelos.append(dict_modelo_v1, ignore_index = True)"
   ]
  },
  {
   "cell_type": "code",
   "execution_count": 102,
   "id": "e11d0162",
   "metadata": {},
   "outputs": [
    {
     "data": {
      "text/html": [
       "<div>\n",
       "<style scoped>\n",
       "    .dataframe tbody tr th:only-of-type {\n",
       "        vertical-align: middle;\n",
       "    }\n",
       "\n",
       "    .dataframe tbody tr th {\n",
       "        vertical-align: top;\n",
       "    }\n",
       "\n",
       "    .dataframe thead th {\n",
       "        text-align: right;\n",
       "    }\n",
       "</style>\n",
       "<table border=\"1\" class=\"dataframe\">\n",
       "  <thead>\n",
       "    <tr style=\"text-align: right;\">\n",
       "      <th></th>\n",
       "      <th>Nome</th>\n",
       "      <th>Algoritmo</th>\n",
       "      <th>ROC_AUC Score</th>\n",
       "      <th>AUC Score</th>\n",
       "      <th>Acurácia</th>\n",
       "    </tr>\n",
       "  </thead>\n",
       "  <tbody>\n",
       "    <tr>\n",
       "      <th>0</th>\n",
       "      <td>modelo_v1</td>\n",
       "      <td>Regressão Logística</td>\n",
       "      <td>0.67203</td>\n",
       "      <td>0.734901</td>\n",
       "      <td>0.638298</td>\n",
       "    </tr>\n",
       "  </tbody>\n",
       "</table>\n",
       "</div>"
      ],
      "text/plain": [
       "        Nome            Algoritmo  ROC_AUC Score  AUC Score  Acurácia\n",
       "0  modelo_v1  Regressão Logística        0.67203   0.734901  0.638298"
      ]
     },
     "metadata": {},
     "output_type": "display_data"
    }
   ],
   "source": [
    "display(df_modelos)"
   ]
  },
  {
   "cell_type": "markdown",
   "id": "9aa3b114",
   "metadata": {},
   "source": [
    "### Construção, Treinamento e Avaliação do Modelo 2 com Random Forest"
   ]
  },
  {
   "cell_type": "markdown",
   "id": "60f7175a",
   "metadata": {},
   "source": [
    "https://scikit-learn.org/stable/modules/generated/sklearn.ensemble.RandomForestClassifier.html"
   ]
  },
  {
   "cell_type": "markdown",
   "id": "80432f5c",
   "metadata": {},
   "source": [
    "Nosso desafio agora é tentar obter um modelo melhor que a versão 1. Vamos tentar o algoritmo Random Forest."
   ]
  },
  {
   "cell_type": "code",
   "execution_count": 103,
   "id": "2d55cd51",
   "metadata": {},
   "outputs": [],
   "source": [
    "# Grid de hiperparâmetros\n",
    "tuned_params_v2 = {'n_estimators': [100, 200, 300, 400, 500], \n",
    "                   'min_samples_split': [2, 5, 10], \n",
    "                   'min_samples_leaf': [1, 2, 4]}"
   ]
  },
  {
   "cell_type": "code",
   "execution_count": 104,
   "id": "0f20330c",
   "metadata": {},
   "outputs": [],
   "source": [
    "# Cria o modelo com RandomizedSearchCV para buscar a melhor combinação de hiperparâmetros\n",
    "modelo_v2 = RandomizedSearchCV(RandomForestClassifier(), \n",
    "                               tuned_params_v2, \n",
    "                               n_iter = 15, \n",
    "                               scoring = 'roc_auc', \n",
    "                               n_jobs  = -1)"
   ]
  },
  {
   "cell_type": "code",
   "execution_count": 105,
   "id": "c2c77f2e",
   "metadata": {},
   "outputs": [
    {
     "data": {
      "text/plain": [
       "RandomizedSearchCV(estimator=RandomForestClassifier(), n_iter=15, n_jobs=-1,\n",
       "                   param_distributions={'min_samples_leaf': [1, 2, 4],\n",
       "                                        'min_samples_split': [2, 5, 10],\n",
       "                                        'n_estimators': [100, 200, 300, 400,\n",
       "                                                         500]},\n",
       "                   scoring='roc_auc')"
      ]
     },
     "execution_count": 105,
     "metadata": {},
     "output_type": "execute_result"
    }
   ],
   "source": [
    "# Treina o modelo\n",
    "modelo_v2.fit(X_treino, y_treino)"
   ]
  },
  {
   "cell_type": "code",
   "execution_count": 106,
   "id": "6cd7cb41",
   "metadata": {},
   "outputs": [
    {
     "data": {
      "text/plain": [
       "RandomForestClassifier(n_estimators=400)"
      ]
     },
     "execution_count": 106,
     "metadata": {},
     "output_type": "execute_result"
    }
   ],
   "source": [
    "# Extrai o melhor modelo\n",
    "modelo_v2.best_estimator_"
   ]
  },
  {
   "cell_type": "code",
   "execution_count": 107,
   "id": "3fcfd2ee",
   "metadata": {},
   "outputs": [],
   "source": [
    "# Previsões em teste\n",
    "y_pred_v2 = modelo_v2.predict(X_teste)"
   ]
  },
  {
   "cell_type": "code",
   "execution_count": 108,
   "id": "5a7d2f26",
   "metadata": {},
   "outputs": [],
   "source": [
    "# Obtém as previsões para a classe positiva\n",
    "y_pred_proba_v2 = modelo_v2.predict_proba(X_teste)[:,1]"
   ]
  },
  {
   "cell_type": "code",
   "execution_count": 109,
   "id": "1cb8ef60",
   "metadata": {},
   "outputs": [
    {
     "data": {
      "text/plain": [
       "array([[16, 24],\n",
       "       [19, 82]], dtype=int64)"
      ]
     },
     "execution_count": 109,
     "metadata": {},
     "output_type": "execute_result"
    }
   ],
   "source": [
    "# Matriz de Confusão\n",
    "confusion_matrix(y_teste, y_pred_v2)"
   ]
  },
  {
   "cell_type": "code",
   "execution_count": 110,
   "id": "eaca74ce",
   "metadata": {},
   "outputs": [
    {
     "name": "stdout",
     "output_type": "stream",
     "text": [
      "0.605940594059406\n"
     ]
    }
   ],
   "source": [
    "# Curva ROC nos dados e previsões em teste\n",
    "roc_auc_v2 = roc_auc_score(y_teste, y_pred_v2)\n",
    "print(roc_auc_v2)"
   ]
  },
  {
   "cell_type": "code",
   "execution_count": 111,
   "id": "33c9e1d9",
   "metadata": {},
   "outputs": [],
   "source": [
    "# Curva ROC nos dados e previsões em teste\n",
    "fpr_v2, tpr_v2, thresholds = roc_curve(y_teste, y_pred_proba_v2)"
   ]
  },
  {
   "cell_type": "code",
   "execution_count": 112,
   "id": "83b35355",
   "metadata": {},
   "outputs": [
    {
     "name": "stdout",
     "output_type": "stream",
     "text": [
      "0.7283415841584158\n"
     ]
    }
   ],
   "source": [
    "# AUC em teste\n",
    "auc_v2 = auc(fpr_v2, tpr_v2)\n",
    "print(auc_v2)"
   ]
  },
  {
   "cell_type": "code",
   "execution_count": 113,
   "id": "015d6be5",
   "metadata": {},
   "outputs": [
    {
     "name": "stdout",
     "output_type": "stream",
     "text": [
      "0.6950354609929078\n"
     ]
    }
   ],
   "source": [
    "# Acurácia em teste\n",
    "acuracia_v2 = accuracy_score(y_teste, y_pred_v2)\n",
    "print(acuracia_v2)"
   ]
  },
  {
   "cell_type": "markdown",
   "id": "06b67d20",
   "metadata": {},
   "source": [
    "### Feature Importance"
   ]
  },
  {
   "cell_type": "code",
   "execution_count": 114,
   "id": "6868896a",
   "metadata": {},
   "outputs": [
    {
     "data": {
      "text/plain": [
       "RandomForestClassifier(min_samples_leaf=4, min_samples_split=5,\n",
       "                       n_estimators=200)"
      ]
     },
     "execution_count": 114,
     "metadata": {},
     "output_type": "execute_result"
    }
   ],
   "source": [
    "# Recria o modelo com os melhores hiperparâmetros\n",
    "modelo_v2 = RandomForestClassifier(n_estimators = 200, min_samples_split = 5, min_samples_leaf = 4)\n",
    "modelo_v2.fit(X_treino, y_treino)"
   ]
  },
  {
   "cell_type": "code",
   "execution_count": 115,
   "id": "3ed5332d",
   "metadata": {},
   "outputs": [
    {
     "name": "stdout",
     "output_type": "stream",
     "text": [
      "Variáveis mais importantes para o resultado do modelo_v2:\n",
      "--------------------------------------------------\n",
      "Total_Bilirubin\n",
      "Alkaline_Phosphotase\n",
      "Aspartate_Aminotransferase\n",
      "Albumin_and_Globulin_Ratio\n",
      "Alamine_Aminotransferase\n",
      "Age\n",
      "Total_Protiens\n",
      "Albumin\n",
      "Gender\n"
     ]
    }
   ],
   "source": [
    "# Variáveis mais relevantes\n",
    "indices = np.argsort(-modelo_v2.feature_importances_)\n",
    "print(\"Variáveis mais importantes para o resultado do modelo_v2:\")\n",
    "print(50*'-')\n",
    "for feature in X.columns[indices]:\n",
    "    print(feature)"
   ]
  },
  {
   "cell_type": "code",
   "execution_count": 116,
   "id": "4b876c82",
   "metadata": {},
   "outputs": [],
   "source": [
    "# Salva o modelo em disco\n",
    "with open('modelos/modelo_v2.pkl', 'wb') as pickle_file:\n",
    "      joblib.dump(modelo_v2, 'modelos/modelo_v2.pkl')"
   ]
  },
  {
   "cell_type": "code",
   "execution_count": 117,
   "id": "5a004dc5",
   "metadata": {},
   "outputs": [],
   "source": [
    "# Dicionário com as métricas do modelo_v2\n",
    "dict_modelo_v2 = {'Nome': 'modelo_v2', \n",
    "                  'Algoritmo': 'Random Forest', \n",
    "                  'ROC_AUC Score': roc_auc_v2,\n",
    "                  'AUC Score': auc_v2,\n",
    "                  'Acurácia': acuracia_v2}"
   ]
  },
  {
   "cell_type": "code",
   "execution_count": 118,
   "id": "fcd2901f",
   "metadata": {},
   "outputs": [],
   "source": [
    "# Adiciona o dict ao dataframe\n",
    "df_modelos = df_modelos.append(dict_modelo_v2, ignore_index = True)"
   ]
  },
  {
   "cell_type": "code",
   "execution_count": 119,
   "id": "2c03cf05",
   "metadata": {},
   "outputs": [
    {
     "data": {
      "text/html": [
       "<div>\n",
       "<style scoped>\n",
       "    .dataframe tbody tr th:only-of-type {\n",
       "        vertical-align: middle;\n",
       "    }\n",
       "\n",
       "    .dataframe tbody tr th {\n",
       "        vertical-align: top;\n",
       "    }\n",
       "\n",
       "    .dataframe thead th {\n",
       "        text-align: right;\n",
       "    }\n",
       "</style>\n",
       "<table border=\"1\" class=\"dataframe\">\n",
       "  <thead>\n",
       "    <tr style=\"text-align: right;\">\n",
       "      <th></th>\n",
       "      <th>Nome</th>\n",
       "      <th>Algoritmo</th>\n",
       "      <th>ROC_AUC Score</th>\n",
       "      <th>AUC Score</th>\n",
       "      <th>Acurácia</th>\n",
       "    </tr>\n",
       "  </thead>\n",
       "  <tbody>\n",
       "    <tr>\n",
       "      <th>0</th>\n",
       "      <td>modelo_v1</td>\n",
       "      <td>Regressão Logística</td>\n",
       "      <td>0.672030</td>\n",
       "      <td>0.734901</td>\n",
       "      <td>0.638298</td>\n",
       "    </tr>\n",
       "    <tr>\n",
       "      <th>1</th>\n",
       "      <td>modelo_v2</td>\n",
       "      <td>Random Forest</td>\n",
       "      <td>0.605941</td>\n",
       "      <td>0.728342</td>\n",
       "      <td>0.695035</td>\n",
       "    </tr>\n",
       "  </tbody>\n",
       "</table>\n",
       "</div>"
      ],
      "text/plain": [
       "        Nome            Algoritmo  ROC_AUC Score  AUC Score  Acurácia\n",
       "0  modelo_v1  Regressão Logística       0.672030   0.734901  0.638298\n",
       "1  modelo_v2        Random Forest       0.605941   0.728342  0.695035"
      ]
     },
     "metadata": {},
     "output_type": "display_data"
    }
   ],
   "source": [
    "display(df_modelos)"
   ]
  },
  {
   "cell_type": "markdown",
   "id": "1c9b5db7",
   "metadata": {},
   "source": [
    "### Construção, Treinamento e Avaliação do Modelo 3 com KNN"
   ]
  },
  {
   "cell_type": "markdown",
   "id": "618d94bf",
   "metadata": {},
   "source": [
    "https://scikit-learn.org/stable/modules/generated/sklearn.neighbors.KNeighborsClassifier.html"
   ]
  },
  {
   "cell_type": "markdown",
   "id": "dcadbde1",
   "metadata": {},
   "source": [
    "Vamos tentar agora um algoritmo mais simples, o KNN. Para esse algoritmo precisamos antes definir o valor de K, que é o número de vizinhos mais próximos."
   ]
  },
  {
   "cell_type": "code",
   "execution_count": 120,
   "id": "b10870bd",
   "metadata": {},
   "outputs": [],
   "source": [
    "# Lista de possíveis valores de K\n",
    "vizinhos = list(range(1, 20, 2))"
   ]
  },
  {
   "cell_type": "code",
   "execution_count": 121,
   "id": "dc83b164",
   "metadata": {},
   "outputs": [],
   "source": [
    "# Lista para os scores\n",
    "cv_scores = []"
   ]
  },
  {
   "cell_type": "code",
   "execution_count": 122,
   "id": "85afc294",
   "metadata": {},
   "outputs": [],
   "source": [
    "# Validação cruzada para determinar o melhor valor de k\n",
    "for k in vizinhos:\n",
    "    knn = KNeighborsClassifier(n_neighbors = k)\n",
    "    scores = cross_val_score(knn, X_treino, y_treino, cv = 5, scoring = 'accuracy')\n",
    "    cv_scores.append(scores.mean())"
   ]
  },
  {
   "cell_type": "code",
   "execution_count": 123,
   "id": "39fcf02c",
   "metadata": {},
   "outputs": [],
   "source": [
    "# Ajustando o erro de classificação\n",
    "erro = [1 - x for x in cv_scores]"
   ]
  },
  {
   "cell_type": "code",
   "execution_count": 124,
   "id": "aee0d050",
   "metadata": {},
   "outputs": [
    {
     "name": "stdout",
     "output_type": "stream",
     "text": [
      "O valor ideal de k é 3.\n"
     ]
    }
   ],
   "source": [
    "# Determinando o melhor valor de k (com menor erro)\n",
    "optimal_k = vizinhos[erro.index(min(erro))]\n",
    "print(f'O valor ideal de k é {optimal_k}.')"
   ]
  },
  {
   "cell_type": "code",
   "execution_count": 125,
   "id": "797cdfde",
   "metadata": {},
   "outputs": [],
   "source": [
    "# Criamos o modelo versão 3\n",
    "modelo_v3 = KNeighborsClassifier(n_neighbors = optimal_k)"
   ]
  },
  {
   "cell_type": "code",
   "execution_count": 126,
   "id": "12b0c6fa",
   "metadata": {},
   "outputs": [
    {
     "data": {
      "text/plain": [
       "KNeighborsClassifier(n_neighbors=3)"
      ]
     },
     "execution_count": 126,
     "metadata": {},
     "output_type": "execute_result"
    }
   ],
   "source": [
    "# Treinamento\n",
    "modelo_v3.fit(X_treino, y_treino)"
   ]
  },
  {
   "cell_type": "code",
   "execution_count": 127,
   "id": "bab7b824",
   "metadata": {},
   "outputs": [],
   "source": [
    "# Previsões\n",
    "y_pred_v3 = modelo_v3.predict(X_teste)"
   ]
  },
  {
   "cell_type": "code",
   "execution_count": 128,
   "id": "68ef7345",
   "metadata": {},
   "outputs": [
    {
     "data": {
      "text/plain": [
       "array([[20, 20],\n",
       "       [43, 58]], dtype=int64)"
      ]
     },
     "execution_count": 128,
     "metadata": {},
     "output_type": "execute_result"
    }
   ],
   "source": [
    "# Confusion Matrix\n",
    "confusion_matrix(y_teste, y_pred_v3)"
   ]
  },
  {
   "cell_type": "code",
   "execution_count": 129,
   "id": "07b846dd",
   "metadata": {},
   "outputs": [],
   "source": [
    "# Previsão de probabilidade da classe positiva\n",
    "y_pred_proba_v3 = modelo_v3.predict_proba(X_teste)[:,1]"
   ]
  },
  {
   "cell_type": "code",
   "execution_count": 130,
   "id": "c6ef6c3e",
   "metadata": {},
   "outputs": [
    {
     "name": "stdout",
     "output_type": "stream",
     "text": [
      "0.5371287128712872\n"
     ]
    }
   ],
   "source": [
    "# Calcula ROC_AUC em teste\n",
    "roc_auc_v3 = roc_auc_score(y_teste, y_pred_v3)\n",
    "print(roc_auc_v3)"
   ]
  },
  {
   "cell_type": "code",
   "execution_count": 131,
   "id": "efefe264",
   "metadata": {},
   "outputs": [],
   "source": [
    "# Calcula curva ROC\n",
    "fpr_v3, tpr_v3, thresholds = roc_curve(y_teste, y_pred_proba_v3)"
   ]
  },
  {
   "cell_type": "code",
   "execution_count": 135,
   "id": "8d763cd7",
   "metadata": {},
   "outputs": [
    {
     "name": "stdout",
     "output_type": "stream",
     "text": [
      "0.6004950495049505\n"
     ]
    }
   ],
   "source": [
    "# Calcula AUC em teste\n",
    "auc_v3 = auc(fpr_v3, tpr_v3)\n",
    "print(auc_v3)"
   ]
  },
  {
   "cell_type": "code",
   "execution_count": 136,
   "id": "1aa290a7",
   "metadata": {},
   "outputs": [
    {
     "name": "stdout",
     "output_type": "stream",
     "text": [
      "0.5531914893617021\n"
     ]
    }
   ],
   "source": [
    "# Calcula acurácia\n",
    "acuracia_v3 = accuracy_score(y_teste, y_pred_v3)\n",
    "print(acuracia_v3)"
   ]
  },
  {
   "cell_type": "markdown",
   "id": "1e93a56d",
   "metadata": {},
   "source": [
    "Obs: Com o algoritmo KNN não extraímos as variáveis mais importantes, pois o conceito do algoritmo é diferente."
   ]
  },
  {
   "cell_type": "code",
   "execution_count": 133,
   "id": "25f0bb85",
   "metadata": {},
   "outputs": [],
   "source": [
    "# Salva o modelo em disco\n",
    "with open('modelos/modelo_v3.pkl', 'wb') as pickle_file:\n",
    "      joblib.dump(modelo_v3, 'modelos/modelo_v3.pkl')"
   ]
  },
  {
   "cell_type": "code",
   "execution_count": 137,
   "id": "f015a7f4",
   "metadata": {},
   "outputs": [],
   "source": [
    "# Dicionário com as métricas do modelo_v3\n",
    "dict_modelo_v3 = {'Nome': 'modelo_v3', \n",
    "                  'Algoritmo': 'KNN', \n",
    "                  'ROC_AUC Score': roc_auc_v3,\n",
    "                  'AUC Score': auc_v3,\n",
    "                  'Acurácia': acuracia_v3}"
   ]
  },
  {
   "cell_type": "code",
   "execution_count": 138,
   "id": "ccd0eba0",
   "metadata": {},
   "outputs": [],
   "source": [
    "# Adiciona o dict ao dataframe\n",
    "df_modelos = df_modelos.append(dict_modelo_v3, ignore_index = True)"
   ]
  },
  {
   "cell_type": "code",
   "execution_count": 139,
   "id": "b67052de",
   "metadata": {},
   "outputs": [
    {
     "data": {
      "text/html": [
       "<div>\n",
       "<style scoped>\n",
       "    .dataframe tbody tr th:only-of-type {\n",
       "        vertical-align: middle;\n",
       "    }\n",
       "\n",
       "    .dataframe tbody tr th {\n",
       "        vertical-align: top;\n",
       "    }\n",
       "\n",
       "    .dataframe thead th {\n",
       "        text-align: right;\n",
       "    }\n",
       "</style>\n",
       "<table border=\"1\" class=\"dataframe\">\n",
       "  <thead>\n",
       "    <tr style=\"text-align: right;\">\n",
       "      <th></th>\n",
       "      <th>Nome</th>\n",
       "      <th>Algoritmo</th>\n",
       "      <th>ROC_AUC Score</th>\n",
       "      <th>AUC Score</th>\n",
       "      <th>Acurácia</th>\n",
       "    </tr>\n",
       "  </thead>\n",
       "  <tbody>\n",
       "    <tr>\n",
       "      <th>0</th>\n",
       "      <td>modelo_v1</td>\n",
       "      <td>Regressão Logística</td>\n",
       "      <td>0.672030</td>\n",
       "      <td>0.734901</td>\n",
       "      <td>0.638298</td>\n",
       "    </tr>\n",
       "    <tr>\n",
       "      <th>1</th>\n",
       "      <td>modelo_v2</td>\n",
       "      <td>Random Forest</td>\n",
       "      <td>0.605941</td>\n",
       "      <td>0.728342</td>\n",
       "      <td>0.695035</td>\n",
       "    </tr>\n",
       "    <tr>\n",
       "      <th>2</th>\n",
       "      <td>modelo_v3</td>\n",
       "      <td>KNN</td>\n",
       "      <td>0.537129</td>\n",
       "      <td>0.600495</td>\n",
       "      <td>0.553191</td>\n",
       "    </tr>\n",
       "  </tbody>\n",
       "</table>\n",
       "</div>"
      ],
      "text/plain": [
       "        Nome            Algoritmo  ROC_AUC Score  AUC Score  Acurácia\n",
       "0  modelo_v1  Regressão Logística       0.672030   0.734901  0.638298\n",
       "1  modelo_v2        Random Forest       0.605941   0.728342  0.695035\n",
       "2  modelo_v3                  KNN       0.537129   0.600495  0.553191"
      ]
     },
     "metadata": {},
     "output_type": "display_data"
    }
   ],
   "source": [
    "display(df_modelos)"
   ]
  },
  {
   "cell_type": "markdown",
   "id": "51c77159",
   "metadata": {},
   "source": [
    "### Construção, Treinamento e Avaliação do Modelo 4 com Decision Tree"
   ]
  },
  {
   "cell_type": "markdown",
   "id": "81541726",
   "metadata": {},
   "source": [
    "https://scikit-learn.org/stable/modules/generated/sklearn.tree.DecisionTreeClassifier.html"
   ]
  },
  {
   "cell_type": "markdown",
   "id": "c25a9549",
   "metadata": {},
   "source": [
    "Na versão 4 do modelo usaremos um modelo de árvore de decisão."
   ]
  },
  {
   "cell_type": "code",
   "execution_count": 140,
   "id": "2824608a",
   "metadata": {},
   "outputs": [],
   "source": [
    "# Hiperparâmetros\n",
    "tuned_params_v4 = {'min_samples_split': [2, 3, 4, 5, 7], \n",
    "                   'min_samples_leaf': [1, 2, 3, 4, 6], \n",
    "                   'max_depth': [2, 3, 4, 5, 6, 7]}"
   ]
  },
  {
   "cell_type": "code",
   "execution_count": 141,
   "id": "308d0e17",
   "metadata": {},
   "outputs": [],
   "source": [
    "# Criando o modelo com RandomizedSearchCV\n",
    "modelo_v4 = RandomizedSearchCV(DecisionTreeClassifier(),\n",
    "                              tuned_params_v4,\n",
    "                              n_iter = 15,\n",
    "                              scoring = 'roc_auc',\n",
    "                              n_jobs = -1)"
   ]
  },
  {
   "cell_type": "code",
   "execution_count": 142,
   "id": "bef2cdcc",
   "metadata": {},
   "outputs": [
    {
     "data": {
      "text/plain": [
       "RandomizedSearchCV(estimator=DecisionTreeClassifier(), n_iter=15, n_jobs=-1,\n",
       "                   param_distributions={'max_depth': [2, 3, 4, 5, 6, 7],\n",
       "                                        'min_samples_leaf': [1, 2, 3, 4, 6],\n",
       "                                        'min_samples_split': [2, 3, 4, 5, 7]},\n",
       "                   scoring='roc_auc')"
      ]
     },
     "execution_count": 142,
     "metadata": {},
     "output_type": "execute_result"
    }
   ],
   "source": [
    "# Treinamento\n",
    "modelo_v4.fit(X_treino, y_treino)"
   ]
  },
  {
   "cell_type": "code",
   "execution_count": 143,
   "id": "f23cc2bf",
   "metadata": {},
   "outputs": [
    {
     "data": {
      "text/plain": [
       "DecisionTreeClassifier(max_depth=5, min_samples_leaf=4, min_samples_split=4)"
      ]
     },
     "execution_count": 143,
     "metadata": {},
     "output_type": "execute_result"
    }
   ],
   "source": [
    "# Melhor modelo\n",
    "modelo_v4.best_estimator_"
   ]
  },
  {
   "cell_type": "code",
   "execution_count": 144,
   "id": "211a329a",
   "metadata": {},
   "outputs": [],
   "source": [
    "# Previsões de classe\n",
    "y_pred_v4 = modelo_v4.predict(X_teste)"
   ]
  },
  {
   "cell_type": "code",
   "execution_count": 145,
   "id": "a3f9f7ba",
   "metadata": {},
   "outputs": [],
   "source": [
    "# Previsões de probabilidade\n",
    "y_pred_proba_v4 = modelo_v4.predict_proba(X_teste)[:,1]"
   ]
  },
  {
   "cell_type": "code",
   "execution_count": 146,
   "id": "949443b4",
   "metadata": {},
   "outputs": [
    {
     "data": {
      "text/plain": [
       "array([[26, 14],\n",
       "       [37, 64]], dtype=int64)"
      ]
     },
     "execution_count": 146,
     "metadata": {},
     "output_type": "execute_result"
    }
   ],
   "source": [
    "# Confusion matrix\n",
    "confusion_matrix(y_teste, y_pred_v4)"
   ]
  },
  {
   "cell_type": "code",
   "execution_count": 147,
   "id": "47546297",
   "metadata": {},
   "outputs": [
    {
     "name": "stdout",
     "output_type": "stream",
     "text": [
      "0.6418316831683168\n"
     ]
    }
   ],
   "source": [
    "# Calcula ROC AUC score\n",
    "roc_auc_v4 = roc_auc_score(y_teste, y_pred_v4)\n",
    "print(roc_auc_v4)"
   ]
  },
  {
   "cell_type": "code",
   "execution_count": 148,
   "id": "d3dd06c8",
   "metadata": {},
   "outputs": [],
   "source": [
    "# Curva ROC\n",
    "fpr_v4, tpr_v4, thresholds = roc_curve(y_teste, y_pred_proba_v4)"
   ]
  },
  {
   "cell_type": "code",
   "execution_count": 149,
   "id": "57ac74e0",
   "metadata": {},
   "outputs": [
    {
     "name": "stdout",
     "output_type": "stream",
     "text": [
      "0.6923267326732674\n"
     ]
    }
   ],
   "source": [
    "# AUC\n",
    "auc_v4 = auc(fpr_v4, tpr_v4)\n",
    "print(auc_v4)"
   ]
  },
  {
   "cell_type": "code",
   "execution_count": 150,
   "id": "509c2dda",
   "metadata": {},
   "outputs": [
    {
     "name": "stdout",
     "output_type": "stream",
     "text": [
      "0.6382978723404256\n"
     ]
    }
   ],
   "source": [
    "# Calcula acurácia\n",
    "acuracia_v4 = accuracy_score(y_teste, y_pred_v4)\n",
    "print(acuracia_v4)"
   ]
  },
  {
   "cell_type": "markdown",
   "id": "556cf763",
   "metadata": {},
   "source": [
    "### Feature Importance"
   ]
  },
  {
   "cell_type": "code",
   "execution_count": 151,
   "id": "3676dd60",
   "metadata": {},
   "outputs": [
    {
     "data": {
      "text/plain": [
       "DecisionTreeClassifier(max_depth=4, min_samples_leaf=6)"
      ]
     },
     "execution_count": 151,
     "metadata": {},
     "output_type": "execute_result"
    }
   ],
   "source": [
    "# Recriando o modelo\n",
    "modelo_v4 = DecisionTreeClassifier(min_samples_split = 2, min_samples_leaf = 6, max_depth = 4)\n",
    "modelo_v4.fit(X_treino, y_treino)"
   ]
  },
  {
   "cell_type": "code",
   "execution_count": 152,
   "id": "ee24ed15",
   "metadata": {},
   "outputs": [
    {
     "name": "stdout",
     "output_type": "stream",
     "text": [
      "Variáveis mais importantes para o resultado do modelo_v4:\n",
      "--------------------------------------------------\n",
      "Total_Bilirubin\n",
      "Alkaline_Phosphotase\n",
      "Alamine_Aminotransferase\n",
      "Age\n",
      "Aspartate_Aminotransferase\n",
      "Total_Protiens\n",
      "Gender\n",
      "Albumin\n",
      "Albumin_and_Globulin_Ratio\n"
     ]
    }
   ],
   "source": [
    "# Variáveis mais importantes\n",
    "indices = np.argsort(-modelo_v4.feature_importances_)\n",
    "print(\"Variáveis mais importantes para o resultado do modelo_v4:\")\n",
    "print(50*'-')\n",
    "for feature in X.columns[indices]:\n",
    "    print(feature)"
   ]
  },
  {
   "cell_type": "code",
   "execution_count": 153,
   "id": "40a14bbc",
   "metadata": {},
   "outputs": [],
   "source": [
    "# Salva o modelo em disco\n",
    "with open('modelos/modelo_v4.pkl', 'wb') as pickle_file:\n",
    "      joblib.dump(modelo_v4, 'modelos/modelo_v4.pkl') "
   ]
  },
  {
   "cell_type": "code",
   "execution_count": 154,
   "id": "9b103f1e",
   "metadata": {},
   "outputs": [],
   "source": [
    "# Dicionário com as métricas do modelo_v4\n",
    "dict_modelo_v4 = {'Nome': 'modelo_v4', \n",
    "                  'Algoritmo': 'Decision Tree', \n",
    "                  'ROC_AUC Score': roc_auc_v4,\n",
    "                  'AUC Score': auc_v4,\n",
    "                  'Acurácia': acuracia_v4}"
   ]
  },
  {
   "cell_type": "code",
   "execution_count": 155,
   "id": "ce09cac2",
   "metadata": {},
   "outputs": [],
   "source": [
    "# Adiciona o dict ao dataframe\n",
    "df_modelos = df_modelos.append(dict_modelo_v4, ignore_index = True)"
   ]
  },
  {
   "cell_type": "code",
   "execution_count": 156,
   "id": "a930f77b",
   "metadata": {},
   "outputs": [
    {
     "data": {
      "text/html": [
       "<div>\n",
       "<style scoped>\n",
       "    .dataframe tbody tr th:only-of-type {\n",
       "        vertical-align: middle;\n",
       "    }\n",
       "\n",
       "    .dataframe tbody tr th {\n",
       "        vertical-align: top;\n",
       "    }\n",
       "\n",
       "    .dataframe thead th {\n",
       "        text-align: right;\n",
       "    }\n",
       "</style>\n",
       "<table border=\"1\" class=\"dataframe\">\n",
       "  <thead>\n",
       "    <tr style=\"text-align: right;\">\n",
       "      <th></th>\n",
       "      <th>Nome</th>\n",
       "      <th>Algoritmo</th>\n",
       "      <th>ROC_AUC Score</th>\n",
       "      <th>AUC Score</th>\n",
       "      <th>Acurácia</th>\n",
       "    </tr>\n",
       "  </thead>\n",
       "  <tbody>\n",
       "    <tr>\n",
       "      <th>0</th>\n",
       "      <td>modelo_v1</td>\n",
       "      <td>Regressão Logística</td>\n",
       "      <td>0.672030</td>\n",
       "      <td>0.734901</td>\n",
       "      <td>0.638298</td>\n",
       "    </tr>\n",
       "    <tr>\n",
       "      <th>1</th>\n",
       "      <td>modelo_v2</td>\n",
       "      <td>Random Forest</td>\n",
       "      <td>0.605941</td>\n",
       "      <td>0.728342</td>\n",
       "      <td>0.695035</td>\n",
       "    </tr>\n",
       "    <tr>\n",
       "      <th>2</th>\n",
       "      <td>modelo_v3</td>\n",
       "      <td>KNN</td>\n",
       "      <td>0.537129</td>\n",
       "      <td>0.600495</td>\n",
       "      <td>0.553191</td>\n",
       "    </tr>\n",
       "    <tr>\n",
       "      <th>3</th>\n",
       "      <td>modelo_v4</td>\n",
       "      <td>Decision Tree</td>\n",
       "      <td>0.641832</td>\n",
       "      <td>0.692327</td>\n",
       "      <td>0.638298</td>\n",
       "    </tr>\n",
       "  </tbody>\n",
       "</table>\n",
       "</div>"
      ],
      "text/plain": [
       "        Nome            Algoritmo  ROC_AUC Score  AUC Score  Acurácia\n",
       "0  modelo_v1  Regressão Logística       0.672030   0.734901  0.638298\n",
       "1  modelo_v2        Random Forest       0.605941   0.728342  0.695035\n",
       "2  modelo_v3                  KNN       0.537129   0.600495  0.553191\n",
       "3  modelo_v4        Decision Tree       0.641832   0.692327  0.638298"
      ]
     },
     "metadata": {},
     "output_type": "display_data"
    }
   ],
   "source": [
    "display(df_modelos)"
   ]
  },
  {
   "cell_type": "markdown",
   "id": "0b7f6b52",
   "metadata": {},
   "source": [
    "### Construção, Treinamento e Avaliação do Modelo 5 com SVM"
   ]
  },
  {
   "cell_type": "markdown",
   "id": "b3ffa0be",
   "metadata": {},
   "source": [
    "https://scikit-learn.org/stable/modules/svm.html"
   ]
  },
  {
   "cell_type": "markdown",
   "id": "f6184d59",
   "metadata": {},
   "source": [
    "Para a quinta e última versão do modelo usaremos SVM."
   ]
  },
  {
   "cell_type": "code",
   "execution_count": 157,
   "id": "aee78206",
   "metadata": {},
   "outputs": [],
   "source": [
    "# Função para seleção de hiperparâmetros\n",
    "def svc_param_selection(X, y, nfolds):\n",
    "    Cs = [0.001, 0.01, 0.1, 1, 10]\n",
    "    gammas = [0.001, 0.01, 0.1, 1]\n",
    "    param_grid = {'C': Cs, 'gamma' : gammas}\n",
    "    grid_search = GridSearchCV(SVC(kernel = 'rbf'), param_grid, cv = nfolds)\n",
    "    grid_search.fit(X_treino, y_treino)\n",
    "    grid_search.best_params_\n",
    "    return grid_search.best_params_"
   ]
  },
  {
   "cell_type": "code",
   "execution_count": 158,
   "id": "de319d6e",
   "metadata": {},
   "outputs": [
    {
     "data": {
      "text/plain": [
       "{'C': 10, 'gamma': 1}"
      ]
     },
     "execution_count": 158,
     "metadata": {},
     "output_type": "execute_result"
    }
   ],
   "source": [
    "# Aplica a função\n",
    "svc_param_selection(X_treino, y_treino, 5)"
   ]
  },
  {
   "cell_type": "code",
   "execution_count": 159,
   "id": "82d3a127",
   "metadata": {},
   "outputs": [],
   "source": [
    "# Cria o modelo com os melhores hiperparâmetros\n",
    "modelo_v5 = SVC(C = 1, gamma = 1, probability = True)"
   ]
  },
  {
   "cell_type": "code",
   "execution_count": 160,
   "id": "b161e386",
   "metadata": {},
   "outputs": [
    {
     "data": {
      "text/plain": [
       "SVC(C=1, gamma=1, probability=True)"
      ]
     },
     "execution_count": 160,
     "metadata": {},
     "output_type": "execute_result"
    }
   ],
   "source": [
    "# Treinamento\n",
    "modelo_v5.fit(X_treino, y_treino)"
   ]
  },
  {
   "cell_type": "code",
   "execution_count": 161,
   "id": "d5ff7934",
   "metadata": {},
   "outputs": [],
   "source": [
    "# Previsões de classe\n",
    "y_pred_v5 = modelo_v5.predict(X_teste)"
   ]
  },
  {
   "cell_type": "code",
   "execution_count": 162,
   "id": "9610633c",
   "metadata": {},
   "outputs": [
    {
     "data": {
      "text/plain": [
       "array([[15, 25],\n",
       "       [25, 76]], dtype=int64)"
      ]
     },
     "execution_count": 162,
     "metadata": {},
     "output_type": "execute_result"
    }
   ],
   "source": [
    "confusion_matrix(y_teste, y_pred_v5)"
   ]
  },
  {
   "cell_type": "code",
   "execution_count": 163,
   "id": "45ec0f08",
   "metadata": {},
   "outputs": [],
   "source": [
    "# Previsões de probabilidade\n",
    "y_pred_proba_v5 = modelo_v5.predict_proba(X_teste)[:, 1]"
   ]
  },
  {
   "cell_type": "code",
   "execution_count": 164,
   "id": "b9aedab8",
   "metadata": {},
   "outputs": [
    {
     "name": "stdout",
     "output_type": "stream",
     "text": [
      "0.5637376237623762\n"
     ]
    }
   ],
   "source": [
    "# Calcula ROC AUC score\n",
    "roc_auc_v5 = roc_auc_score(y_teste, y_pred_v5)\n",
    "print(roc_auc_v5)"
   ]
  },
  {
   "cell_type": "code",
   "execution_count": 165,
   "id": "e06057d6",
   "metadata": {},
   "outputs": [],
   "source": [
    "# Calcula curva ROC\n",
    "fpr_v5, tpr_v5, thresholds = roc_curve(y_teste, y_pred_proba_v5)"
   ]
  },
  {
   "cell_type": "code",
   "execution_count": 166,
   "id": "6541c002",
   "metadata": {},
   "outputs": [
    {
     "name": "stdout",
     "output_type": "stream",
     "text": [
      "0.6051980198019802\n"
     ]
    }
   ],
   "source": [
    "# Calcula AUC score\n",
    "auc_v5 = auc(fpr_v5, tpr_v5)\n",
    "print(auc_v5)"
   ]
  },
  {
   "cell_type": "code",
   "execution_count": 167,
   "id": "fb0e64bf",
   "metadata": {},
   "outputs": [
    {
     "name": "stdout",
     "output_type": "stream",
     "text": [
      "0.6453900709219859\n"
     ]
    }
   ],
   "source": [
    "# Calcula acurácia\n",
    "acuracia_v5 = accuracy_score(y_teste, y_pred_v5)\n",
    "print(acuracia_v5)"
   ]
  },
  {
   "cell_type": "code",
   "execution_count": 168,
   "id": "a581c965",
   "metadata": {},
   "outputs": [],
   "source": [
    "# Salva o modelo em disco\n",
    "with open('modelos/modelo_v5.pkl', 'wb') as pickle_file:\n",
    "      joblib.dump(modelo_v5, 'modelos/modelo_v5.pkl') "
   ]
  },
  {
   "cell_type": "code",
   "execution_count": 169,
   "id": "9aa7584f",
   "metadata": {},
   "outputs": [],
   "source": [
    "# Dicionário com as métricas do modelo_v5\n",
    "dict_modelo_v5 = {'Nome': 'modelo_v5', \n",
    "                  'Algoritmo': 'SVM', \n",
    "                  'ROC_AUC Score': roc_auc_v5,\n",
    "                  'AUC Score': auc_v5,\n",
    "                  'Acurácia': acuracia_v5}"
   ]
  },
  {
   "cell_type": "code",
   "execution_count": 170,
   "id": "f50b9827",
   "metadata": {},
   "outputs": [],
   "source": [
    "# Adiciona o dict ao dataframe\n",
    "df_modelos = df_modelos.append(dict_modelo_v5, ignore_index = True)"
   ]
  },
  {
   "cell_type": "code",
   "execution_count": 171,
   "id": "144458a3",
   "metadata": {},
   "outputs": [
    {
     "data": {
      "text/html": [
       "<div>\n",
       "<style scoped>\n",
       "    .dataframe tbody tr th:only-of-type {\n",
       "        vertical-align: middle;\n",
       "    }\n",
       "\n",
       "    .dataframe tbody tr th {\n",
       "        vertical-align: top;\n",
       "    }\n",
       "\n",
       "    .dataframe thead th {\n",
       "        text-align: right;\n",
       "    }\n",
       "</style>\n",
       "<table border=\"1\" class=\"dataframe\">\n",
       "  <thead>\n",
       "    <tr style=\"text-align: right;\">\n",
       "      <th></th>\n",
       "      <th>Nome</th>\n",
       "      <th>Algoritmo</th>\n",
       "      <th>ROC_AUC Score</th>\n",
       "      <th>AUC Score</th>\n",
       "      <th>Acurácia</th>\n",
       "    </tr>\n",
       "  </thead>\n",
       "  <tbody>\n",
       "    <tr>\n",
       "      <th>0</th>\n",
       "      <td>modelo_v1</td>\n",
       "      <td>Regressão Logística</td>\n",
       "      <td>0.672030</td>\n",
       "      <td>0.734901</td>\n",
       "      <td>0.638298</td>\n",
       "    </tr>\n",
       "    <tr>\n",
       "      <th>1</th>\n",
       "      <td>modelo_v2</td>\n",
       "      <td>Random Forest</td>\n",
       "      <td>0.605941</td>\n",
       "      <td>0.728342</td>\n",
       "      <td>0.695035</td>\n",
       "    </tr>\n",
       "    <tr>\n",
       "      <th>2</th>\n",
       "      <td>modelo_v3</td>\n",
       "      <td>KNN</td>\n",
       "      <td>0.537129</td>\n",
       "      <td>0.600495</td>\n",
       "      <td>0.553191</td>\n",
       "    </tr>\n",
       "    <tr>\n",
       "      <th>3</th>\n",
       "      <td>modelo_v4</td>\n",
       "      <td>Decision Tree</td>\n",
       "      <td>0.641832</td>\n",
       "      <td>0.692327</td>\n",
       "      <td>0.638298</td>\n",
       "    </tr>\n",
       "    <tr>\n",
       "      <th>4</th>\n",
       "      <td>modelo_v5</td>\n",
       "      <td>SVM</td>\n",
       "      <td>0.563738</td>\n",
       "      <td>0.605198</td>\n",
       "      <td>0.645390</td>\n",
       "    </tr>\n",
       "  </tbody>\n",
       "</table>\n",
       "</div>"
      ],
      "text/plain": [
       "        Nome            Algoritmo  ROC_AUC Score  AUC Score  Acurácia\n",
       "0  modelo_v1  Regressão Logística       0.672030   0.734901  0.638298\n",
       "1  modelo_v2        Random Forest       0.605941   0.728342  0.695035\n",
       "2  modelo_v3                  KNN       0.537129   0.600495  0.553191\n",
       "3  modelo_v4        Decision Tree       0.641832   0.692327  0.638298\n",
       "4  modelo_v5                  SVM       0.563738   0.605198  0.645390"
      ]
     },
     "metadata": {},
     "output_type": "display_data"
    }
   ],
   "source": [
    "display(df_modelos)"
   ]
  },
  {
   "cell_type": "markdown",
   "id": "995b279d",
   "metadata": {},
   "source": [
    "### Seleção do Melhor Modelo"
   ]
  },
  {
   "cell_type": "code",
   "execution_count": 172,
   "id": "976ec057",
   "metadata": {},
   "outputs": [],
   "source": [
    "# Usaremos o modelo que teve o maior AUC Score, por se tratar de uma métrica global\n",
    "# O score AUC é o ideal para comparar modelos de diferentes algoritmos\n",
    "df_melhor_modelo = df_modelos[df_modelos['AUC Score'] == df_modelos['AUC Score'].max()]"
   ]
  },
  {
   "cell_type": "code",
   "execution_count": 173,
   "id": "697d12a4",
   "metadata": {},
   "outputs": [
    {
     "data": {
      "text/html": [
       "<div>\n",
       "<style scoped>\n",
       "    .dataframe tbody tr th:only-of-type {\n",
       "        vertical-align: middle;\n",
       "    }\n",
       "\n",
       "    .dataframe tbody tr th {\n",
       "        vertical-align: top;\n",
       "    }\n",
       "\n",
       "    .dataframe thead th {\n",
       "        text-align: right;\n",
       "    }\n",
       "</style>\n",
       "<table border=\"1\" class=\"dataframe\">\n",
       "  <thead>\n",
       "    <tr style=\"text-align: right;\">\n",
       "      <th></th>\n",
       "      <th>Nome</th>\n",
       "      <th>Algoritmo</th>\n",
       "      <th>ROC_AUC Score</th>\n",
       "      <th>AUC Score</th>\n",
       "      <th>Acurácia</th>\n",
       "    </tr>\n",
       "  </thead>\n",
       "  <tbody>\n",
       "    <tr>\n",
       "      <th>0</th>\n",
       "      <td>modelo_v1</td>\n",
       "      <td>Regressão Logística</td>\n",
       "      <td>0.67203</td>\n",
       "      <td>0.734901</td>\n",
       "      <td>0.638298</td>\n",
       "    </tr>\n",
       "  </tbody>\n",
       "</table>\n",
       "</div>"
      ],
      "text/plain": [
       "        Nome            Algoritmo  ROC_AUC Score  AUC Score  Acurácia\n",
       "0  modelo_v1  Regressão Logística        0.67203   0.734901  0.638298"
      ]
     },
     "execution_count": 173,
     "metadata": {},
     "output_type": "execute_result"
    }
   ],
   "source": [
    "df_melhor_modelo"
   ]
  },
  {
   "cell_type": "markdown",
   "id": "bd883e8d",
   "metadata": {},
   "source": [
    "## Previsões com o Melhor Modelo Treinado"
   ]
  },
  {
   "cell_type": "code",
   "execution_count": 174,
   "id": "7c80fe34",
   "metadata": {},
   "outputs": [
    {
     "data": {
      "text/plain": [
       "'modelo_v1'"
      ]
     },
     "execution_count": 174,
     "metadata": {},
     "output_type": "execute_result"
    }
   ],
   "source": [
    "# Obtemos o nome do melhor modelo\n",
    "modelo = df_melhor_modelo.Nome.to_string(index = False)\n",
    "modelo"
   ]
  },
  {
   "cell_type": "code",
   "execution_count": 175,
   "id": "e128944f",
   "metadata": {},
   "outputs": [
    {
     "data": {
      "text/plain": [
       "LogisticRegression(C=1)"
      ]
     },
     "execution_count": 175,
     "metadata": {},
     "output_type": "execute_result"
    }
   ],
   "source": [
    "# Carregamos o melhor modelo do disco\n",
    "melhor_modelo = joblib.load('modelos/' + modelo + '.pkl')\n",
    "melhor_modelo"
   ]
  },
  {
   "cell_type": "code",
   "execution_count": 176,
   "id": "f3c09a06",
   "metadata": {},
   "outputs": [
    {
     "data": {
      "text/plain": [
       "Index(['Age', 'Gender', 'Total_Bilirubin', 'Alkaline_Phosphotase',\n",
       "       'Alamine_Aminotransferase', 'Aspartate_Aminotransferase',\n",
       "       'Total_Protiens', 'Albumin', 'Albumin_and_Globulin_Ratio', 'Target'],\n",
       "      dtype='object')"
      ]
     },
     "execution_count": 176,
     "metadata": {},
     "output_type": "execute_result"
    }
   ],
   "source": [
    "dados.columns"
   ]
  },
  {
   "cell_type": "code",
   "execution_count": 177,
   "id": "6b37331a",
   "metadata": {},
   "outputs": [],
   "source": [
    "# Dados brutos de um novo paciente\n",
    "# O número de colunas deve ser o mesmo do que foi usado em treino\n",
    "novo_paciente = [72, 1, 0.8, 186, 15, 29, 7.1, 3.4, 0.97]"
   ]
  },
  {
   "cell_type": "code",
   "execution_count": 178,
   "id": "a6ce2fbd",
   "metadata": {},
   "outputs": [],
   "source": [
    "# Converte o objeto para array\n",
    "arr_paciente = np.array(novo_paciente)"
   ]
  },
  {
   "cell_type": "code",
   "execution_count": 179,
   "id": "62a55da8",
   "metadata": {},
   "outputs": [],
   "source": [
    "# Usamos média e desvio de treino para padronizar novos dados\n",
    "arr_paciente = (arr_paciente - treino_mean) / treino_std"
   ]
  },
  {
   "cell_type": "code",
   "execution_count": 180,
   "id": "4f1e60e9",
   "metadata": {},
   "outputs": [],
   "source": [
    "# Converte o objeto para array\n",
    "arr_paciente = np.array(arr_paciente)"
   ]
  },
  {
   "cell_type": "code",
   "execution_count": 181,
   "id": "c612cb78",
   "metadata": {},
   "outputs": [
    {
     "data": {
      "text/plain": [
       "array([ 1.70670473,  1.96174293, -0.33146399, -0.36690295, -0.33930705,\n",
       "       -0.33676126,  0.60177141,  0.23292807, -0.08293163])"
      ]
     },
     "execution_count": 181,
     "metadata": {},
     "output_type": "execute_result"
    }
   ],
   "source": [
    "# Dados do paciente padronizados (exatamente como o modelo espera receber os dados)\n",
    "arr_paciente"
   ]
  },
  {
   "cell_type": "code",
   "execution_count": 182,
   "id": "dbfe16d7",
   "metadata": {},
   "outputs": [],
   "source": [
    "# Previsões de classe (por que a linha abaixo apresenta erro?)\n",
    "#pred_novo_paciente = melhor_modelo.predict(arr_paciente)"
   ]
  },
  {
   "cell_type": "code",
   "execution_count": 183,
   "id": "bebde689",
   "metadata": {},
   "outputs": [],
   "source": [
    "# Previsões de classe\n",
    "pred_novo_paciente = melhor_modelo.predict(arr_paciente.reshape(1, -1))"
   ]
  },
  {
   "cell_type": "code",
   "execution_count": 184,
   "id": "98f5d4e8",
   "metadata": {},
   "outputs": [
    {
     "name": "stdout",
     "output_type": "stream",
     "text": [
      "Este paciente deve apresentar doença hepática!\n"
     ]
    }
   ],
   "source": [
    "# Verifica o valor e imprime o resultado final\n",
    "if pred_novo_paciente == 1:\n",
    "    print('Este paciente deve apresentar doença hepática!')\n",
    "else:\n",
    "    print('Este paciente não deve apresentar doença hepática!')"
   ]
  }
 ],
 "metadata": {
  "kernelspec": {
   "display_name": "Python 3 (ipykernel)",
   "language": "python",
   "name": "python3"
  },
  "language_info": {
   "codemirror_mode": {
    "name": "ipython",
    "version": 3
   },
   "file_extension": ".py",
   "mimetype": "text/x-python",
   "name": "python",
   "nbconvert_exporter": "python",
   "pygments_lexer": "ipython3",
   "version": "3.9.13"
  }
 },
 "nbformat": 4,
 "nbformat_minor": 5
}
